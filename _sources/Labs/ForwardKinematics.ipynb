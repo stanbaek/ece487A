{
 "cells": [
  {
   "cell_type": "markdown",
   "id": "aecaa918",
   "metadata": {},
   "source": [
    "# ECE387 Lab 2: Forward Kinematics\n",
    "### A note on this document\n",
    "This document is known as a Jupyter notebook; it is used in academia and industry to allow text and executable code to coexist in a very easy to read format. Blocks can contain text or code, and for blocks containing code, press `Shift + Enter` to run the code. Earlier blocks of code need to be run for the later blocks of code to work."
   ]
  },
  {
   "cell_type": "markdown",
   "id": "b3330d45",
   "metadata": {},
   "source": [
    "### Objectives\n",
    "The purpose of this lab is to compare the theoretical solution to the forward kinematics problem with a physical implementation on the robotic arm shown in the figure below.  \n",
    "<img src=\"figs/xArm.jpg\" alt=\"Drawing\" style=\"width: 300px;\"/>\n",
    "\n",
    "In this lab, you will  \n",
    "- Parameterize the robotic arm following the Denavit-Hartenberg (DH) convention.\n",
    "- Use Python to compute the forward kinematic equations for the robot.\n",
    "- Write a Python script that moves the robot to the configurations specified by the user."
   ]
  },
  {
   "cell_type": "markdown",
   "id": "f1c05334",
   "metadata": {},
   "source": [
    "### Prelab (Homework 17): Forward kinematics of 5 DoF robotic arm\n",
    "\n",
    "Use the schematic diagram shown in the figure below to find the forward kinematics of the robotic manipulator. \n",
    "\n",
    "<img src=\"figs/xArm.png\" alt=\"Drawing\" style=\"width: 600px;\"/>"
   ]
  },
  {
   "cell_type": "markdown",
   "id": "87a1203b",
   "metadata": {},
   "source": [
    "### Python simulation for robotic arm\n",
    "\n",
    "Use Python to create an instance of the robotic arm. Download xArm.py from Teams and complete the constructor of XArm. XArm is a subclass of `DHRobot`.  You need to use your DH table to create a `DHRobot` object.  Since XArm is a subclass of `DHRobot`, you can use all the methods and properties defined in `DHRobot`. "
   ]
  },
  {
   "cell_type": "code",
   "execution_count": null,
   "id": "ab3fab62",
   "metadata": {},
   "outputs": [],
   "source": [
    "def __init__(self, simulation_only=False):\n",
    "\n",
    "    self.B0 = 0.090\n",
    "    self.L0 = 0.010\n",
    "    self.L1 = 0.105\n",
    "    self.L2 = 0.088\n",
    "    self.L3 = 0.174\n",
    "\n",
    "    self.ordered_joints = ('base', 'shoulder', 'elbow', 'wpitch', 'wroll')\n",
    "\n",
    "    super().__init__(\n",
    "        [rbt.RevoluteMDH(d=self.B0),\n",
    "         \"\"\"\n",
    "         write your code here\n",
    "         \"\"\"\n",
    "         ],\n",
    "        name=\"xArm\"\n",
    "    )"
   ]
  },
  {
   "cell_type": "markdown",
   "id": "1b5034bb",
   "metadata": {},
   "source": [
    "Find the forward kinematics and generate plots for the following configurations in xArm.py"
   ]
  },
  {
   "cell_type": "code",
   "execution_count": 2,
   "id": "528fe401",
   "metadata": {},
   "outputs": [],
   "source": [
    "def test_forward_kinematics():\n",
    "    robot = XArm(simulation_only=True)\n",
    "\n",
    "    q = list()\n",
    "    q.append([0, pi/2, 0, 0, 0])  # rest position\n",
    "    q.append([0, 0, 0, 0, 0])     # zero position\n",
    "    q.append([0, pi/2, -pi/2, 0, 0])\n",
    "    q.append([0, pi/2, pi/2, 0, 0])\n",
    "    q.append([0, pi/2, 0, -pi/2, 0])\n",
    "    q.append([0, pi/2, 0, pi/2, 0])\n",
    "    q.append([0, pi/2, 0, 0, -pi/2])\n",
    "    q.append([0, pi/2, 0, 0, pi/2])\n",
    "    q.append([-pi/2, pi/2, -pi/2, 0, -pi/2])\n",
    "    q.append([pi/2, pi/2, pi/2, 0, pi/2])\n",
    "    \n",
    "    \"\"\"\n",
    "    Write your code to find the forward kinematics and generate plots\n",
    "    \"\"\"\n"
   ]
  },
  {
   "cell_type": "markdown",
   "id": "b8762d9c",
   "metadata": {},
   "source": [
    "**Deliverable 1**: Submit the pose (position and orientation) of the tooltip for each configuration. Do not submit the figures."
   ]
  },
  {
   "cell_type": "markdown",
   "id": "79215781",
   "metadata": {},
   "source": [
    "### Physical Implementation of Forward Kinematics for Robotic Arm\n",
    "\n",
    "Carefully read the following functions inside xArm.py.\n",
    "- def joint_to_servo_angles(self, joint_angles, joint_names=None):\n",
    "- def servo_angles_to_positions(self, servo_angles, joint_names=None):\n",
    "- def get_servo_command(self, duration_ms, servo_positions, joint_names=None):\n",
    "- def send_command(self, command):\n",
    "- def move_joints(self, duration_ms, joint_angles, joint_names=None, wait=True):\n",
    "- def move_to_initial_pose(self, duration_ms, wait=True):\n",
    "\n",
    "Comment out the first line after `__name__ == '__main__':`, which is located at the bottom of the code, and \n",
    "uncomment the second line.  \n",
    "\n",
    "```\n",
    "if __name__ == '__main__':\n",
    "    test_forward_kinematics()         <--  COMMENT OUT\n",
    "    # test_servo_position_command()   <--  UNCOMMENT\n",
    "    # test_servo_angle_command()\n",
    "    # test_move_joints()\n",
    "```\n",
    "\n",
    "Carefully look at the joint angles for the corresponding servo angles.  Find the mathematical relationshop between servo angles ($\\alpha_i$) and joint angles ($\\theta_i$).  \n",
    "\n",
    "**Deliverable 2**: For each joint, report the mathematical equation for $\\theta$ in terms of $\\alpha$."
   ]
  },
  {
   "cell_type": "markdown",
   "id": "45d66ce8",
   "metadata": {},
   "source": [
    "Comment out the first two lines after `__name__ == '__main__':` and uncomment the third line.  \n",
    "\n",
    "```\n",
    "if __name__ == '__main__':\n",
    "    test_forward_kinematics()         <--  COMMENT OUT\n",
    "    # test_servo_position_command()   <--  COMMENT OUT\n",
    "    # test_servo_angle_command()      <--  UNCOMMENT\n",
    "    # test_move_joints()\n",
    "```\n",
    "\n",
    "Read `def test_servo_angle_command():` and complete the rest of the function.\n",
    "\n",
    "\n",
    "**Deliverable 3**: For each joint, report the mathematical equation for $\\theta$ in terms of $\\alpha$."
   ]
  },
  {
   "cell_type": "markdown",
   "id": "d6316deb",
   "metadata": {},
   "source": [
    "Comment out the first three lines after `__name__ == '__main__':` and uncomment the last line.  \n",
    "\n",
    "```\n",
    "if __name__ == '__main__':\n",
    "    test_forward_kinematics()         <--  COMMENT OUT\n",
    "    # test_servo_position_command()   <--  COMMENT OUT\n",
    "    # test_servo_angle_command()      <--  COMMENT OUT\n",
    "    # test_move_joints()              <--  UNCOMMENT\n",
    "```\n",
    "\n",
    "Update the following two lines inside the constructor, ` def __init__(self, simulation_only=False):`\n",
    "\n",
    "```\n",
    "    # alpha = direction * theta + offset\n",
    "    # where alpha is the servo angle and theta is the joint angle.\n",
    "    self.joint_servo_offset = (0, 0, 0, 0, 0)\n",
    "    self.joint_servo_direction = (1, 1, 1, 1, 1)\n",
    "```\n",
    "\n",
    "Read `def test_move_joints():` and complete the rest of the function.\n",
    "\n",
    "\n",
    "**Deliverable 4**: Demo your robot moving the joints as described in the function."
   ]
  },
  {
   "cell_type": "markdown",
   "id": "2501b7ac",
   "metadata": {},
   "source": [
    "Go to `def test_forward_kinematics():` and replace `True` with `False` in the following line.\n",
    "```\n",
    "   robot = XArm(simulation_only=True)  <-- change it to False\n",
    "```    \n",
    "    \n",
    "Uncomment the first line after `__name__ == '__main__':` and comment out the rest. \n",
    "Excute the code and use a ruler to measure the position of the tool-tip.  Compare the measure vaules with the calcualted vaules.  \n",
    "\n",
    "**Deliverable 5**  Report the measured values and the calculated values.  What is the average error?  \n",
    "\n"
   ]
  },
  {
   "cell_type": "code",
   "execution_count": null,
   "id": "468f61ca",
   "metadata": {},
   "outputs": [],
   "source": []
  }
 ],
 "metadata": {
  "kernelspec": {
   "display_name": "Python 3 (ipykernel)",
   "language": "python",
   "name": "python3"
  },
  "language_info": {
   "codemirror_mode": {
    "name": "ipython",
    "version": 3
   },
   "file_extension": ".py",
   "mimetype": "text/x-python",
   "name": "python",
   "nbconvert_exporter": "python",
   "pygments_lexer": "ipython3",
   "version": "3.8.2"
  }
 },
 "nbformat": 4,
 "nbformat_minor": 5
}
