{
 "cells": [
  {
   "cell_type": "markdown",
   "metadata": {},
   "source": [
    "<a target=\"_blank\" rel=\"noopener noreferrer\" href=\"https://colab.research.google.com/github/stanbaek/ece487/blob/main/docs/Labs/PythonContainers.ipynb\">![Open In Colab](https://colab.research.google.com/assets/colab-badge.svg)</a>\n",
    "\n",
    "# Python Containers & Numpy"
   ]
  },
  {
   "cell_type": "markdown",
   "metadata": {},
   "source": [
    "## Purpose\n",
    "This in-class exercise (ICE) will introduce Python data containers, such as lists, tuples, and strings.  It will also introduce NumPy, a fundametal package for scientific computing in Python."
   ]
  },
  {
   "cell_type": "markdown",
   "metadata": {},
   "source": [
    "<hr>"
   ]
  },
  {
   "cell_type": "markdown",
   "metadata": {},
   "source": [
    "## Strings, Lists, Tuples, and Dictionaries\n",
    "\n",
    "Reference: D. Beazley, Python Essential Reference, 4th ed, Addison Wesley, 2009"
   ]
  },
  {
   "cell_type": "markdown",
   "metadata": {},
   "source": [
    "### Strings\n",
    "\n",
    "To create string literals, enclose them in single, double, or triple quotes as follows"
   ]
  },
  {
   "cell_type": "code",
   "execution_count": 1,
   "metadata": {},
   "outputs": [
    {
     "name": "stdout",
     "output_type": "stream",
     "text": [
      "Hellow World\n",
      "Python is groovy\n",
      "Computer says 'No'\n"
     ]
    }
   ],
   "source": [
    "a = \"Hellow World\"\n",
    "b = 'Python is groovy'\n",
    "c = \"\"\"Computer says 'No'\"\"\"\n",
    "print(a)\n",
    "print(b)\n",
    "print(c)"
   ]
  },
  {
   "cell_type": "markdown",
   "metadata": {},
   "source": [
    "The same type of quote used to start a string must be used to terminate it.  Triple-quoted strings capture all the text that appears prior to the terminating triple quote, as opposed to single- and double-quoted strings, which must be  specified on one logical line.  Triple-quoted strings are useful when the contents of a string literal span multiple lines of text such as the following:"
   ]
  },
  {
   "cell_type": "code",
   "execution_count": null,
   "metadata": {},
   "outputs": [],
   "source": [
    "print('''Content-type: text/html\n",
    "\n",
    "<h1> Hello World </h1>\n",
    "Click <a href=\"http://www.python.org\">here</a>.\n",
    "''')"
   ]
  },
  {
   "cell_type": "markdown",
   "metadata": {},
   "source": [
    "Strings are stored as sequences of characters indexed by integers starting at zero"
   ]
  },
  {
   "cell_type": "code",
   "execution_count": 1,
   "metadata": {},
   "outputs": [
    {
     "name": "stdout",
     "output_type": "stream",
     "text": [
      "o\n",
      "Hello\n",
      "World\n",
      "lo Wo\n"
     ]
    }
   ],
   "source": [
    "a = \"Hello World\"\n",
    "print(a[4])\n",
    "print(a[:5])\n",
    "print(a[6:])\n",
    "print(a[3:8])"
   ]
  },
  {
   "cell_type": "code",
   "execution_count": 8,
   "metadata": {},
   "outputs": [
    {
     "name": "stdout",
     "output_type": "stream",
     "text": [
      "3742\n",
      "79\n"
     ]
    }
   ],
   "source": [
    "x = \"37\"\n",
    "y = \"42\"\n",
    "z = x+y\n",
    "print(z) # what does this print?  why?\n",
    "z = int(x)+int(y)\n",
    "print(z)  # what does this print?"
   ]
  },
  {
   "cell_type": "markdown",
   "metadata": {},
   "source": [
    "### Lists\n",
    "Lists are sequences of arbitrary objects. You create a list by enclosing values in square brackets, as follows:"
   ]
  },
  {
   "cell_type": "code",
   "execution_count": 8,
   "metadata": {},
   "outputs": [
    {
     "name": "stdout",
     "output_type": "stream",
     "text": [
      "['Dave', 'Mark', 'Ann', 'Phil']\n"
     ]
    }
   ],
   "source": [
    "names = [\"Dave\", \"Mark\", \"Ann\", \"Phil\"]\n",
    "print(names)"
   ]
  },
  {
   "cell_type": "markdown",
   "metadata": {},
   "source": [
    "Lists are indexed by integers, starting with zero. Use the indexing operator to access and modify individual items of the list:"
   ]
  },
  {
   "cell_type": "code",
   "execution_count": 9,
   "metadata": {},
   "outputs": [
    {
     "name": "stdout",
     "output_type": "stream",
     "text": [
      "Ann\n",
      "['Jeff', 'Mark', 'Thomas', 'Ann', 'Phil', 'Paula']\n"
     ]
    }
   ],
   "source": [
    "a = names[2]\n",
    "print(a)\n",
    "names[0] = \"Jeff\"\n",
    "names.append(\"Paula\")\n",
    "names.insert(2, \"Thomas\")\n",
    "print(names)"
   ]
  },
  {
   "cell_type": "markdown",
   "metadata": {},
   "source": [
    "Lists can be sliced:\n",
    "```Python\n",
    "x[start:stop:stride]\n",
    "```"
   ]
  },
  {
   "cell_type": "code",
   "execution_count": 10,
   "metadata": {},
   "outputs": [
    {
     "name": "stdout",
     "output_type": "stream",
     "text": [
      "['Jeff', 'Mark']\n",
      "['Thomas', 'Ann', 'Phil', 'Paula']\n",
      "['Jeff', 'Jeff', 'Thomas', 'Ann', 'Phil', 'Paula']\n",
      "['Dave', 'Mark', 'Jeff', 'Thomas', 'Ann', 'Phil', 'Paula']\n"
     ]
    }
   ],
   "source": [
    "b = names[0:2]\n",
    "print(b)\n",
    "c = names[2:]\n",
    "print(c)\n",
    "names[1] = 'Jeff'\n",
    "print(names)\n",
    "names[0:2] = ['Dave', 'Mark', 'Jeff']\n",
    "print(names)"
   ]
  },
  {
   "cell_type": "markdown",
   "metadata": {},
   "source": [
    "Use the plus `+` operator to concatenate lists: "
   ]
  },
  {
   "cell_type": "code",
   "execution_count": 11,
   "metadata": {},
   "outputs": [
    {
     "name": "stdout",
     "output_type": "stream",
     "text": [
      "[1, 2, 3, 4, 5, 6]\n"
     ]
    }
   ],
   "source": [
    "a = [1,2,3]+[4,5,6]\n",
    "print(a)"
   ]
  },
  {
   "cell_type": "markdown",
   "metadata": {},
   "source": [
    "An empty list can be created bin one of two ways"
   ]
  },
  {
   "cell_type": "code",
   "execution_count": 5,
   "metadata": {},
   "outputs": [
    {
     "name": "stdout",
     "output_type": "stream",
     "text": [
      "[]\n",
      "[]\n"
     ]
    }
   ],
   "source": [
    "names = []\n",
    "print(names)\n",
    "names = list()\n",
    "print(names)"
   ]
  },
  {
   "cell_type": "markdown",
   "metadata": {},
   "source": [
    "Lists can contain any kind of Python object, including other lists, as in the following example:"
   ]
  },
  {
   "cell_type": "code",
   "execution_count": 6,
   "metadata": {},
   "outputs": [],
   "source": [
    "a = [1, \"Dave\", 3.14, [\"Mark\", 7, 9, [0, 101]], 10]"
   ]
  },
  {
   "cell_type": "markdown",
   "metadata": {},
   "source": [
    "Items contained in nested lists are accessed by applying more than one indexing operation, as follows:"
   ]
  },
  {
   "cell_type": "code",
   "execution_count": null,
   "metadata": {},
   "outputs": [],
   "source": [
    "print(a[1])\n",
    "print(a[3])\n",
    "print(a[3][1])\n",
    "print(a[3][3][1])"
   ]
  },
  {
   "cell_type": "markdown",
   "metadata": {},
   "source": [
    "Objects can be inserted and appended to a list."
   ]
  },
  {
   "cell_type": "code",
   "execution_count": null,
   "metadata": {},
   "outputs": [],
   "source": [
    "# List methods (insert)\n",
    "list_b.insert(2,'python')\n",
    "print(list_b)"
   ]
  },
  {
   "cell_type": "code",
   "execution_count": null,
   "metadata": {},
   "outputs": [],
   "source": [
    "# List methods (append)\n",
    "list_b.append('.')\n",
    "print(list_b)"
   ]
  },
  {
   "cell_type": "markdown",
   "metadata": {
    "tags": []
   },
   "source": [
    "### Tuples\n",
    "To create sinple data structures, you can pack a collection of values together into a single object using a *tuple*. You can create a tuple by enclosing group of values in parentheses like this: "
   ]
  },
  {
   "cell_type": "code",
   "execution_count": 12,
   "metadata": {},
   "outputs": [],
   "source": [
    "stock = (\"GOOG\", 100, 490.10)\n",
    "address = ('www.python.org', 80)\n",
    "person = (\"Stan\", \"Baek\", \"stanley.baek@afacademy\")"
   ]
  },
  {
   "cell_type": "markdown",
   "metadata": {},
   "source": [
    "Python often recognizes that a tuple is intended enve if the parentheses are missing"
   ]
  },
  {
   "cell_type": "code",
   "execution_count": 13,
   "metadata": {},
   "outputs": [],
   "source": [
    "stock = \"GOOG\", 100, 490.10\n",
    "address = 'www.python.org', 80\n",
    "person = \"Stan\", \"Baek\", \"stanley.baek@afacademy\""
   ]
  },
  {
   "cell_type": "markdown",
   "metadata": {},
   "source": [
    "For completeness, 0- and 1-element tuples can be defined, but have special syntax:"
   ]
  },
  {
   "cell_type": "code",
   "execution_count": 14,
   "metadata": {},
   "outputs": [
    {
     "name": "stdout",
     "output_type": "stream",
     "text": [
      "<class 'tuple'>\n",
      "<class 'tuple'>\n",
      "<class 'tuple'>\n",
      "<class 'int'>\n",
      "<class 'int'>\n"
     ]
    }
   ],
   "source": [
    "a = ()    # 0-tuple, empty tuple\n",
    "b = (1,)  # 1-tuple  \n",
    "c = 1,    # 1-tuple\n",
    "print(type(a))\n",
    "print(type(b))\n",
    "print(type(c))\n",
    "b = (1)\n",
    "c = 1\n",
    "print(type(b))\n",
    "print(type(c))"
   ]
  },
  {
   "cell_type": "markdown",
   "metadata": {},
   "source": [
    "The values in a tuple can be extracted by numerical index just like a list. However, it is more common to unpack tuples into a set of variables like this"
   ]
  },
  {
   "cell_type": "code",
   "execution_count": 15,
   "metadata": {},
   "outputs": [],
   "source": [
    "name, shares, price = stock\n",
    "host, port = address\n",
    "first_name, last_name, phone = person"
   ]
  },
  {
   "cell_type": "markdown",
   "metadata": {},
   "source": [
    "Although tuples support most of the same operations as lists, such as indexing, slicing, and concatenation, the contents of a utple cannot be modified after creation.  That is, you cannot replace, delete, or append new elements to an exisiting tuple. "
   ]
  },
  {
   "cell_type": "code",
   "execution_count": 16,
   "metadata": {},
   "outputs": [
    {
     "name": "stdout",
     "output_type": "stream",
     "text": [
      "100\n"
     ]
    },
    {
     "ename": "TypeError",
     "evalue": "'tuple' object does not support item assignment",
     "output_type": "error",
     "traceback": [
      "\u001b[1;31m---------------------------------------------------------------------------\u001b[0m",
      "\u001b[1;31mTypeError\u001b[0m                                 Traceback (most recent call last)",
      "Input \u001b[1;32mIn [16]\u001b[0m, in \u001b[0;36m<module>\u001b[1;34m\u001b[0m\n\u001b[0;32m      1\u001b[0m \u001b[38;5;28mprint\u001b[39m(stock[\u001b[38;5;241m1\u001b[39m]) \n\u001b[1;32m----> 2\u001b[0m stock[\u001b[38;5;241m1\u001b[39m] \u001b[38;5;241m=\u001b[39m \u001b[38;5;241m200\u001b[39m\n",
      "\u001b[1;31mTypeError\u001b[0m: 'tuple' object does not support item assignment"
     ]
    }
   ],
   "source": [
    "print(stock[1]) \n",
    "stock[1] = 200  # error"
   ]
  },
  {
   "cell_type": "markdown",
   "metadata": {},
   "source": [
    "### Dictionaries\n",
    "- In Python, a dictionary (or dict) is mapping between a set of indices (keys) and a set of values\n",
    "- The items in a dictionary are key-value pairs\n",
    "- Keys can be any Python data type\n",
    "- Dictionaries are unordered"
   ]
  },
  {
   "cell_type": "code",
   "execution_count": 1,
   "metadata": {
    "scrolled": true,
    "tags": []
   },
   "outputs": [
    {
     "name": "stdout",
     "output_type": "stream",
     "text": [
      "{'one': 'uno'}\n"
     ]
    }
   ],
   "source": [
    "# Dictionaries\n",
    "eng2sp = {}\n",
    "eng2sp['one'] = 'uno'\n",
    "print(eng2sp)"
   ]
  },
  {
   "cell_type": "code",
   "execution_count": 18,
   "metadata": {},
   "outputs": [
    {
     "name": "stdout",
     "output_type": "stream",
     "text": [
      "{'one': 'uno', 'two': 'dos', 'three': 'tres'}\n"
     ]
    }
   ],
   "source": [
    "eng2sp = {'one': 'uno', 'two': 'dos', 'three': 'tres'}\n",
    "print(eng2sp)"
   ]
  },
  {
   "cell_type": "code",
   "execution_count": 19,
   "metadata": {},
   "outputs": [
    {
     "name": "stdout",
     "output_type": "stream",
     "text": [
      "dict_keys(['one', 'two', 'three'])\n",
      "dict_values(['uno', 'dos', 'tres'])\n"
     ]
    }
   ],
   "source": [
    "# keys vs values\n",
    "print(eng2sp.keys())\n",
    "print(eng2sp.values())"
   ]
  },
  {
   "cell_type": "markdown",
   "metadata": {},
   "source": [
    "<hr>"
   ]
  },
  {
   "cell_type": "markdown",
   "metadata": {
    "tags": []
   },
   "source": [
    "## NumPy"
   ]
  },
  {
   "cell_type": "markdown",
   "metadata": {},
   "source": [
    "NumPy’s main object is the homogeneous multidimensional array. It is a table of elements (usually numbers), all of the same type. In NumPy dimensions are called axes.\n",
    "\n",
    "For example, the array for the coordinates of a point in 3D space, ```[1, 2, 1]```, has one axis. That axis has 3 elements in it, so we say it has a length of 3. In the example pictured below, the array has 2 axes. The first axis has a length of 2, the second axis has a length of 3.\n",
    "```\n",
    "[[1., 0., 0.],\n",
    " [0., 1., 2.]]\n",
    " ```\n",
    " \n",
    "Reference: ```https://numpy.org/doc/stable/user/quickstart.html```"
   ]
  },
  {
   "cell_type": "markdown",
   "metadata": {},
   "source": [
    "### Installing NumPy System-wide\n",
    "Open Windows Terminal and run\n",
    "```\n",
    "pip install numpy\n",
    "```\n",
    "If it returns an error message similar to\n",
    "```\n",
    "WARNING: You are using pip version 21.3.1; however, version 22.0 is available.\n",
    "You should consider upgrading via the 'c:\\program files\\python38\\python.exe -m pip install --upgrade pip' command.\n",
    "```\n",
    "run\n",
    "```\n",
    "python.exe -m pip install --upgrade pip\n",
    "\n",
    "```"
   ]
  },
  {
   "cell_type": "markdown",
   "metadata": {},
   "source": [
    "### Installing NumPy for PyCharm Projects \n",
    "Open Your PyCharm project. Then, go to File > Settings > Project > Python Interpreter. Click `+` as shown below \n",
    "\n",
    "\n",
    "\n",
    "![SQRT](../images/PythonInterpreter.png)\n",
    "\n",
    "\n",
    "Search for `numpy` and choose the `numpy` package. Click `Install Package` at the bottom.  Once the installation is complete, it will display `Package 'numpy' installed successfully`.  Close the window. `numpy` should be on the intalled packages list. \n",
    "\n",
    "In the future, you need to run the same procedure to install packages in PyCharm.  The packages we need include spatialmath-python, matplotlib, roboticstoolbox-python, and opencv-python."
   ]
  },
  {
   "cell_type": "markdown",
   "metadata": {},
   "source": [
    "### Creating Array\n",
    "You can create an array from a regular Python list or tuple using the array function. The type of the resulting array is deduced from the type of the elements in the sequences."
   ]
  },
  {
   "cell_type": "code",
   "execution_count": null,
   "metadata": {},
   "outputs": [],
   "source": [
    "import numpy as np\n",
    "a = np.array([2, 3, 4])\n",
    "print(type(a))\n",
    "print(a.dtype)\n",
    "b = np.array([1.2, 3.5, 5.1])\n",
    "print(type(b))\n",
    "print(b.dtype)"
   ]
  },
  {
   "cell_type": "markdown",
   "metadata": {},
   "source": [
    "A frequent error consists in calling array with multiple arguments, rather than providing a single sequence as an argument\n",
    "```Python\n",
    "a = np.array(1, 2, 3, 4)    # WRONG\n",
    "Traceback (most recent call last):\n",
    "  ...\n",
    "TypeError: array() takes from 1 to 2 positional arguments but 4 were given\n",
    "a = np.array([1, 2, 3, 4])  # RIGHT\n",
    "```"
   ]
  },
  {
   "cell_type": "markdown",
   "metadata": {},
   "source": [
    "`np.array` transforms sequences of sequences into two-dimensional arrays, sequences of sequences of sequences into three-dimensional arrays, and so on."
   ]
  },
  {
   "cell_type": "code",
   "execution_count": null,
   "metadata": {},
   "outputs": [],
   "source": [
    "b = np.array([(1.5, 2, 3), (4, 5, 6)])\n",
    "print(b)\n",
    "print(b[0])\n",
    "print(b[0][0]) \n",
    "print(b[0,0])"
   ]
  },
  {
   "cell_type": "markdown",
   "metadata": {},
   "source": [
    "The function `np.zeros` creates an array full of zeros, the function ones creates an array full of ones, and the function empty creates an array whose initial content is random and depends on the state of the memory. By default, the dtype of the created array is float64, but it can be specified via the key word argument dtype."
   ]
  },
  {
   "cell_type": "code",
   "execution_count": null,
   "metadata": {},
   "outputs": [],
   "source": [
    "a = np.zeros((2, 6))\n",
    "print(a)\n",
    "b = np.ones((2, 3, 4), dtype=np.int16)\n",
    "print(b)\n",
    "c = np.empty((4, 5))\n",
    "print(c)"
   ]
  },
  {
   "cell_type": "markdown",
   "metadata": {},
   "source": [
    "To create sequences of numbers, NumPy provides the `arange` function which is analogous to the Python built-in range, but returns an array."
   ]
  },
  {
   "cell_type": "code",
   "execution_count": null,
   "metadata": {},
   "outputs": [],
   "source": [
    "a = np.arange(10, 30, 5)  \n",
    "print(a)\n",
    "b = np.arange(0, 2, 0.3)  \n",
    "print(b)"
   ]
  },
  {
   "cell_type": "markdown",
   "metadata": {},
   "source": [
    "When `arange` is used with floating point arguments, it is generally not possible to predict the number of elements obtained, due to the finite floating point precision. For this reason, it is usually better to use the function `linspace` that receives as an argument the number of elements that we want, instead of the step:"
   ]
  },
  {
   "cell_type": "code",
   "execution_count": null,
   "metadata": {},
   "outputs": [],
   "source": [
    "a = np.linspace(0, 2, 9)                   # 9 numbers from 0 to 2\n",
    "print(a)\n",
    "b = np.linspace(0, 2 * np.pi, 100)        # useful to evaluate function at lots of points\n",
    "print(b)"
   ]
  },
  {
   "cell_type": "markdown",
   "metadata": {},
   "source": [
    "### Basic Operations\n",
    "Arithmetic operators on arrays apply elementwise. A new array is created and filled with the result."
   ]
  },
  {
   "cell_type": "code",
   "execution_count": null,
   "metadata": {},
   "outputs": [],
   "source": [
    "a = np.array([20, 30, 40, 50])\n",
    "print(a)\n",
    "b = np.arange(4)\n",
    "print(b)\n",
    "c = a - b\n",
    "print(c)\n",
    "d = b**2\n",
    "print(d)\n",
    "e = 10 * np.sin(a)\n",
    "print(e)\n",
    "print(a < 35)"
   ]
  },
  {
   "cell_type": "markdown",
   "metadata": {},
   "source": [
    "<span style=\"color:red\">**IMPORTANT**</span>\n",
    "Unlike in many matrix languages, the product operator `*` operates **elementwise** in NumPy arrays. The matrix product can be performed using the `@` operator (in python >=3.5) or the dot function or method:"
   ]
  },
  {
   "cell_type": "code",
   "execution_count": null,
   "metadata": {},
   "outputs": [],
   "source": [
    "A = np.array([[1, 1],\n",
    "              [0, 1]])\n",
    "B = np.array([[2, 0],\n",
    "              [3, 4]])\n",
    "print(A*B)   # elementwise product\n",
    "print(A@B)   # matrix product\n",
    "print(np.matmul(A,B)) # matrix product\n",
    "print(A.dot(B))  # matrix product"
   ]
  },
  {
   "cell_type": "markdown",
   "metadata": {},
   "source": [
    "Some operations, such as `+=` and `*=`, act in place to modify an existing array rather than create a new one."
   ]
  },
  {
   "cell_type": "code",
   "execution_count": null,
   "metadata": {},
   "outputs": [],
   "source": [
    "rg = np.random.default_rng(1)  # create instance of default random number generator\n",
    "a = np.ones((2, 3), dtype=int)\n",
    "print(a)\n",
    "b = rg.random((2, 3))\n",
    "print(b)\n",
    "a *= 3\n",
    "print(a)\n",
    "b += a\n",
    "print(b)\n",
    "a += b  # b is not automatically converted to integer type"
   ]
  },
  {
   "cell_type": "markdown",
   "metadata": {},
   "source": [
    "<span style=\"color:red\">**IMPORTANT**</span>\n",
    "A Python `list` cannot directly handle a mathematical operations, while numpy `array` can.  This is one of the main differences between a `list` and `array`. While you can store an integer or float in a list, you can’t really do mathematical operations in it."
   ]
  },
  {
   "cell_type": "code",
   "execution_count": 2,
   "metadata": {},
   "outputs": [
    {
     "name": "stdout",
     "output_type": "stream",
     "text": [
      "[2 4 6]\n",
      "[3 6 9]\n",
      "[1 4 9]\n",
      "[1, 2, 3, 1, 2, 3]\n",
      "[1, 2, 3, 1, 2, 3, 1, 2, 3]\n"
     ]
    },
    {
     "ename": "TypeError",
     "evalue": "unsupported operand type(s) for ** or pow(): 'list' and 'int'",
     "output_type": "error",
     "traceback": [
      "\u001b[1;31m---------------------------------------------------------------------------\u001b[0m",
      "\u001b[1;31mTypeError\u001b[0m                                 Traceback (most recent call last)",
      "\u001b[1;32m<ipython-input-2-4bf234c89ddd>\u001b[0m in \u001b[0;36m<module>\u001b[1;34m\u001b[0m\n\u001b[0;32m      8\u001b[0m \u001b[0mprint\u001b[0m\u001b[1;33m(\u001b[0m\u001b[0mb\u001b[0m\u001b[1;33m+\u001b[0m\u001b[0mb\u001b[0m\u001b[1;33m)\u001b[0m\u001b[1;33m\u001b[0m\u001b[1;33m\u001b[0m\u001b[0m\n\u001b[0;32m      9\u001b[0m \u001b[0mprint\u001b[0m\u001b[1;33m(\u001b[0m\u001b[0mb\u001b[0m\u001b[1;33m*\u001b[0m\u001b[1;36m3\u001b[0m\u001b[1;33m)\u001b[0m\u001b[1;33m\u001b[0m\u001b[1;33m\u001b[0m\u001b[0m\n\u001b[1;32m---> 10\u001b[1;33m \u001b[0mprint\u001b[0m\u001b[1;33m(\u001b[0m\u001b[0mb\u001b[0m\u001b[1;33m**\u001b[0m\u001b[1;36m2\u001b[0m\u001b[1;33m)\u001b[0m \u001b[1;31m# Error\u001b[0m\u001b[1;33m\u001b[0m\u001b[1;33m\u001b[0m\u001b[0m\n\u001b[0m",
      "\u001b[1;31mTypeError\u001b[0m: unsupported operand type(s) for ** or pow(): 'list' and 'int'"
     ]
    }
   ],
   "source": [
    "import numpy as np\n",
    "a = np.array([1,2,3])  # np array\n",
    "print(a+a)\n",
    "print(a*3)\n",
    "print(a**2)\n",
    "\n",
    "b = [1,2,3] # python list\n",
    "print(b+b)\n",
    "print(b*3)\n",
    "print(b**2) # Error"
   ]
  },
  {
   "cell_type": "markdown",
   "metadata": {},
   "source": [
    "### Indexing, Slicing and Iterating\n",
    "One-dimensional arrays can be indexed, sliced and iterated over, much like lists and other Python sequences."
   ]
  },
  {
   "cell_type": "code",
   "execution_count": 4,
   "metadata": {},
   "outputs": [
    {
     "name": "stdout",
     "output_type": "stream",
     "text": [
      "[  0   1   8  27  64 125 216 343 512 729]\n",
      "8\n",
      "[1 8]\n",
      "[  1   8  27  64 125 216 343 512 729]\n",
      "[ 0  1  8 27]\n",
      "[216 343]\n",
      "[ 1  8 27 64]\n",
      "[ 1 27]\n",
      "[ 1  8 27 64]\n",
      "[1000    1 1000   27 1000  125  216  343  512  729]\n",
      "[ 729  512  343  216  125 1000   27 1000    1 1000]\n",
      "8.999999999999998\n",
      "7.999999999999999\n",
      "6.999999999999999\n",
      "5.999999999999999\n",
      "5.0\n",
      "9.999999999999998\n",
      "3.0\n",
      "9.999999999999998\n",
      "1.0\n",
      "9.999999999999998\n"
     ]
    }
   ],
   "source": [
    "a = np.arange(10)**3\n",
    "print(a)\n",
    "print(a[2])\n",
    "print(a[1:3])\n",
    "print(a[1:])\n",
    "print(a[:4])\n",
    "print(a[-4:-2])\n",
    "print(a[1:5])\n",
    "print(a[1:5:2])\n",
    "print(a[1:5:1])\n",
    "# equivalent to a[0:6:2] = 1000;\n",
    "# from start to position 6, exclusive, set every 2nd element to 1000\n",
    "a[:6:2] = 1000\n",
    "print(a)\n",
    "b = a[::-1]  # reversed a\n",
    "print(b)\n",
    "for i in b:\n",
    "    print(i**(1/3))"
   ]
  },
  {
   "cell_type": "markdown",
   "metadata": {},
   "source": [
    "Examples of two-dimensional arrays are"
   ]
  },
  {
   "cell_type": "code",
   "execution_count": 6,
   "metadata": {},
   "outputs": [
    {
     "name": "stdout",
     "output_type": "stream",
     "text": [
      "[[ 1  2  3  4  5]\n",
      " [ 6  7  8  9 10]]\n",
      "[ 6  7  8  9 10]\n",
      "[2 7]\n",
      "[7 8 9]\n"
     ]
    }
   ],
   "source": [
    "arr2 = np.array([[1,2,3,4,5],[6,7,8,9,10]])\n",
    "print(arr2)\n",
    "print(arr2[1,:])\n",
    "print(arr2[:,1])\n",
    "print(arr2[1,1:4])\n"
   ]
  },
  {
   "cell_type": "markdown",
   "metadata": {},
   "source": [
    "### NumPy manipulation routines\n",
    "There are a number of functions for array manipulation. Let's take look at a few of them.\n",
    "A complete list can be found in the reference below.\n",
    "\n",
    "Reference: `https://numpy.org/doc/stable/reference/routines.array-manipulation.html`"
   ]
  },
  {
   "cell_type": "code",
   "execution_count": null,
   "metadata": {},
   "outputs": [],
   "source": [
    "import numpy as np\n",
    "x = np.array([[1,2,3],[4,5,6]])\n",
    "print(x)\n",
    "print(np.shape(x)) # returns the array shape which is the same as matrix dimension\n",
    "print(x.shape)     # shape is a properity of numpy.array \n",
    "\n",
    "# we can change the array shape\n",
    "y = np.reshape(x,[3,2])\n",
    "print(y)\n",
    "print(y.shape)     #  array shape \n",
    "\n",
    "# flatten an array\n",
    "z = x.flatten()\n",
    "print(z)\n",
    "print(z.shape)\n",
    "\n",
    "# transpose\n",
    "y = x.T  # matrix transpose of x\n",
    "print(y)\n",
    "z = np.transpose(x)  # same as x.T\n",
    "print(z)\n",
    "\n",
    "y = np.insert(x, [1], [[3,4,5]], axis=0)  # axis = 0 means the row \n",
    "print(y)\n",
    "z = np.insert(x, [1], [[3],[4]], axis=1)  # axis = 0 means the column \n",
    "print(z)\n",
    "\n",
    "y = np.fliplr(x) # reverse the order elements along the row axis (or reverse left and right)\n",
    "y = np.flipud(x) # reverse the order elements along the col axis (or reverse up and down)\n",
    "\n",
    "\n",
    "a = np.arange(9).reshape(3, 3)\n",
    "print(a)\n",
    "b = np.diagonal(a) # get the diagonal elelments\n",
    "print(b)\n",
    "c = np.fliplr(a).diagonal()  # fliplr and then get the diagonal elements\n",
    "print(c)\n",
    "d = np.flipud(a).diagonal()  # flipup and then get the diagonal elements\n",
    "print(d)"
   ]
  },
  {
   "cell_type": "markdown",
   "metadata": {},
   "source": [
    "\n",
    "### numpy.linalg\n",
    "Since matrix can be easily represented by a NumPy `array`, NumPy contains a `linalg` submodule that provides various linear algebra functions.  \n",
    "\n",
    "Reference: `https://numpy.org/doc/stable/reference/routines.linalg.html#module-numpy.linalg`"
   ]
  },
  {
   "cell_type": "code",
   "execution_count": 20,
   "metadata": {
    "scrolled": true
   },
   "outputs": [
    {
     "name": "stdout",
     "output_type": "stream",
     "text": [
      "[[1 2]\n",
      " [3 4]]\n",
      "-2.0000000000000004\n",
      "[[-2.   1. ]\n",
      " [ 1.5 -0.5]]\n",
      "[-0.37228132  5.37228132]\n",
      "[[-0.82456484 -0.41597356]\n",
      " [ 0.56576746 -0.90937671]]\n"
     ]
    }
   ],
   "source": [
    "import numpy as np\n",
    "from numpy import linalg\n",
    "A = np.array([[1,2],[3,4]])\n",
    "print(A)\n",
    "print(linalg.det(A)) # determinant of A\n",
    "B = linalg.inv(A) # inverse of A\n",
    "print(B)\n",
    "w, v = linalg.eig(A) # eigen values and normalized eigenvectors\n",
    "print(w)\n",
    "print(v) # each column of v is a normlized eigenvector associated with w in the same order. "
   ]
  },
  {
   "cell_type": "markdown",
   "metadata": {},
   "source": [
    "### Logic Functions\n",
    "\n",
    "Reference: `https://numpy.org/doc/stable/reference/routines.logic.html`"
   ]
  },
  {
   "cell_type": "code",
   "execution_count": 21,
   "metadata": {},
   "outputs": [
    {
     "name": "stdout",
     "output_type": "stream",
     "text": [
      "[ True False False]\n",
      "False\n",
      "True\n",
      "False\n",
      "True\n",
      "False\n"
     ]
    },
    {
     "ename": "AttributeError",
     "evalue": "'bool' object has no attribute 'all'",
     "output_type": "error",
     "traceback": [
      "\u001b[1;31m---------------------------------------------------------------------------\u001b[0m",
      "\u001b[1;31mAttributeError\u001b[0m                            Traceback (most recent call last)",
      "Input \u001b[1;32mIn [21]\u001b[0m, in \u001b[0;36m<module>\u001b[1;34m\u001b[0m\n\u001b[0;32m      7\u001b[0m y\u001b[38;5;241m=\u001b[39m[\u001b[38;5;241m0\u001b[39m,\u001b[38;5;241m1\u001b[39m,\u001b[38;5;241m1\u001b[39m]            \u001b[38;5;66;03m# y is a list\u001b[39;00m\n\u001b[0;32m      8\u001b[0m \u001b[38;5;28mprint\u001b[39m(np\u001b[38;5;241m.\u001b[39mall(y\u001b[38;5;241m==\u001b[39m\u001b[38;5;241m0\u001b[39m))  \u001b[38;5;66;03m# np.all() takes a list argument\u001b[39;00m\n\u001b[1;32m----> 9\u001b[0m \u001b[38;5;28mprint\u001b[39m(\u001b[43m(\u001b[49m\u001b[43my\u001b[49m\u001b[38;5;241;43m==\u001b[39;49m\u001b[38;5;241;43m0\u001b[39;49m\u001b[43m)\u001b[49m\u001b[38;5;241;43m.\u001b[39;49m\u001b[43mall\u001b[49m())\n",
      "\u001b[1;31mAttributeError\u001b[0m: 'bool' object has no attribute 'all'"
     ]
    }
   ],
   "source": [
    "x = np.array([0,1,1]) # x is a numpy array\n",
    "print(x == 0)        # check if each element is zero\n",
    "print(np.all(x==0))  # check if all elements are zero\n",
    "print(np.any(x==0))  # check if any elemnent is zero\n",
    "print((x==0).all())  # check if all elements are zero\n",
    "print((x==0).any())  # check if any elemnent is zero\n",
    "y=[0,1,1]            # y is a list\n",
    "print(np.all(y==0))  # np.all() takes a list argument\n",
    "print((y==0).all())  # a list object does not have all() method."
   ]
  },
  {
   "cell_type": "code",
   "execution_count": 11,
   "metadata": {},
   "outputs": [
    {
     "name": "stdout",
     "output_type": "stream",
     "text": [
      "6.123233995736766e-17\n",
      "False\n",
      "True\n"
     ]
    }
   ],
   "source": [
    "x = np.cos(np.pi/2) # cos(90)\n",
    "print(x) # x is not zero\n",
    "print(x == 0)  # returns false\n",
    "print(np.isclose(x,0)) # returns true"
   ]
  },
  {
   "cell_type": "markdown",
   "metadata": {},
   "source": [
    "There are infinitely many real numbers, but we have a limited memory space to store a floating number, e.g., **32**-bit floating-point numbers or **64**-bit double-precision numbers. For this reason, most real numbers cannot be precisely represented.  For example, we can represent 1.09 using a floating point."
   ]
  },
  {
   "cell_type": "code",
   "execution_count": 12,
   "metadata": {},
   "outputs": [
    {
     "name": "stdout",
     "output_type": "stream",
     "text": [
      "False\n",
      "True\n",
      "1.09\n",
      "1.090000000000000079936058\n"
     ]
    }
   ],
   "source": [
    "x = 1.09\n",
    "print(x*100 == 109)  # returns false\n",
    "print(np.isclose(x*100, 109))  #returns true\n",
    "print(x)\n",
    "print(\"%.24f\"%(x))"
   ]
  },
  {
   "cell_type": "code",
   "execution_count": 15,
   "metadata": {},
   "outputs": [
    {
     "name": "stdout",
     "output_type": "stream",
     "text": [
      "True\n",
      "False\n"
     ]
    }
   ],
   "source": [
    "print(1+2==3)  # Is it true or false?\n",
    "print(0.1+0.2==0.3)  # Is it true or false?"
   ]
  },
  {
   "cell_type": "markdown",
   "metadata": {},
   "source": [
    "We also cannot precisely represent irrational number, such as $\\pi$ and $\\sqrt{3}$.  Remember that there are always numerical errors. For example, "
   ]
  },
  {
   "cell_type": "code",
   "execution_count": 14,
   "metadata": {},
   "outputs": [
    {
     "name": "stdout",
     "output_type": "stream",
     "text": [
      "False\n",
      "1.7320508075688772\n",
      "2.9999999999999996\n",
      "True\n"
     ]
    }
   ],
   "source": [
    "x = np.sqrt(3)\n",
    "print(x**2 == 3)\n",
    "print(x)\n",
    "print(x**2)\n",
    "print(np.isclose(x, np.sqrt(3)))"
   ]
  },
  {
   "cell_type": "markdown",
   "metadata": {},
   "source": [
    "**Rule of thumb**:  You must not use `==` for floating-point numbers and be very careful with `<` and `>` for floating-point numbers. Companies like Intel and Google never allow their programmers to use them for floating-point numbers. Intel once lost millions of dollars for a use of them and it had to redesign its chip."
   ]
  },
  {
   "cell_type": "markdown",
   "metadata": {},
   "source": [
    "For Fall 2022\n",
    "Object oriented programming"
   ]
  },
  {
   "cell_type": "code",
   "execution_count": 17,
   "metadata": {},
   "outputs": [
    {
     "name": "stdout",
     "output_type": "stream",
     "text": [
      "[1, 2, 3, 4, 5]\n",
      "[1, 2, 3, 4, 5]\n",
      "[1, 9, 3, 4, 5]\n",
      "[1, 9, 3, 4, 5]\n",
      "[1, 2, 3, 4, 5]\n",
      "[1, 2, 3, 4, 5]\n",
      "[1, 9, 3, 4, 5]\n",
      "[1, 2, 3, 4, 5]\n",
      "[1, [0, 1, 2], 3, 4, 5]\n",
      "[1, [0, 1, 2], 3, 4, 5]\n",
      "[8, [0, 1, 2], 3, 4, 5]\n",
      "[1, [0, 1, 2], 3, 4, 5]\n",
      "[8, [0, 9, 2], 3, 4, 5]\n",
      "[1, [0, 9, 2], 3, 4, 5]\n",
      "[1, [0, 1, 2], 3, 4, 5]\n",
      "[1, [0, 1, 2], 3, 4, 5]\n",
      "[8, [0, 1, 2], 3, 4, 5]\n",
      "[1, [0, 1, 2], 3, 4, 5]\n",
      "[8, [0, 9, 2], 3, 4, 5]\n",
      "[1, [0, 1, 2], 3, 4, 5]\n"
     ]
    }
   ],
   "source": [
    "x = [1,2,3,4,5]\n",
    "print(x)\n",
    "y = x\n",
    "print(y)\n",
    "y[1] = 9\n",
    "print(y)\n",
    "print(x)\n",
    "\n",
    "x = [1,2,3,4,5]\n",
    "print(x)\n",
    "y = x.copy()\n",
    "print(y)\n",
    "y[1] = 9\n",
    "print(y)\n",
    "print(x)\n",
    "\n",
    "x = [1,[0,1,2],3,4,5]\n",
    "print(x)\n",
    "y = x.copy()\n",
    "print(y)\n",
    "y[0] = 8\n",
    "print(y)\n",
    "print(x)\n",
    "y[1][1] = 9\n",
    "print(y)\n",
    "print(x)\n",
    "\n",
    "import copy\n",
    "x = [1,[0,1,2],3,4,5]\n",
    "print(x)\n",
    "y = copy.deepcopy(x)\n",
    "print(y)\n",
    "y[1][1] = 9\n",
    "print(y)\n",
    "print(x)\n"
   ]
  },
  {
   "cell_type": "markdown",
   "metadata": {},
   "source": [
    "<hr>"
   ]
  },
  {
   "cell_type": "markdown",
   "metadata": {
    "tags": []
   },
   "source": [
    "## Homework"
   ]
  },
  {
   "cell_type": "markdown",
   "metadata": {
    "tags": []
   },
   "source": [
    "### Problem 1\n",
    "Create a folder called `ICE2` in your repository. Download tic-tac-toe.py from Teams and move it to the `ICE2` folder.  Complete the `check_game` function and push the code to your repository."
   ]
  },
  {
   "cell_type": "code",
   "execution_count": null,
   "metadata": {},
   "outputs": [],
   "source": [
    "import numpy as np\n",
    "\n",
    "board_size = 3\n",
    "\n",
    "board = np.zeros([board_size, board_size], dtype=\"int\")\n",
    "\"\"\"\n",
    "If board_size = 4, board will be\n",
    "array([[0, 0, 0, 0],\n",
    "       [0, 0, 0, 0],\n",
    "       [0, 0, 0, 0],\n",
    "       [0, 0, 0, 0]])\n",
    "\"\"\"\n",
    "\n",
    "\n",
    "def display_board():\n",
    "    \"\"\"\n",
    "    Display the current game board\n",
    "    :return: None\n",
    "    \"\"\"\n",
    "    print(\"_______\")\n",
    "    for row in board:\n",
    "        print(row)\n",
    "\n",
    "\n",
    "def update_board(player, row, col):\n",
    "    \"\"\"\n",
    "    Update the current board. If the row and column index is already played,\n",
    "    it will not update the board and return False.\n",
    "    :param player: Player ID. It must be 1 or 2\n",
    "    :param row: the row index of the game board\n",
    "    :param col: the column index of the game board\n",
    "    :return: True if the game board is successfully updated.\n",
    "    and False if there are errors.\n",
    "    \"\"\"\n",
    "    if player < 1 or player > 2:\n",
    "        print(\"Error: player must be either 1 or 2.\")\n",
    "        return False\n",
    "\n",
    "    if row < 0 or row > board_size or col < 0 or col > board_size:\n",
    "        print(\"Error: invalid row or column index.\")\n",
    "        return False\n",
    "\n",
    "    if board[row][col] != 0:\n",
    "        print(f\"Error: Row:{row} Col:{col} has already been played.\")\n",
    "        return False\n",
    "\n",
    "    # updated the current game board.\n",
    "    board[row][col] = player\n",
    "    return True\n",
    "\n",
    "\n",
    "def check_game():\n",
    "    \"\"\"\n",
    "    Print the winner of the game if the game is over.\n",
    "    :return: True if the game is over and False if not.\n",
    "    \"\"\"\n",
    "    # Check if the game is won horizontally\n",
    "    # Print \"Player X wins horizontally\" if player X wins the game. \n",
    "    for row in board:\n",
    "        if row[0] != 0 and np.all(row == row[0]):\n",
    "            print(f\"Player {row[0]} wins horizontally\")\n",
    "            return True\n",
    "\n",
    "    # Check if the game is won vertically.\n",
    "    # Print \"Player X wins vertically\" if player X wins the game. \n",
    "    # write your code here\n",
    "    \n",
    "\n",
    "    # Check if the game is won diagonally\n",
    "    # Print \"Player X wins diagonally\" if player X wins the game. \n",
    "    # write your code here\n",
    "\n",
    "    \n",
    "    # Check if the game is won anti-diagonally\n",
    "    # Print \"Player X wins anti-diagonally\" if player X wins the game. \n",
    "    # write your code here\n",
    "    \n",
    "    \n",
    "    # Check if the game is a draw - no zero left in the board\n",
    "    # Print \"The game is a draw\" if so.\n",
    "    # write your code here\n",
    "\n",
    "    \n",
    "    \n",
    "    # return False if the game is not over.\n",
    "    return False\n",
    "\n",
    "\n",
    "def main():\n",
    "\n",
    "    players = [1, 2]\n",
    "    current_player = 0\n",
    "    while True:\n",
    "        display_board()\n",
    "        row = input(f\"Player {players[current_player]}: Enter the row you want to play (0,...,{board_size-1}): \")\n",
    "        col = input(f\"Player {players[current_player]}: Enter the column you want to play (0,...,{board_size-1}): \")\n",
    "\n",
    "        if not update_board(players[current_player], int(row), int(col)):\n",
    "            print(\"Play again\")\n",
    "            continue\n",
    "\n",
    "        if check_game():\n",
    "            display_board()\n",
    "            break\n",
    "\n",
    "        current_player ^= 1\n",
    "\n",
    "\n",
    "if __name__ == '__main__':\n",
    "    main()\n"
   ]
  },
  {
   "cell_type": "markdown",
   "metadata": {
    "tags": []
   },
   "source": [
    "### Problem 2\n",
    "Write a Python function that finds ZYX Euler angles from a rotation matrix. "
   ]
  },
  {
   "cell_type": "code",
   "execution_count": null,
   "metadata": {},
   "outputs": [],
   "source": [
    "import numpy as np\n",
    "\n",
    "def get_rpy(R):\n",
    "    \"\"\"\n",
    "    Find the ZYX Euler angles (psi, theta, phi) from rotation matrix R\n",
    "    :param R: a 3 by 3 numpy array representing a rotation in 3-D. \n",
    "    :return: ZYX Euler angels (psi, theta, phi)\n",
    "   \n",
    "    \"\"\"\n",
    "    # write your code here\n",
    "    \n",
    "    \n",
    "    \n",
    "    \n",
    "    \n",
    "    return psi, theta, phi\n",
    "    \n",
    "    \n",
    "\n",
    "def main():\n",
    "\n",
    "    for i in range(100):\n",
    "        alpha = np.random.uniform(-np.pi, np.pi)\n",
    "        beta = np.random.uniform(-np.pi, np.pi)\n",
    "        gamma = np.random.uniform(-np.pi, np.pi)\n",
    "\n",
    "        Rz = np.array([[np.cos(alpha), -np.sin(alpha), 0],\n",
    "                       [np.sin(alpha), np.cos(alpha), 0],\n",
    "                       [0,             0,             1]])\n",
    "        Ry = np.array([[np.cos(beta),  0, np.sin(beta)],\n",
    "                       [0,             1,            0],\n",
    "                       [-np.sin(beta), 0, np.cos(beta)]])\n",
    "        Rx = np.array([[1,             0,             0],\n",
    "                       [0, np.cos(gamma), -np.sin(gamma)],\n",
    "                       [0, np.sin(gamma), np.cos(gamma)]])\n",
    "\n",
    "        R = Rz@Ry@Rx\n",
    "\n",
    "        psi, theta, phi = get_rpy(R)\n",
    "\n",
    "        Rz2 = np.array([[np.cos(psi), -np.sin(psi), 0],\n",
    "                       [np.sin(psi), np.cos(psi), 0],\n",
    "                       [0,             0,             1]])\n",
    "        Ry2 = np.array([[np.cos(theta),  0, np.sin(theta)],\n",
    "                       [0,             1,            0],\n",
    "                       [-np.sin(theta), 0, np.cos(theta)]])\n",
    "        Rx2 = np.array([[1,             0,             0],\n",
    "                       [0, np.cos(phi), -np.sin(phi)],\n",
    "                       [0, np.sin(phi), np.cos(phi)]])\n",
    "\n",
    "        R2 = Rz2@Ry2@Rx2\n",
    "\n",
    "        num_errors = 0\n",
    "\n",
    "        if np.allclose(R, R2):\n",
    "            if np.isclose(alpha, psi) and np.isclose(beta, theta) and np.isclose(gamma, phi):\n",
    "                print(\"Passed: all angles are the same\")\n",
    "            else:\n",
    "                print(\"Passed: angles are different, but it is OK.\")\n",
    "                print(f\"psi={np.rad2deg(psi):3.2f}, theta={np.rad2deg(theta):3.2f}, phi={np.rad2deg(phi):3.2f}\")\n",
    "                print(f\"alpha={np.rad2deg(alpha):3.2f}, beta={np.rad2deg(beta):3.2f}, gamma={np.rad2deg(phi):3.2f}\")\n",
    "        else:\n",
    "            num_errors += 1\n",
    "            print(\"Error:\")\n",
    "            print(f\"psi={np.rad2deg(psi):3.2f}, theta={np.rad2deg(theta):3.2f}, phi={np.rad2deg(phi):3.2f}\")\n",
    "            print(f\"alpha={np.rad2deg(alpha):3.2f}, beta={np.rad2deg(beta):3.2f}, gamma={np.rad2deg(phi):3.2f}\")\n",
    "\n",
    "        print(\"-------------------------\")\n",
    "\n",
    "    print(\"============================\")\n",
    "    print(\"Test is done\")\n",
    "    print(f\"You have {num_errors} errors.\")\n",
    "\n",
    "\n",
    "if __name__ == '__main__':\n",
    "    main()\n"
   ]
  }
 ],
 "metadata": {
  "colab": {
   "collapsed_sections": []
  },
  "interpreter": {
   "hash": "31f2aee4e71d21fbe5cf8b01ff0e069b9275f58929596ceb00d14d90e3e16cd6"
  },
  "kernelspec": {
   "display_name": "Python 3 (ipykernel)",
   "language": "python",
   "name": "python3"
  },
  "language_info": {
   "codemirror_mode": {
    "name": "ipython",
    "version": 3
   },
   "file_extension": ".py",
   "mimetype": "text/x-python",
   "name": "python",
   "nbconvert_exporter": "python",
   "pygments_lexer": "ipython3",
   "version": "3.8.2"
  }
 },
 "nbformat": 4,
 "nbformat_minor": 4
}
