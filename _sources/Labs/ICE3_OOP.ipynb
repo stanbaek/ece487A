{
 "cells": [
  {
   "cell_type": "markdown",
   "id": "edfba5c0",
   "metadata": {},
   "source": [
    "<a target=\"_blank\" rel=\"noopener noreferrer\" href=\"https://colab.research.google.com/github/stanbaek/ece487/blob/main/docs/Labs/ICE3_OOP.ipynb\">![Open In Colab](https://colab.research.google.com/assets/colab-badge.svg)</a>\n",
    "\n",
    "\n",
    "# ❄️ ICE3: Classes and Objects\n",
    "\n",
    "## A note on this document\n",
    "**A note on this document**\n",
    "This document is known as a Jupyter notebook; it is used in academia and industry to allow text and executable code to coexist in a very easy to read format. Blocks can contain text or executable code. To run the executable code in this notebook, click <a target=\"_blank\" rel=\"noopener noreferrer\" href=\"https://colab.research.google.com/github/stanbaek/ece487/blob/main/docs/Labs/ICE3_OOP.ipynb\">![Open In Colab](https://colab.research.google.com/assets/colab-badge.svg)</a>\n",
    ". For blocks containing code, press `Shift + Enter`, `Ctrl+Enter`, or click the arrow on the block to run the code. Earlier blocks of code need to be run for the later blocks of code to work.\n",
    "\n",
    "\n",
    "_References:_ \n",
    "- D. Beazley, Python Essential Reference, 4th ed, Addison Wesley, 2009\n",
    "- D. Arnow and G. Weiss, Introduction to Programming Using Java - an Object-Oriented Approach, Addison Wesley, 2000"
   ]
  },
  {
   "cell_type": "markdown",
   "id": "b454075b",
   "metadata": {},
   "source": [
    "## Purpose\n",
    "This in-class exercise (ICE) will introduce object-oriented programming in Python. "
   ]
  },
  {
   "cell_type": "markdown",
   "id": "16c41d7b",
   "metadata": {
    "tags": []
   },
   "source": [
    "\n",
    "## Classes\n",
    "*(from: https://realpython.com/python3-object-oriented-programming/)*\n",
    "\n",
    "<blockquote>\n",
    "\"The primitive data structures available in Python, like numbers, strings, and lists are designed to represent simple things like the cost of something, the name of a poem, and your favorite colors, respectively.\n",
    "\n",
    "What if you wanted to represent something much more complicated?\n",
    "\n",
    "For example, let’s say you wanted to track a number of different animals. If you used a list, the first element could be the animal’s name while the second element could represent its age.\n",
    "\n",
    "How would you know which element is supposed to be which? What if you had 100 different animals? Are you certain each animal has both a name and an age, and so forth? What if you wanted to add other properties to these animals? This lacks organization, and it’s the exact need for classes.\n",
    "\n",
    "Classes are used to create new user-defined data structures that contain arbitrary information about something. In the case of an animal, we could create an Animal() class to track properties about the Animal like the name and age.\n",
    "\n",
    "It’s important to note that a class just provides structure—it’s a blueprint for how something should be defined, but it doesn’t actually provide any real content itself. The Animal() class may specify that the name and age are necessary for defining an animal, but it will not actually state what a specific animal’s name or age is.\n",
    "\n",
    "It may help to think of a class as an idea for how something should be defined.\"\n",
    "</blockquote>\n",
    "\n",
    "\n"
   ]
  },
  {
   "cell_type": "markdown",
   "id": "58a31def-51c4-44e4-91ea-a86745ea6b6b",
   "metadata": {},
   "source": [
    "## Objects\n",
    "\n",
    "All values used in a prgram are objects.  An _object_ consists of internal data and methods that perform various kinds of operations involving that data.  You have already used objects and methods when working with the built-in types such as integers, strings, and lists. For example,"
   ]
  },
  {
   "cell_type": "code",
   "execution_count": 3,
   "id": "f039fdf9-a844-4445-8489-e9a901ac3be8",
   "metadata": {},
   "outputs": [
    {
     "name": "stdout",
     "output_type": "stream",
     "text": [
      "<class 'int'>\n"
     ]
    }
   ],
   "source": [
    "x = 3\n",
    "print(type(x))"
   ]
  },
  {
   "cell_type": "markdown",
   "id": "316f8949-c25a-469c-9d00-b6468994bdf3",
   "metadata": {},
   "source": [
    "It tells us that `x` is an instance (object) of the `int` class."
   ]
  },
  {
   "cell_type": "code",
   "execution_count": 4,
   "id": "5abf567d",
   "metadata": {},
   "outputs": [
    {
     "name": "stdout",
     "output_type": "stream",
     "text": [
      "<class 'str'>\n"
     ]
    }
   ],
   "source": [
    "s = \"Hello\"\n",
    "print(type(s))"
   ]
  },
  {
   "cell_type": "markdown",
   "id": "8a630105-70c8-4094-935c-317c997bf743",
   "metadata": {},
   "source": [
    "The string, \"Hello\", we typed in is actually an instance (object) of the `str` class."
   ]
  },
  {
   "cell_type": "code",
   "execution_count": 5,
   "id": "5652b024",
   "metadata": {},
   "outputs": [
    {
     "name": "stdout",
     "output_type": "stream",
     "text": [
      "<class 'function'>\n"
     ]
    }
   ],
   "source": [
    "def hello():\n",
    "    print('Hello')\n",
    "    \n",
    "print(type(hello))"
   ]
  },
  {
   "cell_type": "markdown",
   "id": "1b346dcd-1826-4765-9efa-8465d551d3e1",
   "metadata": {},
   "source": [
    "The `hello` function is an instance of the `function` class.  So, everything in Python is actually an instance (object) of some kind of class."
   ]
  },
  {
   "cell_type": "code",
   "execution_count": 6,
   "id": "687b1fa8",
   "metadata": {},
   "outputs": [
    {
     "name": "stdout",
     "output_type": "stream",
     "text": [
      "HELLO\n"
     ]
    }
   ],
   "source": [
    "str_hello = 'hello'\n",
    "print(str_hello.upper())"
   ]
  },
  {
   "cell_type": "markdown",
   "id": "bb70a4a3-3e14-40ae-a00b-b2a4c6e6a18b",
   "metadata": {},
   "source": [
    "What is `.upper()`?  It is a method defined in the `str` class that is acting on a specfic object, which in this case is `str_hello`. "
   ]
  },
  {
   "cell_type": "markdown",
   "id": "7081a46b-4c7a-4060-9e37-5af2227b1a2e",
   "metadata": {},
   "source": [
    "Let's take a look at a list object."
   ]
  },
  {
   "cell_type": "code",
   "execution_count": 7,
   "id": "79a253dd",
   "metadata": {},
   "outputs": [],
   "source": [
    "items = [37, 42] # create a list object\n",
    "items.append(73) # call the append() method"
   ]
  },
  {
   "cell_type": "markdown",
   "id": "ce50176e",
   "metadata": {},
   "source": [
    "The dir() function lists the methods available on an object and is a useful tool for interactive experimentation. For example,"
   ]
  },
  {
   "cell_type": "code",
   "execution_count": 7,
   "id": "22746aca",
   "metadata": {},
   "outputs": [
    {
     "data": {
      "text/plain": [
       "['__add__',\n",
       " '__class__',\n",
       " '__class_getitem__',\n",
       " '__contains__',\n",
       " '__delattr__',\n",
       " '__delitem__',\n",
       " '__dir__',\n",
       " '__doc__',\n",
       " '__eq__',\n",
       " '__format__',\n",
       " '__ge__',\n",
       " '__getattribute__',\n",
       " '__getitem__',\n",
       " '__gt__',\n",
       " '__hash__',\n",
       " '__iadd__',\n",
       " '__imul__',\n",
       " '__init__',\n",
       " '__init_subclass__',\n",
       " '__iter__',\n",
       " '__le__',\n",
       " '__len__',\n",
       " '__lt__',\n",
       " '__mul__',\n",
       " '__ne__',\n",
       " '__new__',\n",
       " '__reduce__',\n",
       " '__reduce_ex__',\n",
       " '__repr__',\n",
       " '__reversed__',\n",
       " '__rmul__',\n",
       " '__setattr__',\n",
       " '__setitem__',\n",
       " '__sizeof__',\n",
       " '__str__',\n",
       " '__subclasshook__',\n",
       " 'append',\n",
       " 'clear',\n",
       " 'copy',\n",
       " 'count',\n",
       " 'extend',\n",
       " 'index',\n",
       " 'insert',\n",
       " 'pop',\n",
       " 'remove',\n",
       " 'reverse',\n",
       " 'sort']"
      ]
     },
     "execution_count": 7,
     "metadata": {},
     "output_type": "execute_result"
    }
   ],
   "source": [
    "dir(items)"
   ]
  },
  {
   "cell_type": "markdown",
   "id": "8ad0df43",
   "metadata": {},
   "source": [
    "When inspecting objects, you will see familiar methods such as append() and insert() listed.  However, you will also see special methods that always begin and end with a double underscore.  These methods implement various language operations.  For example, the `__add__()` method implements the + operator:"
   ]
  },
  {
   "cell_type": "code",
   "execution_count": 10,
   "id": "15b65ec3",
   "metadata": {},
   "outputs": [
    {
     "data": {
      "text/plain": [
       "[37, 42, 73, 3, 101]"
      ]
     },
     "execution_count": 10,
     "metadata": {},
     "output_type": "execute_result"
    }
   ],
   "source": [
    "items.__add__([3, 101])"
   ]
  },
  {
   "cell_type": "markdown",
   "id": "af3e7fb7",
   "metadata": {},
   "source": [
    "which is the same as "
   ]
  },
  {
   "cell_type": "code",
   "execution_count": 11,
   "id": "45a75e06",
   "metadata": {},
   "outputs": [
    {
     "data": {
      "text/plain": [
       "[37, 42, 73, 3, 101]"
      ]
     },
     "execution_count": 11,
     "metadata": {},
     "output_type": "execute_result"
    }
   ],
   "source": [
    "items + [3, 101]"
   ]
  },
  {
   "cell_type": "markdown",
   "id": "a1ba35c8-dae8-438b-be32-6ef75f87877b",
   "metadata": {},
   "source": [
    "## Simple Constructors and methods\n",
    "Let's take a look at a simple class first"
   ]
  },
  {
   "cell_type": "code",
   "execution_count": 1,
   "id": "21e6a27b-a168-449b-98b6-f86b6118d669",
   "metadata": {},
   "outputs": [],
   "source": [
    "class Laugher:   # new class\n",
    "    def __init__(self):  # constructor\n",
    "        pass             # do nothing\n",
    "    def laugh(self):     # method\n",
    "        print(\"haha\")"
   ]
  },
  {
   "cell_type": "markdown",
   "id": "49d5c290-e54d-42b9-a1e8-15ef565f3b22",
   "metadata": {},
   "source": [
    "This defines a class called `Laughter`. It provides a single method, `laugh`, that simply prints \"haha\". Using this definition, we can create a `Laughter` object, as follow"
   ]
  },
  {
   "cell_type": "code",
   "execution_count": 2,
   "id": "14e09c8c-0fea-4a36-8ddc-e3f98c1a313f",
   "metadata": {},
   "outputs": [
    {
     "name": "stdout",
     "output_type": "stream",
     "text": [
      "haha\n"
     ]
    }
   ],
   "source": [
    "x = Laugher()  \n",
    "x.laugh()"
   ]
  },
  {
   "cell_type": "markdown",
   "id": "0c3b5294-bdcb-4af3-9b72-1807f31133e2",
   "metadata": {},
   "source": [
    "The phrase `class Laugher:` indicates that this is the beginning of the definition of a class named `Laugher`. The next are the definition of a **constructor**\n",
    "```Python\n",
    "    def __init__(self):  # constructor\n",
    "        pass             # do nothing\n",
    "```\n",
    "and a definition of a **method**\n",
    "```Python\n",
    "    def laugh(self):     # method\n",
    "        print(\"haha\")\n",
    "```"
   ]
  },
  {
   "cell_type": "markdown",
   "id": "cce1df0e-f73a-44c4-833e-3f3b46b65c71",
   "metadata": {},
   "source": [
    "A constructor definition is always `__init__`.  Constructors do not include a `return` statement - they are always invoked in conjunction with the class name (`Laugher()` in our example), which itself returns a reference (pointer) to the newly created object. For example, \n",
    "```Python\n",
    "x = Laugher()  \n",
    "```\n",
    "actually calls `Laugher`'s `__init__` method and assigns a new `Laugher` object to `x`."
   ]
  },
  {
   "cell_type": "markdown",
   "id": "d9104e01-3a37-4146-bddc-7b9763e53203",
   "metadata": {},
   "source": [
    "Suppose we want the sender of the `laugh` message to decide whether the _laugh syllable_ should be ha or ho or hee, etc. This is additional information, and so the sender of the message would have to provide it as an _argument_, as follows\n",
    "```Python\n",
    "x.laugh(\"ha\")\n",
    "x.laugh(\"yuk\")\n",
    "```\n",
    "We need to modify the `laugh` method."
   ]
  },
  {
   "cell_type": "code",
   "execution_count": 3,
   "id": "259f80b1-bb19-4674-ad26-7153292ec563",
   "metadata": {},
   "outputs": [],
   "source": [
    "class Laugher:   # new class\n",
    "    def __init__(self):  # constructor\n",
    "        pass             # do nothing\n",
    "    def laugh(self, syllable):     # method with an argument\n",
    "        print(syllable)"
   ]
  },
  {
   "cell_type": "code",
   "execution_count": 4,
   "id": "c034e817-738a-4df8-9f15-01f42cd994d3",
   "metadata": {},
   "outputs": [
    {
     "name": "stdout",
     "output_type": "stream",
     "text": [
      "yuk\n"
     ]
    }
   ],
   "source": [
    "x = Laugher()  \n",
    "x.laugh(\"yuk\")"
   ]
  },
  {
   "cell_type": "markdown",
   "id": "dec60da8-cc33-41a3-965b-82a017ac826d",
   "metadata": {},
   "source": [
    "We want to print \"haha\" out as the default syllable without explicitly specifying the laugh syllables. A **default** is a behavior or value that is used to explicit behavior or value is provided. Let's modify the `laugh` method. "
   ]
  },
  {
   "cell_type": "code",
   "execution_count": 5,
   "id": "23553a30-bf70-49a7-b8f4-e5507f4a548a",
   "metadata": {},
   "outputs": [],
   "source": [
    "class Laugher:   # new class\n",
    "    def __init__(self):  # constructor\n",
    "        pass             # do nothing\n",
    "    def laugh(self, syllable=\"haha\"):     #  method with an argument\n",
    "        print(syllable)"
   ]
  },
  {
   "cell_type": "markdown",
   "id": "1cbc82df-eeea-47d6-b268-27d911f03282",
   "metadata": {},
   "source": [
    "Now, we can print the default syllable as well as user specified syllables."
   ]
  },
  {
   "cell_type": "code",
   "execution_count": 6,
   "id": "2d4f4813-e1b0-44d9-b950-736b7ce64c99",
   "metadata": {},
   "outputs": [
    {
     "name": "stdout",
     "output_type": "stream",
     "text": [
      "yuk\n",
      "haha\n"
     ]
    }
   ],
   "source": [
    "x = Laugher()  \n",
    "x.laugh(\"yuk\")\n",
    "x.laugh()"
   ]
  },
  {
   "cell_type": "markdown",
   "id": "98ae0a7f-7d03-4d04-9f2e-1d917cf879b6",
   "metadata": {},
   "source": [
    "Finally, suppose we wanted to give the creator of a `Laugher` object the option of specifying the default laugh syllable so that it would not have to always be \"ha\".  This is additional information that would have to be supplied to the constructor as an _argument_ when the object is created. For example, the following modification would display \"heeheehee\" and then \"hoho\". "
   ]
  },
  {
   "cell_type": "code",
   "execution_count": 13,
   "id": "ae365d03-b687-44db-9919-0b756d305b61",
   "metadata": {},
   "outputs": [
    {
     "name": "stdout",
     "output_type": "stream",
     "text": [
      "hehehehe\n",
      "hoho\n",
      "yuk\n",
      "hehe\n"
     ]
    }
   ],
   "source": [
    "class Laugher:   # new class\n",
    "    def __init__(self, s):  # constructor with an argument\n",
    "        self.syllable = s   # update the object variable\n",
    "    def laugh(self, syllable=None):     #  the default value of argument is None\n",
    "        if syllable == None:\n",
    "            print(self.syllable)\n",
    "        else:\n",
    "            print(syllable)\n",
    "\n",
    "        \n",
    "x = Laugher(\"hoho\")  \n",
    "x.laugh(\"hehehehe\")\n",
    "x.laugh()\n",
    "\n",
    "y = Laugher(\"hehe\")\n",
    "y.laugh(\"yuk\")\n",
    "y.laugh()"
   ]
  },
  {
   "cell_type": "markdown",
   "id": "87b2ebe3-0cd5-4533-a888-a33535843717",
   "metadata": {},
   "source": [
    "How can a class definition support this?  The constructor now gets the `syllable` argument, so its signature must include a declaration of the `syllable` argument, as follows:\n",
    "```Python\n",
    "x = Laugher(\"hoho\")  \n",
    "```\n",
    "Although it is the constructor that gets the default syllable as an argument, it is the `laugh()` method (with no arguments) that needs access to it. Unfortunately, methods cannot access variables, including parameters, of other methods. How can `laugh()` get access to this syllable?\n",
    "\n",
    "The answer is to declare the `syllable` variable using the `self` keyword.  Such as variable is called an an _instance variable_ because it belongs to the object (instance) and not ot any one particular method. Instance variables may be accessed by **all** the methods in the class.  \n"
   ]
  },
  {
   "cell_type": "markdown",
   "id": "56446325-90ff-4217-ad63-3011c11c9a61",
   "metadata": {},
   "source": [
    "- A **class** encapsulates data and functionality: data as attributes (`self.syllable`), and functionality as methods (`laugh()`). \n",
    "- An **instance** is an implementation of a class. Each instance has its own attributes independent of other instances - \"hoho\" for `x` and \"hehe\" for `y`.\n",
    "- The first argument when defining any method is always the **self** argument. This argument significes the instance on which you call the method. To define a method, you use **self** to access the instance attributes (e.g., `self.syllable`). But to call an instance method, you do not need to specify **self** (e.g., `x.laugh()`)."
   ]
  },
  {
   "cell_type": "markdown",
   "id": "ab49aedc-5fa6-4e1d-93d0-50ad81ce2af8",
   "metadata": {},
   "source": [
    "## Example"
   ]
  },
  {
   "cell_type": "markdown",
   "id": "47a53e31-f803-4506-a7aa-00efc1af408d",
   "metadata": {},
   "source": [
    "Let's create a `Cat` class! What are some attributes of a `Cat`? It should have a `name` and `age`! It can also be `tired` and `hungry`. What are some actions (or methods) that the `Cat` can do? It `feed` and `sleep` and `meow`! Should feeding and sleeping update specific attributes of the `Cat`? Now that we have our `Cat`, let's code it up!"
   ]
  },
  {
   "cell_type": "code",
   "execution_count": 28,
   "id": "4b555583-3864-4b55-851d-50e9293863b9",
   "metadata": {},
   "outputs": [],
   "source": [
    "class Cat:\n",
    "\n",
    "    Cat.species = \"Felis catus\"   # class variable. \n",
    "    \n",
    "    # Initializer / Instance Attributes\n",
    "    def __init__(self, name, age):\n",
    "        self.name = name\n",
    "        self.age = age\n",
    "        self.hungry = True\n",
    "        self.tired = True\n",
    "\n",
    "    # instance method\n",
    "    def description(self):\n",
    "        __name_age__ = \"{} is {} years old. \".format(self.name, self.age)\n",
    "        \n",
    "        if self.tired == True:\n",
    "            __is_tired__ = \"{} is tired. \".format(self.name)\n",
    "        else:\n",
    "            __is_tired__ = \"{} is not tired. \".format(self.name)\n",
    "        \n",
    "        if self.hungry == True:\n",
    "             __is_hungry__ = \"{} is hungry. \".format(self.name)\n",
    "        else:\n",
    "            __is_hungry__ = \"{} is not hungry. \".format(self.name)\n",
    "        \n",
    "        return str(__name_age__+__is_tired__+__is_hungry__)\n",
    "\n",
    "    # instance method\n",
    "    def meow(self):\n",
    "        return \"{} says {}\".format(self.name, \"Meow! Meow!\")\n",
    "    \n",
    "    def feed(self):\n",
    "        self.hungry = False\n",
    "        print(self.meow())\n",
    "        \n",
    "    def sleep(self):\n",
    "        self.tired = False"
   ]
  },
  {
   "cell_type": "code",
   "execution_count": 29,
   "id": "ccc0bdd9-beee-4760-951d-876c851b9e5a",
   "metadata": {},
   "outputs": [],
   "source": [
    "# Instantiate the Cat object\n",
    "pichu = Cat(\"Pichu\", 7)"
   ]
  },
  {
   "cell_type": "code",
   "execution_count": 30,
   "id": "4b7e0147-cf08-4f06-922e-a43e4e947f17",
   "metadata": {},
   "outputs": [
    {
     "name": "stdout",
     "output_type": "stream",
     "text": [
      "Pichu is 7 years old. Pichu is tired. Pichu is hungry. \n",
      "Pichu says Meow! Meow!\n"
     ]
    }
   ],
   "source": [
    "# call our instance methods\n",
    "print(pichu.description())\n",
    "print(pichu.meow())"
   ]
  },
  {
   "cell_type": "code",
   "execution_count": 31,
   "id": "6693b30d-ac20-4a91-bb65-52f7f815b1ef",
   "metadata": {},
   "outputs": [
    {
     "name": "stdout",
     "output_type": "stream",
     "text": [
      "Pichu says Meow! Meow!\n"
     ]
    }
   ],
   "source": [
    "pichu.feed()"
   ]
  },
  {
   "cell_type": "code",
   "execution_count": 32,
   "id": "15d3d717-ce31-4c79-a841-082ec76cd596",
   "metadata": {},
   "outputs": [
    {
     "name": "stdout",
     "output_type": "stream",
     "text": [
      "Pichu is 7 years old. Pichu is tired. Pichu is not hungry. \n"
     ]
    }
   ],
   "source": [
    "print(pichu.description())"
   ]
  },
  {
   "cell_type": "code",
   "execution_count": 33,
   "id": "4d7564e7-2647-4440-87c8-acf866a7092f",
   "metadata": {},
   "outputs": [
    {
     "name": "stdout",
     "output_type": "stream",
     "text": [
      "Pichu is 7 years old. Pichu is not tired. Pichu is not hungry. \n"
     ]
    }
   ],
   "source": [
    "pichu.sleep()\n",
    "print(pichu.description())"
   ]
  },
  {
   "cell_type": "markdown",
   "id": "232a6629-7b13-444a-9c2e-5eba5651a48f",
   "metadata": {},
   "source": [
    "Class variables (`species` in the `Cat` class) are associated with the class, not an instance of the class.  Hence, all instance share the same class variable `species`."
   ]
  },
  {
   "cell_type": "code",
   "execution_count": 34,
   "id": "17ab732d-0959-4062-9313-fe2735f30eef",
   "metadata": {
    "tags": []
   },
   "outputs": [
    {
     "name": "stdout",
     "output_type": "stream",
     "text": [
      "Felis catus\n"
     ]
    }
   ],
   "source": [
    "print(pichu.species)"
   ]
  },
  {
   "cell_type": "code",
   "execution_count": 40,
   "id": "aa61d4b2-0a69-4c0b-a255-7fa76b646704",
   "metadata": {},
   "outputs": [
    {
     "name": "stdout",
     "output_type": "stream",
     "text": [
      "Leo is 2 years old. Leo is tired. Leo is hungry. \n",
      "Felis catus\n",
      "Felis catus\n"
     ]
    }
   ],
   "source": [
    "leo = Cat(\"Leo\", 2)\n",
    "print(leo.description())\n",
    "print(leo.species)\n",
    "print(Cat.species)"
   ]
  },
  {
   "cell_type": "code",
   "execution_count": 41,
   "id": "eb201a9b-1d85-43fb-8dd3-192b5462d669",
   "metadata": {},
   "outputs": [],
   "source": [
    "Cat.species = \"Lynx rufus\"  # bobcat"
   ]
  },
  {
   "cell_type": "code",
   "execution_count": 42,
   "id": "1b9f795d-3fc2-4a07-bac7-4c096cf1dab9",
   "metadata": {},
   "outputs": [
    {
     "name": "stdout",
     "output_type": "stream",
     "text": [
      "Lynx rufus\n",
      "Lynx rufus\n"
     ]
    }
   ],
   "source": [
    "print(leo.species)\n",
    "print(pichu.species)"
   ]
  },
  {
   "cell_type": "markdown",
   "id": "8a45e6e4-9f44-4fb5-b9ea-68ca28e33067",
   "metadata": {},
   "source": [
    "## Deliverable\n",
    "\n"
   ]
  },
  {
   "cell_type": "markdown",
   "id": "791ef42a-fdfa-4e27-9c86-31ae51dd3dd2",
   "metadata": {},
   "source": [
    "Go to ECE487 Teams and download `course_roster.py` under General > Files > Class Materials. Complete all the unfinished methods in the `Cadet` annd `Course` classes.\n",
    "The following methods should be impelemted\n",
    "- class Cadet\n",
    "    - get_gpa(self)\n",
    "- class Course\n",
    "    - enroll(self, cadets)\n",
    "    - get_course_average(self) \n",
    "    - get_roster(self)\n",
    "    - get grade(self, cadet)\n",
    "\n",
    "Once all the methods are correctly impeletemented, the `main` function will print the following.\n",
    "\n",
    "```Python\n",
    "Cadets enrolled in ECE245: Peter Parker, Clark Kent, Brue Wayne, Natasha Romanoff\n",
    "Cadets enrolled in ECE382: Clark Kent, Brue Wayne, Natasha Romanoff\n",
    "Cadets enrolled in ECE487: Clark Kent, Natasha Romanoff\n",
    "Cadets enrolled in ECE499: Brue Wayne\n",
    "Peter Parker is taking ECE245\n",
    "Clark Kent is taking ECE245, ECE382, ECE487\n",
    "Brue Wayne is taking ECE245, ECE382, ECE499\n",
    "Natasha Romanoff is taking ECE245, ECE382, ECE487\n",
    "ECE245 average is 78.25\n",
    "ECE382 average is 85.66666666666667\n",
    "ECE487 average is 94.5\n",
    "ECE499 average is 91.0\n",
    "Peter Parker's GPA is 58.0\n",
    "Clark Kent's GPA is 89.66666666666667\n",
    "Brue Wayne's GPA is 82.0\n",
    "Natasha Romanoff's GPA is 92.33333333333333\n",
    "```\n",
    "\n",
    "Push your code to Bitbucket and submit the output in Gradescope."
   ]
  },
  {
   "cell_type": "code",
   "execution_count": null,
   "id": "8d8d24c5-883c-4c73-9f14-11b41079943d",
   "metadata": {},
   "outputs": [],
   "source": []
  }
 ],
 "metadata": {
  "kernelspec": {
   "display_name": "Python 3 (ipykernel)",
   "language": "python",
   "name": "python3"
  },
  "language_info": {
   "codemirror_mode": {
    "name": "ipython",
    "version": 3
   },
   "file_extension": ".py",
   "mimetype": "text/x-python",
   "name": "python",
   "nbconvert_exporter": "python",
   "pygments_lexer": "ipython3",
   "version": "3.8.2"
  }
 },
 "nbformat": 4,
 "nbformat_minor": 5
}
