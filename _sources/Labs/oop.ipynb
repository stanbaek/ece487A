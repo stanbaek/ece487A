{
 "cells": [
  {
   "cell_type": "markdown",
   "id": "edfba5c0",
   "metadata": {},
   "source": [
    "# ECE487 Object-Oriented Programming\n",
    "\n",
    "## A note on this document\n",
    "This document is known as a Jupyter notebook; it is used in academia and industry to allow text and executable code to coexist in a very easy to read format. Blocks can contain text or code, and for blocks containing code, press `Shift + Enter` to run the code. Earlier blocks of code need to be run for the later blocks of code to work.\n",
    "\n",
    "\n",
    "_Reference: D. Beazley, Python Essential Reference, 4th ed, Addison Wesley, 2009_"
   ]
  },
  {
   "cell_type": "markdown",
   "id": "b454075b",
   "metadata": {},
   "source": [
    "## Purpose\n",
    "This in-class exercise (ICE) will introduce Python3 fundamentals through application. "
   ]
  },
  {
   "cell_type": "markdown",
   "id": "16c41d7b",
   "metadata": {},
   "source": [
    "## Introduction to Objects and Classes\n",
    "All values used in a prgram are objects.  An _object_ consists of internal data and methods that perform various kinds of operations involving that data.  You have already used objects and methods when working with the built-in types such as strings adn lists. For example,"
   ]
  },
  {
   "cell_type": "code",
   "execution_count": 5,
   "id": "79a253dd",
   "metadata": {},
   "outputs": [],
   "source": [
    "items = [37, 42] # create a list object\n",
    "items.append(73) # call the append() method"
   ]
  },
  {
   "cell_type": "markdown",
   "id": "ce50176e",
   "metadata": {},
   "source": [
    "The dir() function lists the methods available on an object and is a useful tool for interactive experimentation. For example,"
   ]
  },
  {
   "cell_type": "code",
   "execution_count": 7,
   "id": "22746aca",
   "metadata": {},
   "outputs": [
    {
     "data": {
      "text/plain": [
       "['__add__',\n",
       " '__class__',\n",
       " '__class_getitem__',\n",
       " '__contains__',\n",
       " '__delattr__',\n",
       " '__delitem__',\n",
       " '__dir__',\n",
       " '__doc__',\n",
       " '__eq__',\n",
       " '__format__',\n",
       " '__ge__',\n",
       " '__getattribute__',\n",
       " '__getitem__',\n",
       " '__gt__',\n",
       " '__hash__',\n",
       " '__iadd__',\n",
       " '__imul__',\n",
       " '__init__',\n",
       " '__init_subclass__',\n",
       " '__iter__',\n",
       " '__le__',\n",
       " '__len__',\n",
       " '__lt__',\n",
       " '__mul__',\n",
       " '__ne__',\n",
       " '__new__',\n",
       " '__reduce__',\n",
       " '__reduce_ex__',\n",
       " '__repr__',\n",
       " '__reversed__',\n",
       " '__rmul__',\n",
       " '__setattr__',\n",
       " '__setitem__',\n",
       " '__sizeof__',\n",
       " '__str__',\n",
       " '__subclasshook__',\n",
       " 'append',\n",
       " 'clear',\n",
       " 'copy',\n",
       " 'count',\n",
       " 'extend',\n",
       " 'index',\n",
       " 'insert',\n",
       " 'pop',\n",
       " 'remove',\n",
       " 'reverse',\n",
       " 'sort']"
      ]
     },
     "execution_count": 7,
     "metadata": {},
     "output_type": "execute_result"
    }
   ],
   "source": [
    "dir(items)"
   ]
  },
  {
   "cell_type": "markdown",
   "id": "8ad0df43",
   "metadata": {},
   "source": [
    "When inspecting objects, you will see familiar methods such as append() and insert() listed.  However, you will also see special methods that always begin and end with a double underscore.  These methods implement various language operations.  For example, the `__add__()` method implements the + operator:"
   ]
  },
  {
   "cell_type": "code",
   "execution_count": 10,
   "id": "15b65ec3",
   "metadata": {},
   "outputs": [
    {
     "data": {
      "text/plain": [
       "[37, 42, 73, 3, 101]"
      ]
     },
     "execution_count": 10,
     "metadata": {},
     "output_type": "execute_result"
    }
   ],
   "source": [
    "items.__add__([3, 101])"
   ]
  },
  {
   "cell_type": "markdown",
   "id": "af3e7fb7",
   "metadata": {},
   "source": [
    "which is the same as "
   ]
  },
  {
   "cell_type": "code",
   "execution_count": 11,
   "id": "45a75e06",
   "metadata": {},
   "outputs": [
    {
     "data": {
      "text/plain": [
       "[37, 42, 73, 3, 101]"
      ]
     },
     "execution_count": 11,
     "metadata": {},
     "output_type": "execute_result"
    }
   ],
   "source": [
    "items + [3, 101]"
   ]
  },
  {
   "cell_type": "markdown",
   "id": "0cc9cfc7",
   "metadata": {},
   "source": [
    "It tells us that `x` is an instance (object) of the `int` class."
   ]
  },
  {
   "cell_type": "code",
   "execution_count": 2,
   "id": "5abf567d",
   "metadata": {},
   "outputs": [
    {
     "name": "stdout",
     "output_type": "stream",
     "text": [
      "<class 'str'>\n"
     ]
    }
   ],
   "source": [
    "s = \"Hello\"\n",
    "print(type(s))"
   ]
  },
  {
   "cell_type": "markdown",
   "id": "5e87d693",
   "metadata": {},
   "source": [
    "The string, \"Hello\", we typed in is actually an instance (object) of the `str` class."
   ]
  },
  {
   "cell_type": "code",
   "execution_count": 3,
   "id": "5652b024",
   "metadata": {},
   "outputs": [
    {
     "name": "stdout",
     "output_type": "stream",
     "text": [
      "<class 'function'>\n"
     ]
    }
   ],
   "source": [
    "def hello():\n",
    "    print('Hello')\n",
    "    \n",
    "print(type(hello))"
   ]
  },
  {
   "cell_type": "markdown",
   "id": "0e20c7e4",
   "metadata": {},
   "source": [
    "The `hello` function is an instance of the `function` class.  So, everything in Python is actually an instance (object) of some kind of class."
   ]
  },
  {
   "cell_type": "code",
   "execution_count": 4,
   "id": "687b1fa8",
   "metadata": {},
   "outputs": [
    {
     "name": "stdout",
     "output_type": "stream",
     "text": [
      "HELLO\n"
     ]
    }
   ],
   "source": [
    "str_hello = 'hello'\n",
    "print(str_hello.upper())"
   ]
  },
  {
   "cell_type": "markdown",
   "id": "37895e63",
   "metadata": {},
   "source": [
    "What is `.upper()`?  It is a method defined in the `str` class that is acting on a specfic object, which in this case is `str_hello`. "
   ]
  },
  {
   "cell_type": "code",
   "execution_count": 3,
   "id": "88f36ec8",
   "metadata": {},
   "outputs": [],
   "source": [
    "class Dog:\n",
    "    def bark(self):  # method\n",
    "        print('woof woof yap yap')\n",
    "        \n",
    "    def add_one(self, x):\n",
    "        return x+1"
   ]
  },
  {
   "cell_type": "code",
   "execution_count": 4,
   "id": "4aa8a8fd",
   "metadata": {},
   "outputs": [
    {
     "name": "stdout",
     "output_type": "stream",
     "text": [
      "<class '__main__.Dog'>\n",
      "woof woof yap yap\n"
     ]
    }
   ],
   "source": [
    "d = Dog()  # d is an instance of Dog\n",
    "print(type(d))\n",
    "d.bark()"
   ]
  },
  {
   "cell_type": "code",
   "execution_count": 5,
   "id": "d7b4d337",
   "metadata": {},
   "outputs": [
    {
     "data": {
      "text/plain": [
       "6"
      ]
     },
     "execution_count": 5,
     "metadata": {},
     "output_type": "execute_result"
    }
   ],
   "source": [
    "d.add_one(5)"
   ]
  },
  {
   "cell_type": "code",
   "execution_count": 13,
   "id": "74e7d8b0",
   "metadata": {},
   "outputs": [
    {
     "name": "stdout",
     "output_type": "stream",
     "text": [
      "woof woof yap yap\n"
     ]
    }
   ],
   "source": [
    "\"\"\"  \"\"\"\n",
    "class Chihuahua(Dog):\n",
    "    _name = \"Cheeto\"\n",
    "    \n",
    "ch = Chihuahua()\n",
    "ch.bark()"
   ]
  },
  {
   "cell_type": "markdown",
   "id": "45cc8ef2-19a3-4abb-a024-7b86342b62c6",
   "metadata": {},
   "source": [
    "## Classes\n",
    "*(from: https://realpython.com/python3-object-oriented-programming/)*\n",
    "\n",
    "<blockquote>\n",
    "\"The primitive data structures available in Python, like numbers, strings, and lists are designed to represent simple things like the cost of something, the name of a poem, and your favorite colors, respectively.\n",
    "\n",
    "What if you wanted to represent something much more complicated?\n",
    "\n",
    "For example, let’s say you wanted to track a number of different animals. If you used a list, the first element could be the animal’s name while the second element could represent its age.\n",
    "\n",
    "How would you know which element is supposed to be which? What if you had 100 different animals? Are you certain each animal has both a name and an age, and so forth? What if you wanted to add other properties to these animals? This lacks organization, and it’s the exact need for classes.\n",
    "\n",
    "Classes are used to create new user-defined data structures that contain arbitrary information about something. In the case of an animal, we could create an Animal() class to track properties about the Animal like the name and age.\n",
    "\n",
    "It’s important to note that a class just provides structure—it’s a blueprint for how something should be defined, but it doesn’t actually provide any real content itself. The Animal() class may specify that the name and age are necessary for defining an animal, but it will not actually state what a specific animal’s name or age is.\n",
    "\n",
    "It may help to think of a class as an idea for how something should be defined.\"\n",
    "</blockquote>"
   ]
  },
  {
   "cell_type": "markdown",
   "id": "47a53e31-f803-4506-a7aa-00efc1af408d",
   "metadata": {},
   "source": [
    "Let's create a `Cat` class! What are some attributes of a `Cat`? It should have a `name` and `age`! It can also be `tired` and `hungry`. What are some actions (or methods) that the `Cat` can do? It `feed` and `sleep` and `meow`! Should feeding and sleeping update specific attributes of the `Cat`? Now that we have our `Cat`, let's code it up!"
   ]
  },
  {
   "cell_type": "code",
   "execution_count": null,
   "id": "4b555583-3864-4b55-851d-50e9293863b9",
   "metadata": {},
   "outputs": [],
   "source": [
    "class Cat:\n",
    "\n",
    "    # Initializer / Instance Attributes\n",
    "    def __init__(self, name, age):\n",
    "        self.name = name\n",
    "        self.age = age\n",
    "        self.hungry = True\n",
    "        self.tired = True\n",
    "\n",
    "    # instance method\n",
    "    def description(self):\n",
    "        __name_age__ = \"{} is {} years old. \".format(self.name, self.age)\n",
    "        \n",
    "        if self.tired == True:\n",
    "            __is_tired__ = \"{} is tired. \".format(self.name)\n",
    "        else:\n",
    "            __is_tired__ = \"{} is not tired. \".format(self.name)\n",
    "        \n",
    "        if self.hungry == True:\n",
    "             __is_hungry__ = \"{} is hungry. \".format(self.name)\n",
    "        else:\n",
    "            __is_hungry__ = \"{} is not hungry. \".format(self.name)\n",
    "        \n",
    "        return str(__name_age__+__is_tired__+__is_hungry__)\n",
    "\n",
    "    # instance method\n",
    "    def meow(self):\n",
    "        return \"{} says {}\".format(self.name, \"Meow! Meow!\")\n",
    "    \n",
    "    def feed(self):\n",
    "        self.hungry = False\n",
    "        print(self.meow())\n",
    "        \n",
    "    def sleep(self):\n",
    "        self.tired = False"
   ]
  },
  {
   "cell_type": "code",
   "execution_count": null,
   "id": "ccc0bdd9-beee-4760-951d-876c851b9e5a",
   "metadata": {},
   "outputs": [],
   "source": [
    "# Instantiate the Cat object\n",
    "kitty = Cat(\"Fat Cat\", 6)"
   ]
  },
  {
   "cell_type": "code",
   "execution_count": null,
   "id": "4b7e0147-cf08-4f06-922e-a43e4e947f17",
   "metadata": {},
   "outputs": [],
   "source": [
    "# call our instance methods\n",
    "print(kitty.description())\n",
    "print(kitty.meow())"
   ]
  },
  {
   "cell_type": "code",
   "execution_count": null,
   "id": "6693b30d-ac20-4a91-bb65-52f7f815b1ef",
   "metadata": {},
   "outputs": [],
   "source": [
    "kitty.feed()"
   ]
  },
  {
   "cell_type": "code",
   "execution_count": null,
   "id": "15d3d717-ce31-4c79-a841-082ec76cd596",
   "metadata": {},
   "outputs": [],
   "source": [
    "print(kitty.description())"
   ]
  },
  {
   "cell_type": "code",
   "execution_count": null,
   "id": "4d7564e7-2647-4440-87c8-acf866a7092f",
   "metadata": {},
   "outputs": [],
   "source": [
    "kitty.sleep()"
   ]
  },
  {
   "cell_type": "code",
   "execution_count": null,
   "id": "17ab732d-0959-4062-9313-fe2735f30eef",
   "metadata": {},
   "outputs": [],
   "source": [
    "print(kitty.description())"
   ]
  },
  {
   "cell_type": "code",
   "execution_count": null,
   "id": "aa61d4b2-0a69-4c0b-a255-7fa76b646704",
   "metadata": {},
   "outputs": [],
   "source": [
    "kitty.name = 'Shawn'"
   ]
  },
  {
   "cell_type": "code",
   "execution_count": null,
   "id": "eb201a9b-1d85-43fb-8dd3-192b5462d669",
   "metadata": {},
   "outputs": [],
   "source": [
    "kitty.meow()"
   ]
  },
  {
   "cell_type": "markdown",
   "id": "8a31bbf9-0a02-434f-9b63-cd6fa713cd70",
   "metadata": {},
   "source": [
    "## Modules\n",
    "\n",
    "A Module is a python file that contains a collection of related definitions. Python has hundreds of standard modules. These are organized into what is known as the [Python Standard Library](http://docs.python.org/library/). You can also create and use your own modules. To use functionality from a module, you first have to import the entire module or parts of it into your namespace\n",
    "\n",
    "To import the entire module:\n",
    "`import module_name`\n",
    "\n",
    "You can also import a module using a specific name:\n",
    "`import module_name as new_module_name`\n",
    "\n",
    "To import specific definitions (e.g. functions, variables, etc) from the module into your local namespace:\n",
    "`from module_name import name1, name2`"
   ]
  },
  {
   "cell_type": "code",
   "execution_count": 1,
   "id": "153a7c82-4e44-460f-b644-9f78ebcb639f",
   "metadata": {},
   "outputs": [],
   "source": [
    "import os\n",
    "from glob import glob"
   ]
  },
  {
   "cell_type": "markdown",
   "id": "787b4f99-8c85-4111-b022-7058564eccc5",
   "metadata": {},
   "source": [
    "To get the curent directory, you can use: `os.path.abspath(os.path.curdir)`"
   ]
  },
  {
   "cell_type": "markdown",
   "id": "90ef5817-9a43-4e1d-a3cc-ca0a92968cd2",
   "metadata": {},
   "source": [
    "Let’s use glob, a pattern matching function. We will use an if statement to print:\n",
    "- A list of directories if we are using Google Colab\n",
    "- A list of ipynb files in the current folder if we are using Jupyter Notebook locally"
   ]
  },
  {
   "cell_type": "code",
   "execution_count": 5,
   "id": "54edd933-cbf2-4dc8-8212-d006a7d28f28",
   "metadata": {},
   "outputs": [
    {
     "name": "stdout",
     "output_type": "stream",
     "text": [
      "Not running on Colab... Printing list of files\n",
      "['./module-02-01_Nonlinear-Modeling.ipynb', './module-03-00_Two-Armed-Bandit.ipynb', './module-03-02_RL-Exercises.ipynb', './module-01-03_Python-Exercises.ipynb', './module-01-02_Working-with-Data.ipynb', './module-04-00_Social-Learning.ipynb', './module-01-01_Intro-to-Python.ipynb', './module-03-01_Models-of-Learning.ipynb', './module-04-01_Prosocial-RL-Exercises.ipynb', './module-02-00_Linear-Modeling.ipynb', './module-01-00_Jupyter-Notebooks.ipynb', './module-02-02_Modeling-Exercises.ipynb']\n"
     ]
    }
   ],
   "source": [
    "if 'google.colab' in str(get_ipython()):\n",
    "    print('Running on Colab... Printing list of directories')\n",
    "    data_file_list = glob('/*')\n",
    "else:\n",
    "    print('Not running on Colab... Printing list of files')\n",
    "    data_file_list = glob(os.path.join(os.path.curdir,'*ipynb'))\n",
    "print(data_file_list)"
   ]
  },
  {
   "cell_type": "markdown",
   "id": "6707239d-7d28-4931-9c30-fe12c4df553c",
   "metadata": {},
   "source": [
    "This gives us a list of the files including the relative path from the current directory. What if we wanted just the filenames? There are several different ways to do this. First, we can use the the os.path.basename function. We loop over every file, grab the base file name and then append it to a new list."
   ]
  },
  {
   "cell_type": "code",
   "execution_count": null,
   "id": "3081f760-2550-47d5-a18f-00a54ae85c0b",
   "metadata": {},
   "outputs": [],
   "source": [
    "file_list = []\n",
    "for f in data_file_list:\n",
    "    file_list.append(os.path.basename(f))\n",
    "\n",
    "print(file_list)"
   ]
  },
  {
   "cell_type": "markdown",
   "id": "316e4d01-daf2-4fd2-b86a-f3d27ee0419b",
   "metadata": {},
   "source": [
    "It is also sometimes even cleaner to do this as a list comprehension"
   ]
  },
  {
   "cell_type": "code",
   "execution_count": null,
   "id": "6de202e9-5267-4f8d-be82-03b0e758e682",
   "metadata": {},
   "outputs": [],
   "source": [
    "[os.path.basename(x) for x in data_file_list]"
   ]
  }
 ],
 "metadata": {
  "kernelspec": {
   "display_name": "Python 3 (ipykernel)",
   "language": "python",
   "name": "python3"
  },
  "language_info": {
   "codemirror_mode": {
    "name": "ipython",
    "version": 3
   },
   "file_extension": ".py",
   "mimetype": "text/x-python",
   "name": "python",
   "nbconvert_exporter": "python",
   "pygments_lexer": "ipython3",
   "version": "3.8.2"
  }
 },
 "nbformat": 4,
 "nbformat_minor": 5
}
