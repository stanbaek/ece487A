{
 "cells": [
  {
   "cell_type": "markdown",
   "id": "edfba5c0",
   "metadata": {},
   "source": [
    "# ECE487 Object-Oriented Programming\n",
    "\n",
    "## A note on this document\n",
    "This document is known as a Jupyter notebook; it is used in academia and industry to allow text and executable code to coexist in a very easy to read format. Blocks can contain text or code, and for blocks containing code, press `Shift + Enter` to run the code. Earlier blocks of code need to be run for the later blocks of code to work.\n",
    "\n",
    "\n",
    "_Reference: D. Beazley, Python Essential Reference, 4th ed, Addison Wesley, 2009_"
   ]
  },
  {
   "cell_type": "markdown",
   "id": "b454075b",
   "metadata": {},
   "source": [
    "## Purpose\n",
    "This in-class exercise (ICE) will introduce Python3 fundamentals through application. "
   ]
  },
  {
   "cell_type": "markdown",
   "id": "16c41d7b",
   "metadata": {},
   "source": [
    "## Introduction to Objects and Classes\n",
    "All values used in a prgram are objects.  An _object_ consists of internal data and methods that perform various kinds of operations involving that data.  You have already used objects and methods when working with the built-in types such as strings adn lists. For example,"
   ]
  },
  {
   "cell_type": "code",
   "execution_count": 5,
   "id": "79a253dd",
   "metadata": {},
   "outputs": [],
   "source": [
    "items = [37, 42] # create a list object\n",
    "items.append(73) # call the append() method"
   ]
  },
  {
   "cell_type": "markdown",
   "id": "ce50176e",
   "metadata": {},
   "source": [
    "The dir() function lists the methods available on an object and is a useful tool for interactive experimentation. For example,"
   ]
  },
  {
   "cell_type": "code",
   "execution_count": 7,
   "id": "22746aca",
   "metadata": {},
   "outputs": [
    {
     "data": {
      "text/plain": [
       "['__add__',\n",
       " '__class__',\n",
       " '__class_getitem__',\n",
       " '__contains__',\n",
       " '__delattr__',\n",
       " '__delitem__',\n",
       " '__dir__',\n",
       " '__doc__',\n",
       " '__eq__',\n",
       " '__format__',\n",
       " '__ge__',\n",
       " '__getattribute__',\n",
       " '__getitem__',\n",
       " '__gt__',\n",
       " '__hash__',\n",
       " '__iadd__',\n",
       " '__imul__',\n",
       " '__init__',\n",
       " '__init_subclass__',\n",
       " '__iter__',\n",
       " '__le__',\n",
       " '__len__',\n",
       " '__lt__',\n",
       " '__mul__',\n",
       " '__ne__',\n",
       " '__new__',\n",
       " '__reduce__',\n",
       " '__reduce_ex__',\n",
       " '__repr__',\n",
       " '__reversed__',\n",
       " '__rmul__',\n",
       " '__setattr__',\n",
       " '__setitem__',\n",
       " '__sizeof__',\n",
       " '__str__',\n",
       " '__subclasshook__',\n",
       " 'append',\n",
       " 'clear',\n",
       " 'copy',\n",
       " 'count',\n",
       " 'extend',\n",
       " 'index',\n",
       " 'insert',\n",
       " 'pop',\n",
       " 'remove',\n",
       " 'reverse',\n",
       " 'sort']"
      ]
     },
     "execution_count": 7,
     "metadata": {},
     "output_type": "execute_result"
    }
   ],
   "source": [
    "dir(items)"
   ]
  },
  {
   "cell_type": "markdown",
   "id": "8ad0df43",
   "metadata": {},
   "source": [
    "When inspecting objects, you will see familiar methods such as append() and insert() listed.  However, you will also see special methods that always begin and end with a double underscore.  These methods implement various language operations.  For example, the `__add__()` method implements the + operator:"
   ]
  },
  {
   "cell_type": "code",
   "execution_count": 10,
   "id": "15b65ec3",
   "metadata": {},
   "outputs": [
    {
     "data": {
      "text/plain": [
       "[37, 42, 73, 3, 101]"
      ]
     },
     "execution_count": 10,
     "metadata": {},
     "output_type": "execute_result"
    }
   ],
   "source": [
    "items.__add__([3, 101])"
   ]
  },
  {
   "cell_type": "markdown",
   "id": "af3e7fb7",
   "metadata": {},
   "source": [
    "which is the same as "
   ]
  },
  {
   "cell_type": "code",
   "execution_count": 11,
   "id": "45a75e06",
   "metadata": {},
   "outputs": [
    {
     "data": {
      "text/plain": [
       "[37, 42, 73, 3, 101]"
      ]
     },
     "execution_count": 11,
     "metadata": {},
     "output_type": "execute_result"
    }
   ],
   "source": [
    "items + [3, 101]"
   ]
  },
  {
   "cell_type": "markdown",
   "id": "0cc9cfc7",
   "metadata": {},
   "source": [
    "It tells us that `x` is an instance (object) of the `int` class."
   ]
  },
  {
   "cell_type": "code",
   "execution_count": 2,
   "id": "5abf567d",
   "metadata": {},
   "outputs": [
    {
     "name": "stdout",
     "output_type": "stream",
     "text": [
      "<class 'str'>\n"
     ]
    }
   ],
   "source": [
    "s = \"Hello\"\n",
    "print(type(s))"
   ]
  },
  {
   "cell_type": "markdown",
   "id": "5e87d693",
   "metadata": {},
   "source": [
    "The string, \"Hello\", we typed in is actually an instance (object) of the `str` class."
   ]
  },
  {
   "cell_type": "code",
   "execution_count": 3,
   "id": "5652b024",
   "metadata": {},
   "outputs": [
    {
     "name": "stdout",
     "output_type": "stream",
     "text": [
      "<class 'function'>\n"
     ]
    }
   ],
   "source": [
    "def hello():\n",
    "    print('Hello')\n",
    "    \n",
    "print(type(hello))"
   ]
  },
  {
   "cell_type": "markdown",
   "id": "0e20c7e4",
   "metadata": {},
   "source": [
    "The `hello` function is an instance of the `function` class.  So, everything in Python is actually an instance (object) of some kind of class."
   ]
  },
  {
   "cell_type": "code",
   "execution_count": 4,
   "id": "687b1fa8",
   "metadata": {},
   "outputs": [
    {
     "name": "stdout",
     "output_type": "stream",
     "text": [
      "HELLO\n"
     ]
    }
   ],
   "source": [
    "str_hello = 'hello'\n",
    "print(str_hello.upper())"
   ]
  },
  {
   "cell_type": "markdown",
   "id": "37895e63",
   "metadata": {},
   "source": [
    "What is `.upper()`?  It is a method defined in the `str` class that is acting on a specfic object, which in this case is `str_hello`. "
   ]
  },
  {
   "cell_type": "code",
   "execution_count": 3,
   "id": "88f36ec8",
   "metadata": {},
   "outputs": [],
   "source": [
    "class Dog:\n",
    "    def bark(self):  # method\n",
    "        print('woof woof yap yap')\n",
    "        \n",
    "    def add_one(self, x):\n",
    "        return x+1"
   ]
  },
  {
   "cell_type": "code",
   "execution_count": 4,
   "id": "4aa8a8fd",
   "metadata": {},
   "outputs": [
    {
     "name": "stdout",
     "output_type": "stream",
     "text": [
      "<class '__main__.Dog'>\n",
      "woof woof yap yap\n"
     ]
    }
   ],
   "source": [
    "d = Dog()  # d is an instance of Dog\n",
    "print(type(d))\n",
    "d.bark()"
   ]
  },
  {
   "cell_type": "code",
   "execution_count": 5,
   "id": "d7b4d337",
   "metadata": {},
   "outputs": [
    {
     "data": {
      "text/plain": [
       "6"
      ]
     },
     "execution_count": 5,
     "metadata": {},
     "output_type": "execute_result"
    }
   ],
   "source": [
    "d.add_one(5)"
   ]
  },
  {
   "cell_type": "code",
   "execution_count": 13,
   "id": "74e7d8b0",
   "metadata": {},
   "outputs": [
    {
     "name": "stdout",
     "output_type": "stream",
     "text": [
      "woof woof yap yap\n"
     ]
    }
   ],
   "source": [
    "\"\"\"  \"\"\"\n",
    "class Chihuahua(Dog):\n",
    "    _name = \"Cheeto\"\n",
    "    \n",
    "ch = Chihuahua()\n",
    "ch.bark()"
   ]
  }
 ],
 "metadata": {
  "kernelspec": {
   "display_name": "Python 3 (ipykernel)",
   "language": "python",
   "name": "python3"
  },
  "language_info": {
   "codemirror_mode": {
    "name": "ipython",
    "version": 3
   },
   "file_extension": ".py",
   "mimetype": "text/x-python",
   "name": "python",
   "nbconvert_exporter": "python",
   "pygments_lexer": "ipython3",
   "version": "3.8.2"
  }
 },
 "nbformat": 4,
 "nbformat_minor": 5
}
