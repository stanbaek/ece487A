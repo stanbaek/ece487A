{
 "cells": [
  {
   "cell_type": "markdown",
   "id": "edfba5c0",
   "metadata": {
    "tags": []
   },
   "source": [
    "# ❄️ ICE3: Spatial Math for Python"
   ]
  },
  {
   "cell_type": "markdown",
   "id": "d6feb073-866a-4ec3-a11d-06f895d1a5a7",
   "metadata": {
    "tags": []
   },
   "source": [
    "## A note on this document\n",
    "This document is known as a Jupyter notebook; it is used in academia and industry to allow text and executable code to coexist in a very easy to read format. Blocks can contain text or code, and for blocks containing code, press `Shift + Enter` to run the code. Earlier blocks of code need to be run for the later blocks of code to work."
   ]
  },
  {
   "cell_type": "markdown",
   "id": "b454075b",
   "metadata": {
    "tags": []
   },
   "source": [
    "## Introduction\n",
    "This lab assignment will introduce the spatialmath package that will be used throughout the semester to control robotic arms."
   ]
  },
  {
   "cell_type": "markdown",
   "id": "0869b721",
   "metadata": {},
   "source": [
    "### Documentation\n",
    "This lab has been adapted from the Spatial Math for Python Documentation https://petercorke.github.io/spatialmath-python/.  Refer to the follwing links for more details.\n",
    "\n",
    "https://github.com/petercorke/spatialmath-python\n",
    "https://petercorke.github.io/spatialmath-python/\n"
   ]
  },
  {
   "cell_type": "markdown",
   "id": "398b87e9-9def-40a0-b6e3-b4c1f2a26bdb",
   "metadata": {},
   "source": [
    "## Procedure"
   ]
  },
  {
   "cell_type": "markdown",
   "id": "cde995db",
   "metadata": {},
   "source": [
    "### Transformation Matrices in 2D"
   ]
  },
  {
   "cell_type": "markdown",
   "id": "be08e13e",
   "metadata": {},
   "source": [
    "First, import the **low-level** transform functions"
   ]
  },
  {
   "cell_type": "code",
   "execution_count": null,
   "id": "04f3cfe7",
   "metadata": {},
   "outputs": [],
   "source": [
    "from spatialmath.base import *  # import low-level functions\n",
    "import numpy as np"
   ]
  },
  {
   "cell_type": "code",
   "execution_count": null,
   "id": "0c0cb3ab",
   "metadata": {},
   "outputs": [],
   "source": [
    "# We can create a rotation matrix in 2-dimensional space\n",
    "R = rot2(np.pi/4) # the angle is specified in radians.\n",
    "print(R)\n",
    "\n",
    "# The object type of R can be found by\n",
    "print(type(R))\n",
    "# R is a numpy.ndarray object\n",
    "\n",
    "# We can find the determinant of the matrix such as\n",
    "d = np.linalg.det(R)\n",
    "print(d)"
   ]
  },
  {
   "cell_type": "markdown",
   "id": "e2a09e0d",
   "metadata": {},
   "source": [
    "As it is expected, R is a 2 by 2 matrix that is a `numpy.ndarray` object.  We can also create a homogeneous transformation matrix in 2-D that is a 3 by 3 matrix."
   ]
  },
  {
   "cell_type": "code",
   "execution_count": null,
   "id": "3973b246",
   "metadata": {},
   "outputs": [],
   "source": [
    "# Homogeneous transformation matrix for a rotation of 30 deg\n",
    "T = trot2(30, 'deg')\n",
    "print(T)\n",
    "\n",
    "# Create a homogeneous transformation in 2-D that represents \n",
    "# a translation of (1,2) followed by a rotation of 45 deg\n",
    "T1 = transl2(1,2)@trot2(np.pi/4)   # It is trans el-two not trans one-two\n",
    "print(T1)\n",
    "\n",
    "type(T1)"
   ]
  },
  {
   "cell_type": "markdown",
   "id": "562cc65e",
   "metadata": {},
   "source": [
    "**Note**: `*` is for element-wise multiplication whereas `@` is for matrix multiplication.\n",
    "\n",
    "The function `transl2` creates a relative pose with a finite translation but zero rotation, while `trot2` creates a relative pose with a finite rotation but zero translation.  We can plot this, relative to the world coordinate frame, by"
   ]
  },
  {
   "cell_type": "code",
   "execution_count": null,
   "id": "9c55d8e4",
   "metadata": {},
   "outputs": [],
   "source": [
    "trplot2(T1, frame='A')"
   ]
  },
  {
   "cell_type": "markdown",
   "id": "f7b63368",
   "metadata": {},
   "source": [
    "If it does not display a plot in PyCharm, you need to install matplotlib package.  Go to File > Settings > Project > Python Interpreter. Click + to install matplotlib. Once installation is complete add to your code\n",
    "```\n",
    "import matplotlib.pyplot as plt\n",
    "```\n",
    "and after the `trplot2()` function add\n",
    "```\n",
    "plt.show()\n",
    "```"
   ]
  },
  {
   "cell_type": "markdown",
   "id": "e72324dc",
   "metadata": {},
   "source": [
    "Use `plotvol2` to modify the plot area"
   ]
  },
  {
   "cell_type": "code",
   "execution_count": null,
   "id": "4bf7501b",
   "metadata": {},
   "outputs": [],
   "source": [
    "trplot2(T1, frame='A')\n",
    "plotvol2([0,2,0,3], grid=True)  # axis dimension: x = [0,2], y=[0,3] "
   ]
  },
  {
   "cell_type": "markdown",
   "id": "1bf46966",
   "metadata": {},
   "source": [
    "We can run `help` function to learn details of these functions by"
   ]
  },
  {
   "cell_type": "code",
   "execution_count": null,
   "id": "3205bc9c",
   "metadata": {},
   "outputs": [],
   "source": [
    "help(trplot2)"
   ]
  },
  {
   "cell_type": "markdown",
   "id": "6cc6d0fe",
   "metadata": {},
   "source": [
    "We can create another relative pose which is a displacement of (2,1) and zero rotation"
   ]
  },
  {
   "cell_type": "code",
   "execution_count": null,
   "id": "9d2904b7",
   "metadata": {},
   "outputs": [],
   "source": [
    "T2 = transl2(2,1)\n",
    "print(T2)"
   ]
  },
  {
   "cell_type": "markdown",
   "id": "4f60e38a",
   "metadata": {},
   "source": [
    "Now we can compose the two relative poses"
   ]
  },
  {
   "cell_type": "code",
   "execution_count": null,
   "id": "4479e636",
   "metadata": {},
   "outputs": [],
   "source": [
    "T3 = T1@T2\n",
    "print(T3)"
   ]
  },
  {
   "cell_type": "markdown",
   "id": "007ad724",
   "metadata": {},
   "source": [
    "and plot them as"
   ]
  },
  {
   "cell_type": "code",
   "execution_count": null,
   "id": "ed9b2c75",
   "metadata": {},
   "outputs": [],
   "source": [
    "trplot2(T1, frame='A', width=1)\n",
    "trplot2(T2, frame='B', color='red', width=1)\n",
    "trplot2(T3, frame='C', color='green', width=1)\n",
    "plotvol2([0,4,0,5], grid=True)"
   ]
  },
  {
   "cell_type": "markdown",
   "id": "b2431b4f",
   "metadata": {},
   "source": [
    "**Notice that the displacement of (2,1) has been applied with respect to frame {A}.** It is important to note that the final displacement is not (3,3) because the displacement is with respect to the rotated coordinate frame. The noncommutativity of composition is clearly demonstrated by "
   ]
  },
  {
   "cell_type": "code",
   "execution_count": null,
   "id": "c179f0ec",
   "metadata": {},
   "outputs": [],
   "source": [
    "T4 = T2@T1\n",
    "trplot2(T1, frame='A', width=1)\n",
    "trplot2(T2, frame='B', color='red', width=1)\n",
    "trplot2(T3, frame='C', color='green', width=1)\n",
    "trplot2(T4, frame='D', color='black')\n",
    "plotvol2([0,4,0,5], grid=True)"
   ]
  },
  {
   "cell_type": "markdown",
   "id": "1f4b02b6",
   "metadata": {},
   "source": [
    "and we can see that Frame {D} is different to Frame {C} as shown in Figure 1. \n",
    "\n",
    "Now we can define a point $[3,2]^\\top$ relative to the world frame (Frame {0})"
   ]
  },
  {
   "cell_type": "code",
   "execution_count": null,
   "id": "03f940a7",
   "metadata": {},
   "outputs": [],
   "source": [
    "P_0 = np.array([3,2]).reshape([2,1])  # it must be a 2 by 1 column vector \n",
    "print(P_0)"
   ]
  },
  {
   "cell_type": "markdown",
   "id": "ac368113",
   "metadata": {},
   "source": [
    "which is a column vector.\n",
    "\n",
    "We can determine the coordinate of the point with respect to {A} by\n",
    "$$^0\\tilde{\\mathbf{p}} = {^0T}_A {^A\\tilde{\\mathbf{p}}} $$\n",
    "and then rearrange as\n",
    "$${^A\\tilde{\\mathbf{p}}} = {^AT_0} {^0\\tilde{\\mathbf{p}}} = {^0T^{-1}_A} {^0\\tilde{\\mathbf{p}}} $$\n",
    "Substituting numeric values"
   ]
  },
  {
   "cell_type": "code",
   "execution_count": null,
   "id": "720a1409",
   "metadata": {},
   "outputs": [],
   "source": [
    "p_0 = e2h(P_0)  # convert from Euclidean to homogeneous form\n",
    "print(p_0)\n",
    "p_A = np.linalg.inv(T1)@p_0\n",
    "print(p_A)"
   ]
  },
  {
   "cell_type": "markdown",
   "id": "6525e129",
   "metadata": {},
   "source": [
    "where we first convert the Euclidean point coordinates to homogeneous form by appending a one. The result is also in homogeneous form and has a negative y-coordinate in frame {A}.  Using `h2e` we could also have expressed this as "
   ]
  },
  {
   "cell_type": "code",
   "execution_count": null,
   "id": "0aa724ca",
   "metadata": {},
   "outputs": [],
   "source": [
    "P_A = h2e(np.linalg.inv(T1)@p_0)\n",
    "print(P_A)"
   ]
  },
  {
   "cell_type": "markdown",
   "id": "cc89be0d",
   "metadata": {},
   "source": [
    "You can use `set_printoptions` to change the way foating point numbers and numpy arrays are displayed"
   ]
  },
  {
   "cell_type": "code",
   "execution_count": null,
   "id": "8c565ed2",
   "metadata": {},
   "outputs": [],
   "source": [
    "float_formatter = \"{:.2f}\".format\n",
    "np.set_printoptions(formatter={'float_kind':float_formatter})\n",
    "print(P_A)"
   ]
  },
  {
   "cell_type": "markdown",
   "id": "a04495c2",
   "metadata": {},
   "source": [
    "###\tTransformation Matrices in 3D"
   ]
  },
  {
   "cell_type": "markdown",
   "id": "a2bacd08",
   "metadata": {},
   "source": [
    "The spatial maths package provides functions to compute rotation matrices in 3D, for example $R_X(\\theta)$ is"
   ]
  },
  {
   "cell_type": "code",
   "execution_count": null,
   "id": "8220777d",
   "metadata": {},
   "outputs": [],
   "source": [
    "R = rotx(np.pi/2)\n",
    "print(R)"
   ]
  },
  {
   "cell_type": "markdown",
   "id": "9d321a2b",
   "metadata": {},
   "source": [
    "The function `rotx` returns the rotation matrix that rotates a point around the x-axis for an input in radians. The functions `roty` and `rotz` compute $R_Y(\\theta)$ and $R_Z(\\theta)$, respectively.  The corresponding coordinate frame can be displayed graphically"
   ]
  },
  {
   "cell_type": "code",
   "execution_count": null,
   "id": "6f57bb4d",
   "metadata": {},
   "outputs": [],
   "source": [
    "trplot(R)"
   ]
  },
  {
   "cell_type": "markdown",
   "id": "f4a3d9e5",
   "metadata": {},
   "source": [
    "To illustrate compounding of rotations we will rotate the frame again, this time around its y-axis"
   ]
  },
  {
   "cell_type": "code",
   "execution_count": null,
   "id": "e98b91ca",
   "metadata": {},
   "outputs": [],
   "source": [
    "R = rotx(np.pi/2)@roty(90, 'deg')\n",
    "print(R)\n",
    "trplot(R)"
   ]
  },
  {
   "cell_type": "markdown",
   "id": "5d610b71",
   "metadata": {},
   "source": [
    "The non-commutativity of rotation can be shown by reversing the order of the rotations:"
   ]
  },
  {
   "cell_type": "code",
   "execution_count": null,
   "id": "7012955e",
   "metadata": {},
   "outputs": [],
   "source": [
    "R = roty(np.pi/2)@rotx(np.pi/2)\n",
    "print(R)\n",
    "trplot(R)"
   ]
  },
  {
   "cell_type": "markdown",
   "id": "c0bc06a8",
   "metadata": {},
   "source": [
    "The ZYX Euler angles $R=R_Z(\\psi)R_Y(\\theta)R_X(\\phi)$ is commonly used in robotic arms. The Euler angles are the 3-vector $(\\psi, \\theta, \\phi)$. For example, to compute the equivalent rotation matrix for $(60^\\circ, 45^\\circ, 30^\\circ)$ we write\n"
   ]
  },
  {
   "cell_type": "code",
   "execution_count": null,
   "id": "6e1998ef",
   "metadata": {},
   "outputs": [],
   "source": [
    "Rzyx = rotz(np.pi/6)@roty(np.pi/4)@rotx(np.pi/3)\n",
    "print(Rzyx)"
   ]
  },
  {
   "cell_type": "markdown",
   "id": "d444c434",
   "metadata": {},
   "source": [
    "or more conveniently"
   ]
  },
  {
   "cell_type": "code",
   "execution_count": null,
   "id": "1fdc7cb4",
   "metadata": {},
   "outputs": [],
   "source": [
    "Rzyx = rpy2r(np.pi/3, np.pi/4, np.pi/6)  # roll-pitch-yaw to rotation matrix\n",
    "print(Rzyx)"
   ]
  },
  {
   "cell_type": "markdown",
   "id": "578b8a6f",
   "metadata": {},
   "source": [
    "The function `rpy2r(alpha, beta, gamma)` transforms roll-pitch-yaw angles to a rotation matrix. The default is ZYX Euler angles - rotate by gamma about the z-axis, then by beta about the new y-axis, then by alpha about the new x-axis.  The inverse is"
   ]
  },
  {
   "cell_type": "code",
   "execution_count": null,
   "id": "35f978a2",
   "metadata": {},
   "outputs": [],
   "source": [
    "rpy = tr2rpy(Rzyx)\n",
    "print(rpy)"
   ]
  },
  {
   "cell_type": "markdown",
   "id": "b274ffe1",
   "metadata": {},
   "source": [
    "in radians or"
   ]
  },
  {
   "cell_type": "code",
   "execution_count": null,
   "id": "0bc7e8c8",
   "metadata": {},
   "outputs": [],
   "source": [
    "rpy = tr2rpy(Rzyx, unit='deg')\n",
    "print(rpy)"
   ]
  },
  {
   "cell_type": "markdown",
   "id": "304f3aab",
   "metadata": {},
   "source": [
    "in degrees.  To compute the rotation matrix for XYZ Euler angles with $(60^\\circ, 45^\\circ, 30^\\circ)$ we write"
   ]
  },
  {
   "cell_type": "code",
   "execution_count": null,
   "id": "8cbec9d4",
   "metadata": {},
   "outputs": [],
   "source": [
    "Rxyz = rotx(np.pi/6)@roty(np.pi/4)@rotz(np.pi/3)\n",
    "print(Rxyz)"
   ]
  },
  {
   "cell_type": "markdown",
   "id": "4cb1cf70",
   "metadata": {},
   "source": [
    "or"
   ]
  },
  {
   "cell_type": "code",
   "execution_count": null,
   "id": "258e85e6",
   "metadata": {},
   "outputs": [],
   "source": [
    "Rxyz = rpy2r(np.pi/3, np.pi/4, np.pi/6, order='xyz')\n",
    "print(Rxyz)"
   ]
  },
  {
   "cell_type": "markdown",
   "id": "e5ac683b",
   "metadata": {},
   "source": [
    "The inverse is"
   ]
  },
  {
   "cell_type": "code",
   "execution_count": null,
   "id": "ffa285f2",
   "metadata": {},
   "outputs": [],
   "source": [
    "rpy = tr2rpy(R, unit='deg', order='xyz')\n",
    "print(rpy)"
   ]
  },
  {
   "cell_type": "markdown",
   "id": "63a252da",
   "metadata": {},
   "source": [
    "A homogeneous transformation matrix can be implemented by"
   ]
  },
  {
   "cell_type": "code",
   "execution_count": null,
   "id": "d342c422",
   "metadata": {},
   "outputs": [],
   "source": [
    "T = rpy2tr(0, 90, 0, unit='deg', order='zyx')\n",
    "print(T)"
   ]
  },
  {
   "cell_type": "markdown",
   "id": "2249e960",
   "metadata": {},
   "source": [
    "which is a 4 by 4 matrix. We can extract the Euler angles by"
   ]
  },
  {
   "cell_type": "code",
   "execution_count": null,
   "id": "9f7acf6c",
   "metadata": {},
   "outputs": [],
   "source": [
    "rpy = tr2rpy(T, unit='deg')\n",
    "print(rpy)"
   ]
  },
  {
   "cell_type": "markdown",
   "id": "cf48ac99",
   "metadata": {},
   "source": [
    "The `trplot` function supports various plotting styles as follows."
   ]
  },
  {
   "cell_type": "code",
   "execution_count": null,
   "id": "248b1187",
   "metadata": {},
   "outputs": [],
   "source": [
    "trplot( transl(1,2,3), frame='A', rviz=True, width=1)\n",
    "trplot( transl(3,1, 2), color='red', width=3, frame='B')\n",
    "trplot( transl(4, 3, 1)@trotx(np.pi/3), color='green', frame='c', dims=[0,4,0,4,0,4])"
   ]
  },
  {
   "cell_type": "markdown",
   "id": "64de166c",
   "metadata": {},
   "source": [
    "We can visualize a rotation more powerfully using the `tranimate` function which animates a rotation"
   ]
  },
  {
   "cell_type": "code",
   "execution_count": null,
   "id": "e94f1713",
   "metadata": {},
   "outputs": [],
   "source": [
    "# Jupyter notebook cannot properly animate transformation matrices. \n",
    "# You must run it in PyCharm. \n",
    "T = transl(4, 3, 4)@trotx(2)@troty(-2)\n",
    "tranimate(T, frame='A', dims=[0, 5], nframes=200)"
   ]
  },
  {
   "cell_type": "markdown",
   "id": "dcd8625a",
   "metadata": {},
   "source": [
    "showing the world frame rotating into the specified coordinate frame.  You can also save the animation to a file by"
   ]
  },
  {
   "cell_type": "code",
   "execution_count": null,
   "id": "d0f5da08",
   "metadata": {},
   "outputs": [],
   "source": [
    "tranimate(T, frame='A', dims=[0, 5], nframes=200, movie='out.mp4')"
   ]
  },
  {
   "cell_type": "markdown",
   "id": "8393151a",
   "metadata": {},
   "source": [
    "### High-level classes\n",
    "The spatialmath package supports high-level classes that abstract the low-level numpy arrays into objects.  These objects obey the rules associated with the mathematical groups SO(2), SE(2), SO(3), SE(3), twists, and quaternioins.\n",
    "\n",
    "To create an object representing a rotation of 90 degrees about the x-axis is"
   ]
  },
  {
   "cell_type": "code",
   "execution_count": 1,
   "id": "7d3c0b3b",
   "metadata": {},
   "outputs": [
    {
     "name": "stdout",
     "output_type": "stream",
     "text": [
      "   1         0         0         \n",
      "   0         0        -1         \n",
      "   0         1         0         \n",
      "\n"
     ]
    }
   ],
   "source": [
    "import numpy as np\n",
    "from spatialmath import *  # import high-lelel spatialmath functions\n",
    "\n",
    "R1 = SO3.Rx(np.pi/2)\n",
    "print(R1)"
   ]
  },
  {
   "cell_type": "markdown",
   "id": "694b9227",
   "metadata": {},
   "source": [
    "The object type of R1 can be found by"
   ]
  },
  {
   "cell_type": "code",
   "execution_count": 2,
   "id": "3b8d1e8c",
   "metadata": {},
   "outputs": [
    {
     "data": {
      "text/plain": [
       "spatialmath.pose3d.SO3"
      ]
     },
     "execution_count": 2,
     "metadata": {},
     "output_type": "execute_result"
    }
   ],
   "source": [
    "type(R1)"
   ]
  },
  {
   "cell_type": "markdown",
   "id": "5d14a926",
   "metadata": {},
   "source": [
    "The functions we used earlier, such as `rotx`, `roty`, `rotz`, `rpy2r`, returned the numpy `array` type. The compounding of rotations can be found by"
   ]
  },
  {
   "cell_type": "code",
   "execution_count": 3,
   "id": "aae3ae32",
   "metadata": {},
   "outputs": [
    {
     "name": "stdout",
     "output_type": "stream",
     "text": [
      "   0         0         1         \n",
      "   1         0         0         \n",
      "   0         1         0         \n",
      "\n"
     ]
    }
   ],
   "source": [
    "Rx = SO3.Rx(np.pi/2)\n",
    "Ry = SO3.Ry(np.pi/2)\n",
    "R = Rx * Ry    # We use * not @ for matrix multiplication for SO3 objects.\n",
    "print(R)"
   ]
  },
  {
   "cell_type": "markdown",
   "id": "16416c3d",
   "metadata": {},
   "source": [
    "Note that we use `*` for matrix multiplication. We can find the corresponding Euler angles"
   ]
  },
  {
   "cell_type": "code",
   "execution_count": 8,
   "id": "3a7d2451",
   "metadata": {},
   "outputs": [
    {
     "name": "stdout",
     "output_type": "stream",
     "text": [
      "[-0.00 90.00 90.00]\n",
      "[90.00 0.00 90.00]\n"
     ]
    }
   ],
   "source": [
    "float_formatter = \"{:.2f}\".format\n",
    "np.set_printoptions(formatter={'float_kind':float_formatter})\n",
    "print(R.eul('deg'))  # eul Returns ZYZ Euler angels\n",
    "print(R.rpy('deg'))  # Returnz"
   ]
  },
  {
   "cell_type": "markdown",
   "id": "d0f15a14",
   "metadata": {},
   "source": [
    "A pure translation in 3-D can be represented by"
   ]
  },
  {
   "cell_type": "code",
   "execution_count": null,
   "id": "fb5b2608",
   "metadata": {},
   "outputs": [],
   "source": [
    "T = SE3(1,2,3)  # Special Euclidean group.\n",
    "print(T)"
   ]
  },
  {
   "cell_type": "markdown",
   "id": "c9ae86e6",
   "metadata": {},
   "source": [
    "which is a 4 by 4 matrix. A transformation matrix representing a translation followed by a rotation can be obtained by"
   ]
  },
  {
   "cell_type": "code",
   "execution_count": null,
   "id": "2fd9dd86",
   "metadata": {},
   "outputs": [],
   "source": [
    "T = SE3(1,2,3)*SE3.Rx(30, 'deg')\n",
    "print(T)"
   ]
  },
  {
   "cell_type": "markdown",
   "id": "bc3c7fda",
   "metadata": {},
   "source": [
    "A rotation followed by a translation in 3-D can be obtained by"
   ]
  },
  {
   "cell_type": "code",
   "execution_count": null,
   "id": "d667c3d5",
   "metadata": {},
   "outputs": [],
   "source": [
    "T = SE3.Rx(30, 'deg')*SE3(1,2,3)\n",
    "print(T)"
   ]
  },
  {
   "cell_type": "markdown",
   "id": "7bac14df",
   "metadata": {},
   "source": [
    "which is different than a translation followed by a rotation.  **Note** that we used `SE3.Rx()` not `SO3.Rx()`.  `SE3.Rx()` returns a 4 by 4 SE(3) matrix whereas `SO3.Rx()` returns 3 by 3 SO(3) matrix.  We can print the pose (position and orientation) by"
   ]
  },
  {
   "cell_type": "code",
   "execution_count": null,
   "id": "74ed2dd5",
   "metadata": {},
   "outputs": [],
   "source": [
    "T.printline()"
   ]
  },
  {
   "cell_type": "markdown",
   "id": "844ba001",
   "metadata": {},
   "source": [
    "We can plot the transformation by"
   ]
  },
  {
   "cell_type": "code",
   "execution_count": null,
   "id": "47d27d09",
   "metadata": {},
   "outputs": [],
   "source": [
    "T.plot()"
   ]
  },
  {
   "cell_type": "markdown",
   "id": "06176655",
   "metadata": {},
   "source": [
    "***You can find class/function references of the spatial maths package at\n",
    "https://petercorke.github.io/spatialmath-python/ ***"
   ]
  },
  {
   "cell_type": "markdown",
   "id": "4181df61",
   "metadata": {},
   "source": [
    "## Deliverables\n",
    "Create a folder named Lab1 in which you add exercise1.py, exercise2.py, and so on for the following exercises. \n",
    "\n",
    "**Submit your code to Bitbucket and provide the outputs in Gradescope.**"
   ]
  },
  {
   "cell_type": "markdown",
   "id": "b7514dc7",
   "metadata": {},
   "source": [
    "### Exercise 1\n",
    "Using the ZYX Euler angles, find the rotation matrix $R_{ZYX}(\\psi,\\theta,\\phi)$ for $\\psi=45^\\circ, \\theta=60^\\circ, \\phi=45^\\circ$.\n",
    "\n",
    "(i) Use low-level spatial math functions to find $R_{ZYX}$ and the Euler angles from $R_{ZYX}$.\n",
    "\n",
    "(ii) Use high-level spatial math functions to find $R_{ZYX}$ and the Euler angles from $R_{ZYX}$.\n",
    "\n",
    "Did you get the same Euler angels, $\\psi$, $\\theta$, and $\\phi$?  If not, explain why.  "
   ]
  },
  {
   "cell_type": "markdown",
   "id": "608222b3",
   "metadata": {},
   "source": [
    "### Exercise 2\n",
    "Using the ZYX Euler angles, find the rotation matrix $R_{ZYX}(\\psi,\\theta,\\phi)$ for $\\psi=45^\\circ, \\theta=90^\\circ, \\phi=45^\\circ$. \n",
    "\n",
    "(i) Use low-level spatial math functions to find $R_{ZYX}$ and the Euler angles from $R_{ZYX}$.\n",
    "\n",
    "(ii) Use high-level spatial math functions to find $R_{ZYX}$ and the Euler angles from $R_{ZYX}$.\n",
    "\n",
    "Did you get the same Euler angels, $\\psi$, $\\theta$, and $\\phi$?  If not, explain why.  "
   ]
  },
  {
   "cell_type": "markdown",
   "id": "3d870553",
   "metadata": {},
   "source": [
    "### Exercise 3\n",
    "Find $\\phi$, $\\theta$, and $\\psi$ for YZY Euler angles, $R=R_Y(\\phi)R_Z(\\theta)R_Y(\\psi)$, that generate the blue frame shown in figure below.  The blue frame has been rotated with respect to the blakc frame.  Use SE3.Rx, SE3.Ry and SE3.Rz.\n",
    "<div>\n",
    "<br>\n",
    "    <img src=\"figs/Ex3.png\" width=\"450\"/>\n",
    "</div>\n",
    "Use the following code snippet."
   ]
  },
  {
   "cell_type": "code",
   "execution_count": null,
   "id": "4653986a",
   "metadata": {},
   "outputs": [],
   "source": [
    "from spatialmath.base import *\n",
    "from spatialmath import *\n",
    "import matplotlib.pyplot as plt\n",
    "\n",
    "# add your code here.\n",
    "\n",
    "\n",
    "\n",
    "\n",
    "\n",
    "print(T)\n",
    "T.plot()\n",
    "plotvol3([-2, 2, -2, 2, -2, 2], grid=True)\n",
    "plt.show()\n"
   ]
  }
 ],
 "metadata": {
  "kernelspec": {
   "display_name": "Python 3 (ipykernel)",
   "language": "python",
   "name": "python3"
  },
  "language_info": {
   "codemirror_mode": {
    "name": "ipython",
    "version": 3
   },
   "file_extension": ".py",
   "mimetype": "text/x-python",
   "name": "python",
   "nbconvert_exporter": "python",
   "pygments_lexer": "ipython3",
   "version": "3.8.2"
  }
 },
 "nbformat": 4,
 "nbformat_minor": 5
}
