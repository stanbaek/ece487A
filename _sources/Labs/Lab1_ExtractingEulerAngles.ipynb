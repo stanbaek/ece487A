{
 "cells": [
  {
   "cell_type": "markdown",
   "metadata": {},
   "source": [
    "<a target=\"_blank\" rel=\"noopener noreferrer\" href=\"https://colab.research.google.com/github/stanbaek/ece487/blob/main/docs/Labs/Lab1_ExtractingEulerAngles.ipynb\">![Open In Colab](https://colab.research.google.com/assets/colab-badge.svg)</a>\n",
    "\n",
    "# 🔬 Lab1: Extracting Euler Angles"
   ]
  },
  {
   "cell_type": "markdown",
   "metadata": {},
   "source": [
    "## Purpose\n",
    "In this lab we will write Python code that extracts ZYX Euler angles ($\\psi, \\theta, \\phi$) given a roation matrix. "
   ]
  },
  {
   "cell_type": "markdown",
   "metadata": {},
   "source": [
    "<hr>"
   ]
  },
  {
   "cell_type": "markdown",
   "metadata": {},
   "source": [
    "## Floating Point Numbers"
   ]
  },
  {
   "cell_type": "markdown",
   "metadata": {},
   "source": [
    "Consider the following equalities\n",
    "```Python\n",
    "0.01 + 0.02 == 0.03       # true\n",
    "0.1 + 0.2 == 0.3          # false\n",
    "1.09 * 100 == 109         # false\n",
    "1.08 * 100 == 108         # true\n",
    "sqrt(2) * sqrt(2) == 2.0  # false\n",
    "cos(pi/2) == 0.0          # false\n",
    "sin(pi/2) == 1.0          # true\n",
    "```\n",
    "\n",
    "How come some of the equalities above are not true?  \n",
    "\n",
    "There are infinitely many real numbers, but we have a limited memory space to store a floating number, e.g., **32**-bit floating-point numbers or **64**-bit double-precision numbers. For this reason, most real numbers cannot be precisely represented.  For example, we can represent 1.09 using a floating point, but the actual value of it will be 1.090000000000000079936058."
   ]
  },
  {
   "cell_type": "code",
   "execution_count": 1,
   "metadata": {},
   "outputs": [
    {
     "name": "stdout",
     "output_type": "stream",
     "text": [
      "1.090000000000000079936058\n"
     ]
    }
   ],
   "source": [
    "x = 1.09\n",
    "print(\"%.24f\"%(x))"
   ]
  },
  {
   "cell_type": "markdown",
   "metadata": {},
   "source": [
    "This is why `1.09 * 100 == 109` returns false, not true."
   ]
  },
  {
   "cell_type": "code",
   "execution_count": 3,
   "metadata": {},
   "outputs": [
    {
     "name": "stdout",
     "output_type": "stream",
     "text": [
      "False\n"
     ]
    }
   ],
   "source": [
    "print(1.09*100 == 109)  # returns false"
   ]
  },
  {
   "cell_type": "markdown",
   "metadata": {
    "tags": []
   },
   "source": [
    "Here are more examples as you already knew from Skills Review."
   ]
  },
  {
   "cell_type": "code",
   "execution_count": 10,
   "metadata": {},
   "outputs": [
    {
     "name": "stdout",
     "output_type": "stream",
     "text": [
      "False\n",
      "False\n",
      "False\n"
     ]
    }
   ],
   "source": [
    "import numpy as np\n",
    "print(np.cos(np.pi/2) == 0)\n",
    "print(0.1+0.2 == 0.3)\n",
    "print(np.sqrt(2)**2 == 2)"
   ]
  },
  {
   "cell_type": "markdown",
   "metadata": {},
   "source": [
    "```{important}\n",
    "**Rule of thumb**:  You must not use `==` for floating-point numbers and be very careful with `<` and `>` for floating-point numbers. Companies like Intel and Google never allow their programmers to use them for floating-point numbers. Intel once lost millions of dollars for a use of `==` and it had to redesign its chip.  Your boss would not be happy with it if you use it.\n",
    "```\n",
    "\n",
    "All right, then how to compare two floating point numbers?\n",
    "\n",
    "Let $x$ and $y$ are two floating point numbers to compare and $\\epsilon$ is an extremely small number, e.g., $\\epsilon = 10^{-15}$ Then, we can compare whether $|x-y|<\\epsilon$ or not.  Basically, we want to test if the two numbers are very close to each other.  In most engineering applications, it works.\n",
    "\n",
    "Luckily Python numpy provides `isclose` to test two real numbers."
   ]
  },
  {
   "cell_type": "code",
   "execution_count": 13,
   "metadata": {},
   "outputs": [
    {
     "name": "stdout",
     "output_type": "stream",
     "text": [
      "False\n",
      "True\n"
     ]
    }
   ],
   "source": [
    "x = np.cos(np.pi/2)\n",
    "print(x == 0)          # returns false\n",
    "print(np.isclose(x,0)) # returns true"
   ]
  },
  {
   "cell_type": "markdown",
   "metadata": {},
   "source": [
    "Let's fix the other examples."
   ]
  },
  {
   "cell_type": "code",
   "execution_count": 15,
   "metadata": {},
   "outputs": [
    {
     "name": "stdout",
     "output_type": "stream",
     "text": [
      "True\n",
      "True\n",
      "True\n"
     ]
    }
   ],
   "source": [
    "print(np.isclose(1.09*100, 109))     # returns true\n",
    "print(np.isclose(0.1+0.2, 0.3))      # returns true\n",
    "print(np.isclose(np.sqrt(2)**2, 2))  # returns true "
   ]
  },
  {
   "cell_type": "markdown",
   "metadata": {},
   "source": [
    "```{caution}\n",
    "Never use `==` for floating-point numbers!\n",
    "```"
   ]
  },
  {
   "cell_type": "markdown",
   "metadata": {},
   "source": [
    "How about `<`, `<=`, `>`, and `>=`?\n",
    "\n",
    "We know that `0.1+0.2 > 0.3` is false, but it will return true."
   ]
  },
  {
   "cell_type": "code",
   "execution_count": 20,
   "metadata": {},
   "outputs": [
    {
     "name": "stdout",
     "output_type": "stream",
     "text": [
      "True\n"
     ]
    }
   ],
   "source": [
    "x = 0.1+0.2\n",
    "y = 0.3\n",
    "print(x > y)"
   ]
  },
  {
   "cell_type": "markdown",
   "metadata": {},
   "source": [
    "Instead of `>` we need to write"
   ]
  },
  {
   "cell_type": "code",
   "execution_count": 21,
   "metadata": {},
   "outputs": [
    {
     "name": "stdout",
     "output_type": "stream",
     "text": [
      "False\n"
     ]
    }
   ],
   "source": [
    "print(x > y and not np.isclose(x, y))"
   ]
  },
  {
   "cell_type": "markdown",
   "metadata": {},
   "source": [
    "For `>=` we need to write"
   ]
  },
  {
   "cell_type": "code",
   "execution_count": 22,
   "metadata": {},
   "outputs": [
    {
     "name": "stdout",
     "output_type": "stream",
     "text": [
      "True\n"
     ]
    }
   ],
   "source": [
    "print(y > x or np.isclose(y, x))"
   ]
  },
  {
   "cell_type": "markdown",
   "metadata": {},
   "source": [
    "For \n",
    "```Python\n",
    "if x == y:   \n",
    "    print(\"equal\")\n",
    "elif x < y:  \n",
    "    print(\"less\")\n",
    "else x > y:\n",
    "    print(\"greater\")\n",
    "```\n",
    "we need to write\n",
    "\n",
    "```Python\n",
    "if np.isclose(x, y):  # x == a\n",
    "    print(\"equal\")\n",
    "elif x < y and not np.isclose(x, y):  \n",
    "    print(\"less\")\n",
    "else x > y and not np.isclose(x, y):     \n",
    "    print(\"greater\")\n",
    "```\n",
    "But we can also write\n",
    "```Python\n",
    "if np.isclose(x, y):  # x == a\n",
    "    print(\"equal\")\n",
    "elif x < y:           # because of the if-statement, x is not close to a\n",
    "    print(\"less\")\n",
    "else x > y:           # because of the if-statement, x is not close to a\n",
    "    print(\"greater\")\n",
    "```\n"
   ]
  },
  {
   "cell_type": "markdown",
   "metadata": {},
   "source": [
    "<hr>"
   ]
  },
  {
   "cell_type": "markdown",
   "metadata": {
    "tags": []
   },
   "source": [
    "## Deliverables"
   ]
  },
  {
   "cell_type": "markdown",
   "metadata": {
    "tags": []
   },
   "source": [
    "### Deliverable 1\n",
    "Complete the `extract_euler_angles` function inside `extract_euler_angles.py` under PycharmProjects. \n",
    "- Your function must return a list, not numpy array.\n",
    "- If there exists one solution, you must return [psi, theta, phi].\n",
    "- If there exist two solutions, you must return [[psi1, theta1, phi1],[psi2, theta2, phi2]].\n",
    "- If there exist no solutions, you must return an empty list, []. \n",
    "- The solutions must be in radians, in the range [-pi, pi].\n",
    "- Your function must return all the solutions.\n",
    "- If the solutions degenerate, pick $\\psi = 0$ and calcualte the rest."
   ]
  },
  {
   "cell_type": "markdown",
   "metadata": {},
   "source": [
    "### Deliverable 2\n",
    "Write Python code that tests your `extract_euler_angles` function.\n",
    "1. Carefully select ZYX Euler angles ($\\psi, \\theta, \\phi$) to test.\n",
    "2. Create a rotation matrix for each set of the Euler angles you selected.\n",
    "3. Pass the rotation matrix to your `extract_euler_angles` function to find the Euler angles.\n",
    "4. These returned Euler angles may not be the same as the Euler angles you selected.\n",
    "5. Find the rotation matrix for each returned Euler angle, and compare it with the matrix you created in (2)"
   ]
  },
  {
   "cell_type": "code",
   "execution_count": null,
   "metadata": {},
   "outputs": [],
   "source": []
  }
 ],
 "metadata": {
  "colab": {
   "collapsed_sections": []
  },
  "interpreter": {
   "hash": "31f2aee4e71d21fbe5cf8b01ff0e069b9275f58929596ceb00d14d90e3e16cd6"
  },
  "kernelspec": {
   "display_name": "Python 3 (ipykernel)",
   "language": "python",
   "name": "python3"
  },
  "language_info": {
   "codemirror_mode": {
    "name": "ipython",
    "version": 3
   },
   "file_extension": ".py",
   "mimetype": "text/x-python",
   "name": "python",
   "nbconvert_exporter": "python",
   "pygments_lexer": "ipython3",
   "version": "3.8.2"
  }
 },
 "nbformat": 4,
 "nbformat_minor": 4
}
