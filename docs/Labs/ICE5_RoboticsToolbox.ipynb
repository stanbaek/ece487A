{
 "cells": [
  {
   "cell_type": "markdown",
   "id": "aecaa918",
   "metadata": {},
   "source": [
    "<a target=\"_blank\" rel=\"noopener noreferrer\" href=\"https://colab.research.google.com/github/stanbaek/ece487/blob/main/docs/Labs/ICE5_RoboticsToolbox.ipynb\">![Open In Colab](https://colab.research.google.com/assets/colab-badge.svg)</a>\n",
    "\n",
    "# ❄️ ICE5: Robotics Toolbox"
   ]
  },
  {
   "cell_type": "markdown",
   "id": "8ff86282-36ad-4a09-8f33-143ed105df3c",
   "metadata": {},
   "source": [
    "**A note on this document**\n",
    "This document is known as a Jupyter notebook; it is used in academia and industry to allow text and executable code to coexist in a very easy to read format. Blocks can contain text or executable code. To run the executable code in this notebook, click <a target=\"_blank\" rel=\"noopener noreferrer\" href=\"https://colab.research.google.com/github/stanbaek/ece487/blob/main/docs/Labs/ICE5_RoboticsToolbox.ipynb\">![Open In Colab](https://colab.research.google.com/assets/colab-badge.svg)</a>\n",
    ". For blocks containing code, press `Shift + Enter`, `Ctrl+Enter`, or click the arrow on the block to run the code. Earlier blocks of code need to be run for the later blocks of code to work."
   ]
  },
  {
   "cell_type": "code",
   "execution_count": 22,
   "id": "31f69e6f-af32-4a27-a365-b4a69e9bd6ab",
   "metadata": {},
   "outputs": [],
   "source": [
    "# import robotics toolbox.\n",
    "# if you get an error, you need to install roboticstoolbox-python\n",
    "import roboticstoolbox as rtb"
   ]
  },
  {
   "cell_type": "markdown",
   "id": "59caa007-55df-4e61-ab2e-cbd6c8401506",
   "metadata": {},
   "source": [
    "If you fail importing roboticstoolbox, you need to uncomment the following line to install the roboticstoolbox-python package."
   ]
  },
  {
   "cell_type": "code",
   "execution_count": 23,
   "id": "fe2ec1a3-96a9-4d95-8496-1497f5d8de9f",
   "metadata": {
    "tags": []
   },
   "outputs": [],
   "source": [
    "#!pip install roboticstoolbox-python "
   ]
  },
  {
   "cell_type": "markdown",
   "id": "87a1203b",
   "metadata": {
    "tags": []
   },
   "source": [
    "A revolute joint and link can be created by"
   ]
  },
  {
   "cell_type": "code",
   "execution_count": 24,
   "id": "7a18f291",
   "metadata": {
    "tags": []
   },
   "outputs": [
    {
     "name": "stdout",
     "output_type": "stream",
     "text": [
      "RevoluteMDH:   θ=q,  d=0.0,  a=1,  ⍺=0.0\n"
     ]
    }
   ],
   "source": [
    "import roboticstoolbox as rtb\n",
    "link = rtb.RevoluteMDH(a=1)\n",
    "print(link)"
   ]
  },
  {
   "cell_type": "markdown",
   "id": "b8762d9c",
   "metadata": {},
   "source": [
    "which is a RevoluteMDH object which is a subclass of the generic DHLink object. The displayed value of the object shows the kinematic parameters (most of which have defaulted to zero), the joint type and the _modified_ Denavit-Hartenberg (MDH) convention is used (the tag _RevoluteMDH_).\n",
    "\n",
    "A Link object has many parameters and methods which are described in the documentation in \n",
    "https://petercorke.github.io/robotics-toolbox-python/intro.html#robotics-toolbox\n",
    "https://github.com/petercorke/robotics-toolbox-python\n",
    "\n",
    "The link transform for $\\theta=\\pi/2$ rad is"
   ]
  },
  {
   "cell_type": "code",
   "execution_count": 25,
   "id": "dc456006",
   "metadata": {},
   "outputs": [
    {
     "data": {
      "text/plain": [
       "   0        -1         0         1         \n",
       "   1         0         0         0         \n",
       "   0         0         1         0         \n",
       "   0         0         0         1         \n"
      ]
     },
     "execution_count": 25,
     "metadata": {},
     "output_type": "execute_result"
    }
   ],
   "source": [
    "from numpy import pi\n",
    "link.A(pi/2)  # forward kinematics - pose of the link"
   ]
  },
  {
   "cell_type": "markdown",
   "id": "79215781",
   "metadata": {},
   "source": [
    "representing the homogeneous transformation due to this robot link with the particular value of $\\theta$.  Various link parameters can be read or altered, for example,"
   ]
  },
  {
   "cell_type": "code",
   "execution_count": 26,
   "id": "1b3cb128",
   "metadata": {},
   "outputs": [
    {
     "data": {
      "text/plain": [
       "False"
      ]
     },
     "execution_count": 26,
     "metadata": {},
     "output_type": "execute_result"
    }
   ],
   "source": [
    "link.isprismatic"
   ]
  },
  {
   "cell_type": "code",
   "execution_count": 27,
   "id": "90c3d286",
   "metadata": {},
   "outputs": [
    {
     "data": {
      "text/plain": [
       "True"
      ]
     },
     "execution_count": 27,
     "metadata": {},
     "output_type": "execute_result"
    }
   ],
   "source": [
    "link.isrevolute"
   ]
  },
  {
   "cell_type": "markdown",
   "id": "642b65e1",
   "metadata": {},
   "source": [
    "indicate that the link is revolute and"
   ]
  },
  {
   "cell_type": "code",
   "execution_count": 28,
   "id": "0a888d2b",
   "metadata": {},
   "outputs": [
    {
     "data": {
      "text/plain": [
       "1"
      ]
     },
     "execution_count": 28,
     "metadata": {},
     "output_type": "execute_result"
    }
   ],
   "source": [
    "link.a"
   ]
  },
  {
   "cell_type": "markdown",
   "id": "158ab9c2",
   "metadata": {},
   "source": [
    "returns the link length, $a$.  Finally a link can contain an offset"
   ]
  },
  {
   "cell_type": "code",
   "execution_count": 29,
   "id": "6568f512",
   "metadata": {},
   "outputs": [
    {
     "data": {
      "text/plain": [
       "   0        -1         0         1         \n",
       "   1         0         0         0         \n",
       "   0         0         1         0         \n",
       "   0         0         0         1         \n"
      ]
     },
     "execution_count": 29,
     "metadata": {},
     "output_type": "execute_result"
    }
   ],
   "source": [
    "link.offset = pi/4\n",
    "link.A(pi/4)"
   ]
  },
  {
   "cell_type": "markdown",
   "id": "c341f470",
   "metadata": {},
   "source": [
    "which is added to the joint variable before computing the link transformation. The joint coordinate offset provides a mechanism to set an arbitrary configuration for the zero joint coordinate case. The offset is added to the user specified joint angle before any kinematic or dynamic function is invoked. \n"
   ]
  },
  {
   "cell_type": "markdown",
   "id": "22b41e47",
   "metadata": {},
   "source": [
    "Shown below is the 3 DoF revolute-prismatic-revolute (RPR) robotic arm we discussed in Lesson 19.\n",
    "\n",
    "```{image} ./figures/RPR.png\n",
    ":width: 640\n",
    ":align: center\n",
    "```\n",
    "\n",
    "Suppse $L_1 = L_2 = L_3 = 1$.\n"
   ]
  },
  {
   "cell_type": "code",
   "execution_count": 30,
   "id": "073c4777",
   "metadata": {},
   "outputs": [
    {
     "name": "stdout",
     "output_type": "stream",
     "text": [
      "DHRobot: RPR, 3 joints (RPR), dynamics, modified DH parameters\n",
      "┌─────┬───────┬──────┬─────────┐\n",
      "│aⱼ₋₁ │ ⍺ⱼ₋₁  │  θⱼ  │   dⱼ    │\n",
      "├─────┼───────┼──────┼─────────┤\n",
      "│ 0.0 │  0.0° │   q1 │       1 │\n",
      "│ 0.0 │ 90.0° │ 0.0° │  q2 + 1 │\n",
      "│ 0.0 │  0.0° │   q3 │       1 │\n",
      "└─────┴───────┴──────┴─────────┘\n",
      "\n",
      "┌─┬──┐\n",
      "└─┴──┘\n",
      "\n"
     ]
    }
   ],
   "source": [
    "L1 = 1\n",
    "L2 = 1\n",
    "L3 = 1\n",
    "RPR = rtb.robot.DHRobot(\n",
    "    [\n",
    "        rtb.RevoluteMDH(d=L1), \n",
    "        rtb.PrismaticMDH(alpha=pi/2, offset=L2),\n",
    "        rtb.RevoluteMDH(d=L3)        \n",
    "    ], name='RPR')\n",
    "\n",
    "print(RPR)"
   ]
  },
  {
   "cell_type": "markdown",
   "id": "cc01755b",
   "metadata": {},
   "source": [
    "We can now perform standard kinematic operations"
   ]
  },
  {
   "cell_type": "code",
   "execution_count": 31,
   "id": "c896696f",
   "metadata": {},
   "outputs": [
    {
     "name": "stdout",
     "output_type": "stream",
     "text": [
      "   1         0         0         0         \n",
      "   0         0        -1        -2         \n",
      "   0         1         0         1         \n",
      "   0         0         0         1         \n",
      "\n"
     ]
    }
   ],
   "source": [
    "qz = [0, 0, 0] # zero angle configuration\n",
    "T = RPR.fkine(qz) \n",
    "print(T)"
   ]
  },
  {
   "cell_type": "markdown",
   "id": "8376ba68",
   "metadata": {},
   "source": [
    "We can generate plots using the plot method, for example"
   ]
  },
  {
   "cell_type": "code",
   "execution_count": 32,
   "id": "a42ed7af",
   "metadata": {},
   "outputs": [
    {
     "data": {
      "image/png": "[encoded data removed]",
      "text/plain": [
       "<Figure size 432x288 with 1 Axes>"
      ]
     },
     "metadata": {
      "needs_background": "light"
     },
     "output_type": "display_data"
    },
    {
     "data": {
      "text/plain": [
       "<Figure size 432x288 with 0 Axes>"
      ]
     },
     "metadata": {},
     "output_type": "display_data"
    }
   ],
   "source": [
    "# Note: this is for jupyter-book & jupyter-lab.\n",
    "# If figures are not correctly displayed in this doc, \n",
    "# \"%matplotlib widget\" may need to be added  \n",
    "# If it throws anerror after adding %matplotlib widget, \n",
    "# run \"pip install --upgrade jupyterlab ipympl\"\n",
    "\n",
    "import matplotlib.pyplot as plt\n",
    "RPR.plot(qz, block=False)\n",
    "plt.show()"
   ]
  },
  {
   "cell_type": "markdown",
   "id": "bdac185a",
   "metadata": {},
   "source": [
    "which shows a skeleton of the robot with pipes that connect the link coordinate frames as defined by the Denavit-Hartenberg parameters. The plot method has many options for showing the joint axes, wrist coordinate frame, shadows and so on. Also. we can rotate the figure by holding down the left mouse button.  \n",
    "\n",
    "We can also animate as the robot moves along multiple configurations. Let's animate the path from the `qz` to `q1` given by "
   ]
  },
  {
   "cell_type": "code",
   "execution_count": 33,
   "id": "01c4df1e",
   "metadata": {},
   "outputs": [
    {
     "data": {
      "image/png": "[encoded data removed]",
      "text/plain": [
       "<Figure size 432x288 with 1 Axes>"
      ]
     },
     "metadata": {
      "needs_background": "light"
     },
     "output_type": "display_data"
    },
    {
     "data": {
      "text/plain": [
       "PyPlot3D backend, t = 2.499999999999999, scene:\n",
       "  RPR"
      ]
     },
     "execution_count": 33,
     "metadata": {},
     "output_type": "execute_result"
    },
    {
     "data": {
      "text/plain": [
       "<Figure size 432x288 with 0 Axes>"
      ]
     },
     "metadata": {},
     "output_type": "display_data"
    }
   ],
   "source": [
    "q1 = [pi/2, 1, 0]\n",
    "qt = rtb.jtraj(qz, q1, 50) # 50 steps\n",
    "RPR.plot(qt.q) # qt.q is the trajectory from qz to q1"
   ]
  },
  {
   "cell_type": "markdown",
   "id": "b6eca056",
   "metadata": {},
   "source": [
    "Shown below is the 3 DoF revolute-revolute-revolute (RRR) robotic arm we discussed in Lesson 19.\n",
    "\n",
    "```{image} ./figures/RRR.png\n",
    ":width: 760\n",
    ":align: center\n",
    "```\n",
    "\n",
    "\n",
    "Suppse $L_1 = 0.2$, $ L_2 = 1$ and $L_3 = 0.8$."
   ]
  },
  {
   "cell_type": "code",
   "execution_count": 34,
   "id": "f0e6316f",
   "metadata": {},
   "outputs": [
    {
     "name": "stdout",
     "output_type": "stream",
     "text": [
      "DHRobot: RRR, 3 joints (RRR), dynamics, modified DH parameters\n",
      "┌─────┬───────┬─────┬─────┐\n",
      "│aⱼ₋₁ │ ⍺ⱼ₋₁  │ θⱼ  │ dⱼ  │\n",
      "├─────┼───────┼─────┼─────┤\n",
      "│ 0.0 │  0.0° │  q1 │ 0.2 │\n",
      "│ 0.0 │ 90.0° │  q2 │ 0.0 │\n",
      "│   1 │  0.0° │  q3 │ 0.0 │\n",
      "└─────┴───────┴─────┴─────┘\n",
      "\n",
      "┌─────┬──────┐\n",
      "│tool │ None │\n",
      "└─────┴──────┘\n",
      "\n",
      "   1         0         0         0.8       \n",
      "   0         1         0         0         \n",
      "   0         0         1         0         \n",
      "   0         0         0         1         \n",
      "\n"
     ]
    }
   ],
   "source": [
    "from spatialmath import *\n",
    "L1 = 0.2\n",
    "L2 = 1\n",
    "L3 = 0.8\n",
    "RRR = rtb.robot.DHRobot(\n",
    "    [ rtb.RevoluteMDH(d=L1), \n",
    "      rtb.RevoluteMDH(alpha=pi/2),\n",
    "      rtb.RevoluteMDH(a=L2)        \n",
    "    ], name='RRR')\n",
    "RRR.tool = SE3.Tx(L3)\n",
    "print(RRR)\n",
    "print(RRR.tool)"
   ]
  },
  {
   "cell_type": "markdown",
   "id": "1cca9f44",
   "metadata": {},
   "source": [
    "where the tool tip position (origin of Frame {4}) with repect to Frame {3} is (L3, 0, 0), which is an extension by L3 in the x-direction of Frame {3}.  \n",
    "\n",
    "Forward kinematics can be computed to find the pose of the tool tip as before"
   ]
  },
  {
   "cell_type": "code",
   "execution_count": 35,
   "id": "778d1b04",
   "metadata": {},
   "outputs": [
    {
     "name": "stdout",
     "output_type": "stream",
     "text": [
      "   1         0         0         1.8       \n",
      "   0         0        -1         0         \n",
      "   0         1         0         0.2       \n",
      "   0         0         0         1         \n",
      "\n",
      "t = 1.8, 0, 0.2; rpy/zyx = 90°, 0°, 0°\n"
     ]
    }
   ],
   "source": [
    "qz = [0, 0, 0] # zero angle configuration\n",
    "T = RRR.fkine(qz) \n",
    "print(T)\n",
    "T.printline()"
   ]
  },
  {
   "cell_type": "markdown",
   "id": "c623e1b7",
   "metadata": {},
   "source": [
    "This returns the homogeneous transformation corresponding to the end-effector pose $(𝑅, \\mathbf{t})$, where\n",
    "$$R = \\begin{bmatrix} 1 & 0 & 0 \\\\ 0 & 0 & -1 \\\\ 0 & 1 & 0\\end{bmatrix}$$\n",
    "represents the orientation of the tool tip and\n",
    "\n",
    "$$\\mathbf{t} = \\begin{bmatrix} 1.8 \\\\ 0 \\\\ 0.2\\end{bmatrix}$$\n",
    "represents the position of the tool tip.\n",
    "\n",
    "We can find the roll-pitch-yaw angles of the tool tip relative to Frame {0} by"
   ]
  },
  {
   "cell_type": "code",
   "execution_count": 36,
   "id": "1dc6ced8",
   "metadata": {},
   "outputs": [
    {
     "data": {
      "text/plain": [
       "array([90., -0.,  0.])"
      ]
     },
     "execution_count": 36,
     "metadata": {},
     "output_type": "execute_result"
    }
   ],
   "source": [
    "T.rpy('deg')"
   ]
  },
  {
   "cell_type": "markdown",
   "id": "bcdc2c23",
   "metadata": {},
   "source": [
    "which is a $90^\\circ$ rotaion about the $\\hat{X}_0$-axis.\n",
    "\n",
    "We can generate a plot"
   ]
  },
  {
   "cell_type": "code",
   "execution_count": 37,
   "id": "d9611ff2",
   "metadata": {},
   "outputs": [
    {
     "data": {
      "image/png": "[encoded data removed]",
      "text/plain": [
       "<Figure size 432x288 with 1 Axes>"
      ]
     },
     "metadata": {
      "needs_background": "light"
     },
     "output_type": "display_data"
    },
    {
     "data": {
      "text/plain": [
       "PyPlot3D backend, t = 0.05, scene:\n",
       "  RRR"
      ]
     },
     "execution_count": 37,
     "metadata": {},
     "output_type": "execute_result"
    },
    {
     "data": {
      "text/plain": [
       "<Figure size 432x288 with 0 Axes>"
      ]
     },
     "metadata": {},
     "output_type": "display_data"
    }
   ],
   "source": [
    "import matplotlib.pyplot as plt\n",
    "RRR.plot(qz, block=False)"
   ]
  },
  {
   "cell_type": "markdown",
   "id": "69f3c6af-4980-4d9f-a3fe-ab11ddfe1b84",
   "metadata": {},
   "source": [
    "## Deliverables"
   ]
  },
  {
   "cell_type": "markdown",
   "id": "7195fc0e",
   "metadata": {},
   "source": [
    "### Deliverable 1\n",
    "Create a folder called `ICE3` in your repository.  Write a Python script that constrcuts an instance of DHRobot for the robot shown below.\n",
    "\n",
    "```{image} ./figures/Mover6.png\n",
    ":width: 700\n",
    ":align: center\n",
    "```\n"
   ]
  },
  {
   "cell_type": "markdown",
   "id": "45d66ce8",
   "metadata": {},
   "source": [
    "Find the forword kinematics for the following configurations of ($\\theta_1, \\theta_2, \\theta_3, \\theta_4, \\theta_5, \\theta_6$). \n",
    "\n",
    "a. (0, 0, 0, 0, 0, 0)\n",
    "\n",
    "b. (0, 0, 90, 0, -90, 0)\n",
    "\n",
    "c. (0, 90, 90, 0, -90, 0)\n",
    "\n",
    "d. (90, 90, 90, 0, -90, 0)\n",
    "\n",
    "e. (90, 90, -90, 0, -90, 0)\n",
    "\n",
    "f. (90, 90, -90, 90, -90, -90)\n",
    "\n",
    "For each configuration, provide\n",
    "(1) Euler angles (rpy) and position of the tool tip.\n",
    "(2) plot\n",
    "\n",
    "\n"
   ]
  },
  {
   "cell_type": "markdown",
   "id": "f5c802d3",
   "metadata": {},
   "source": [
    "### Deliverable 2\n",
    "\n",
    "Construct a DH table for the 5 DoF robotic arm shown below.\n",
    "```{image} ./figures/xArm.png\n",
    ":width: 560\n",
    ":align: center\n",
    "```"
   ]
  },
  {
   "cell_type": "code",
   "execution_count": null,
   "id": "cab89356",
   "metadata": {},
   "outputs": [],
   "source": []
  },
  {
   "cell_type": "code",
   "execution_count": null,
   "id": "bb97daaa-b7b0-468e-9a33-ab7a0bd54c63",
   "metadata": {},
   "outputs": [],
   "source": []
  },
  {
   "cell_type": "code",
   "execution_count": null,
   "id": "03b5a209-2d6e-42af-b41b-c80113cbd864",
   "metadata": {},
   "outputs": [],
   "source": []
  }
 ],
 "metadata": {
  "kernelspec": {
   "display_name": "Python 3 (ipykernel)",
   "language": "python",
   "name": "python3"
  },
  "language_info": {
   "codemirror_mode": {
    "name": "ipython",
    "version": 3
   },
   "file_extension": ".py",
   "mimetype": "text/x-python",
   "name": "python",
   "nbconvert_exporter": "python",
   "pygments_lexer": "ipython3",
   "version": "3.8.2"
  }
 },
 "nbformat": 4,
 "nbformat_minor": 5
}
