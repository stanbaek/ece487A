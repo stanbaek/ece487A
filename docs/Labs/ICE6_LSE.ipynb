{
 "cells": [
  {
   "cell_type": "markdown",
   "id": "82970c44",
   "metadata": {
    "tags": []
   },
   "source": [
    "<a target=\"_blank\" rel=\"noopener noreferrer\" href=\"https://colab.research.google.com/github/stanbaek/ece487/blob/main/docs/Labs/ICE6_LSE.ipynb\">![Open In Colab](https://colab.research.google.com/assets/colab-badge.svg)</a>\n",
    "\n",
    "# ❄️ ICE6: Least Squares "
   ]
  },
  {
   "cell_type": "markdown",
   "id": "80063cda-a0bd-4f1a-a27e-6c7c0421d284",
   "metadata": {},
   "source": [
    "**A note on this document**\n",
    "This document is known as a Jupyter notebook; it is used in academia and industry to allow text and executable code to coexist in a very easy to read format. Blocks can contain text or executable code. To run the executable code in this notebook, click <a target=\"_blank\" rel=\"noopener noreferrer\" href=\"https://colab.research.google.com/github/stanbaek/ece487/blob/main/docs/Labs/ICE6_LSE.ipynb\">![Open In Colab](https://colab.research.google.com/assets/colab-badge.svg)</a>\n",
    ". For blocks containing code, press `Shift + Enter`, `Ctrl+Enter`, or click the arrow on the block to run the code. Earlier blocks of code need to be run for the later blocks of code to work."
   ]
  },
  {
   "cell_type": "markdown",
   "id": "fa6cda5d-cfc0-43f1-89ac-6b3904ed493e",
   "metadata": {},
   "source": [
    "Consider a set of measurements $\\mathbf{y} = (y_1, y_2, \\cdots, y_n)$ and $\\mathbf{x} = (x_1, x_2, \\cdots, x_n)$.\n",
    "\n",
    "We want to find $m$ and $b$ such that our linear model, $y = mx+b$, best fits the measurements.\n",
    "\n",
    "Let's plot the measurements."
   ]
  },
  {
   "cell_type": "code",
   "execution_count": 6,
   "id": "33ae24f5",
   "metadata": {},
   "outputs": [
    {
     "data": {
      "image/png": "[encoded data removed]",
      "text/plain": [
       "<Figure size 432x288 with 1 Axes>"
      ]
     },
     "metadata": {
      "needs_background": "light"
     },
     "output_type": "display_data"
    }
   ],
   "source": [
    "import numpy as np\n",
    "import matplotlib.pyplot as plt\n",
    "\n",
    "x = np.array([0, 1, 2, 3])\n",
    "y = np.array([-1, 0.4, 0.7, 2.1])\n",
    "\n",
    "plt.plot(x, y, 'o', markersize=10)\n",
    "plt.xlabel('x')\n",
    "plt.ylabel('y')\n",
    "plt.grid('on')\n",
    "plt.show()"
   ]
  },
  {
   "cell_type": "markdown",
   "id": "51376a34",
   "metadata": {},
   "source": [
    "First, we can rewrite the line equation as $y = \\mathbf{c} \\cdot \\mathbf{q}$, where\n",
    "\n",
    "$\\mathbf{c} = \\begin{bmatrix} x & 1\\end{bmatrix}$ and $\\mathbf{q} = \\begin{bmatrix} m \\\\ b\\end{bmatrix} $. That is,\n",
    "\n",
    "$y = mx + b = \\begin{bmatrix} x & 1\\end{bmatrix} \\begin{bmatrix} m \\\\ b\\end{bmatrix} = \\mathbf{c} \\cdot \\mathbf{q}$ \n",
    "\n",
    "Given $\\mathbf{x} = (x_1, x_2, \\cdots, x_n)$ and $\\mathbf{y} = (y_1, y_2, \\cdots, y_n)$, we can obtain\n",
    "\n",
    "$\\begin{bmatrix} -1 \\\\ 0.4 \\\\ 0.7 \\\\ 2.1\\end{bmatrix} = \\begin{bmatrix} 0 & 1 \\\\ 1 & 1 \\\\2 & 1 \\\\3 & 1 \\end{bmatrix} \\begin{bmatrix} m \\\\ b\\end{bmatrix}$  or $\\mathbf{y} = C\\mathbf{q}$, \n",
    "\n",
    "where\n",
    "\n",
    "$C = \\begin{bmatrix} x_1 & 1 \\\\ x_2 & 1 \\\\x_3 & 1 \\\\x_4 & 1 \\end{bmatrix} = \\begin{bmatrix} 0 & 1 \\\\ 1 & 1 \\\\2 & 1 \\\\3 & 1 \\end{bmatrix} $.\n",
    "\n",
    "We can create the $C$ matrix using `np.vstack`"
   ]
  },
  {
   "cell_type": "code",
   "execution_count": 10,
   "id": "88c1e09e",
   "metadata": {},
   "outputs": [
    {
     "name": "stdout",
     "output_type": "stream",
     "text": [
      "[[0. 1.]\n",
      " [1. 1.]\n",
      " [2. 1.]\n",
      " [3. 1.]]\n"
     ]
    }
   ],
   "source": [
    "# x is a row vector.\n",
    "# vstack append a row vector, [1, 1, ,,, 1] at the end of x.\n",
    "# It will be a 2 by n matrix.\n",
    "# We need to transpose the 2 by n matrix to make it n by 2 matrix\n",
    "C = np.vstack([x, np.ones(len(x))]).T\n",
    "print(C)"
   ]
  },
  {
   "cell_type": "markdown",
   "id": "c721f931-9fb1-47d3-a48f-1301387d28f2",
   "metadata": {},
   "source": [
    "Now use lstsq to solve for b:"
   ]
  },
  {
   "cell_type": "code",
   "execution_count": 7,
   "id": "6cd2763f",
   "metadata": {},
   "outputs": [
    {
     "name": "stdout",
     "output_type": "stream",
     "text": [
      "0.9599999999999997 -0.8899999999999996\n"
     ]
    }
   ],
   "source": [
    "m, b = np.linalg.lstsq(C, y, rcond=None)[0]\n",
    "print(m, b)"
   ]
  },
  {
   "cell_type": "code",
   "execution_count": 8,
   "id": "740f60b1",
   "metadata": {},
   "outputs": [
    {
     "data": {
      "image/png": "[encoded data removed]",
      "text/plain": [
       "<Figure size 432x288 with 1 Axes>"
      ]
     },
     "metadata": {
      "needs_background": "light"
     },
     "output_type": "display_data"
    }
   ],
   "source": [
    "plt.plot(x, y, 'o', label='Original data', markersize=10)\n",
    "plt.plot(x, m*x + b, 'r', label='Fitted line')\n",
    "plt.legend()\n",
    "plt.grid('on')\n",
    "plt.show()"
   ]
  }
 ],
 "metadata": {
  "kernelspec": {
   "display_name": "Python 3 (ipykernel)",
   "language": "python",
   "name": "python3"
  },
  "language_info": {
   "codemirror_mode": {
    "name": "ipython",
    "version": 3
   },
   "file_extension": ".py",
   "mimetype": "text/x-python",
   "name": "python",
   "nbconvert_exporter": "python",
   "pygments_lexer": "ipython3",
   "version": "3.8.2"
  }
 },
 "nbformat": 4,
 "nbformat_minor": 5
}
