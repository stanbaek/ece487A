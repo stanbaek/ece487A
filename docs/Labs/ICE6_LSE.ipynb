{
 "cells": [
  {
   "cell_type": "markdown",
   "id": "82970c44",
   "metadata": {
    "tags": []
   },
   "source": [
    "<a target=\"_blank\" rel=\"noopener noreferrer\" href=\"https://colab.research.google.com/github/stanbaek/ece487/blob/main/docs/Labs/ICE6_LSE.ipynb\">![Open In Colab](https://colab.research.google.com/assets/colab-badge.svg)</a>\n",
    "\n",
    "# ❄️ ICE6: Least Squares "
   ]
  },
  {
   "cell_type": "markdown",
   "id": "80063cda-a0bd-4f1a-a27e-6c7c0421d284",
   "metadata": {},
   "source": [
    "**A note on this document**\n",
    "This document is known as a Jupyter notebook; it is used in academia and industry to allow text and executable code to coexist in a very easy-to-read format. Blocks can contain text or executable code. To run the executable code in this notebook, click <a target=\"_blank\" rel=\"noopener noreferrer\" href=\"https://colab.research.google.com/github/stanbaek/ece487/blob/main/docs/Labs/ICE6_LSE.ipynb\">![Open In Colab](https://colab.research.google.com/assets/colab-badge.svg)</a>\n",
    " For blocks containing code, press `Shift + Enter`, `Ctrl+Enter`, or click the arrow on the block to run the code. Earlier blocks of code need to be run for the later blocks of code to work."
   ]
  },
  {
   "cell_type": "markdown",
   "id": "fa6cda5d-cfc0-43f1-89ac-6b3904ed493e",
   "metadata": {},
   "source": [
    "## Least Sqaures Regression\n",
    "\n",
    "We need to solve a least squares regression problem to find a linear equation that best fits the measured data. Let the measured data is given by $\\mathbf{y} = (y_1, y_2, \\cdots, y_n)$ and the corresponding values are given by $\\mathbf{x} = (x_1, x_2, \\cdots, x_n)$.\n",
    "\n",
    "The goal is to find $m$ and $b$ such that $y = mx + b$ best approximates the linear relationship between $x$ and $y$.\n",
    "\n",
    "Let's first plot the data"
   ]
  },
  {
   "cell_type": "code",
   "execution_count": 3,
   "id": "33ae24f5",
   "metadata": {},
   "outputs": [
    {
     "data": {
      "image/png": "[encoded data removed]",
      "text/plain": [
       "<Figure size 432x288 with 1 Axes>"
      ]
     },
     "metadata": {
      "needs_background": "light"
     },
     "output_type": "display_data"
    }
   ],
   "source": [
    "import numpy as np\n",
    "import matplotlib.pyplot as plt\n",
    "\n",
    "x = np.array([0, 1, 2, 3])\n",
    "y = np.array([-1, 0.4, 0.7, 2.1])\n",
    "\n",
    "plt.plot(x, y, 'o', markersize=10)\n",
    "plt.xlabel('x')\n",
    "plt.ylabel('y')\n",
    "plt.grid('on')\n",
    "plt.show()"
   ]
  },
  {
   "cell_type": "markdown",
   "id": "51376a34",
   "metadata": {},
   "source": [
    "First, we can rewrite the line equation as $y = \\mathbf{c} \\cdot \\mathbf{q}$, where\n",
    "\n",
    "$\\mathbf{c} = \\begin{bmatrix} x & 1\\end{bmatrix}$ and $\\mathbf{q} = \\begin{bmatrix} m \\\\ b\\end{bmatrix} $. That is,\n",
    "\n",
    "$y = mx + b = \\begin{bmatrix} x & 1\\end{bmatrix} \\begin{bmatrix} m \\\\ b\\end{bmatrix} = \\mathbf{c} \\cdot \\mathbf{q}$ \n",
    "\n",
    "Given $\\mathbf{x} = (x_1, x_2, \\cdots, x_n)$ and $\\mathbf{y} = (y_1, y_2, \\cdots, y_n)$, we can obtain\n",
    "\n",
    "$\\begin{bmatrix} -1 \\\\ 0.4 \\\\ 0.7 \\\\ 2.1\\end{bmatrix} = \\begin{bmatrix} 0 & 1 \\\\ 1 & 1 \\\\2 & 1 \\\\3 & 1 \\end{bmatrix} \\begin{bmatrix} m \\\\ b\\end{bmatrix}$  or $\\mathbf{y} = C\\mathbf{q}$, \n",
    "\n",
    "where\n",
    "\n",
    "$C = \\begin{bmatrix} x_1 & 1 \\\\ x_2 & 1 \\\\x_3 & 1 \\\\x_4 & 1 \\end{bmatrix} = \\begin{bmatrix} 0 & 1 \\\\ 1 & 1 \\\\2 & 1 \\\\3 & 1 \\end{bmatrix} $.\n",
    "\n",
    "We can create the $C$ matrix using `np.vstack`"
   ]
  },
  {
   "cell_type": "code",
   "execution_count": 4,
   "id": "88c1e09e",
   "metadata": {},
   "outputs": [
    {
     "name": "stdout",
     "output_type": "stream",
     "text": [
      "[[0. 1.]\n",
      " [1. 1.]\n",
      " [2. 1.]\n",
      " [3. 1.]]\n"
     ]
    }
   ],
   "source": [
    "# x is a row vector.\n",
    "# Use vstack to append a row vector, [1, 1, ,,, 1] at the end of x.\n",
    "# It will be a 2 by n matrix.\n",
    "# We need to transpose the 2 by n matrix to make it an n by 2 matrix\n",
    "C = np.vstack([x, np.ones(len(x))]).T\n",
    "print(C)"
   ]
  },
  {
   "cell_type": "markdown",
   "id": "c721f931-9fb1-47d3-a48f-1301387d28f2",
   "metadata": {},
   "source": [
    "Now use `np.linalg.lstsq` to solve for $\\mathbf{q}$:"
   ]
  },
  {
   "cell_type": "code",
   "execution_count": 5,
   "id": "6cd2763f",
   "metadata": {},
   "outputs": [
    {
     "name": "stdout",
     "output_type": "stream",
     "text": [
      "[ 0.96 -0.89]\n",
      "0.9599999999999997 -0.8899999999999996\n"
     ]
    }
   ],
   "source": [
    "q = np.linalg.lstsq(C, y, rcond=None)[0]\n",
    "print(q)\n",
    "# or you can use\n",
    "m, b = np.linalg.lstsq(C, y, rcond=None)[0]\n",
    "print(m, b)\n"
   ]
  },
  {
   "cell_type": "markdown",
   "id": "72c49259-6aa2-4359-9410-a771e254570d",
   "metadata": {},
   "source": [
    "With $m=0.96$ and $b=-0.89$, the best fitting line is\n",
    "\n",
    "$y = 0.96x-0.89$\n",
    "\n",
    "Let's plot the line, $y = mx + b$ along with the data."
   ]
  },
  {
   "cell_type": "code",
   "execution_count": 6,
   "id": "740f60b1",
   "metadata": {},
   "outputs": [
    {
     "data": {
      "image/png": "[encoded data removed]",
      "text/plain": [
       "<Figure size 432x288 with 1 Axes>"
      ]
     },
     "metadata": {
      "needs_background": "light"
     },
     "output_type": "display_data"
    }
   ],
   "source": [
    "plt.plot(x, y, 'o', label='Original data', markersize=10)\n",
    "plt.plot(x, m*x + b, 'r', label='Fitted line')\n",
    "plt.legend()\n",
    "plt.grid('on')\n",
    "plt.show()"
   ]
  },
  {
   "cell_type": "markdown",
   "id": "7a2d470d-76a6-4081-bb9a-7aa90ca3bf25",
   "metadata": {},
   "source": [
    "## Free fall example\n",
    "\n",
    "Consider a body in free fall shown below. \n",
    "\n",
    "```{image} ./figures/FreeFall.png\n",
    ":width: 200\n",
    ":align: center\n",
    "```\n",
    "\n",
    "Suppose we measure the heights of the body every second after it is released at the initial height $y_0$ with the initial speed of $\\dot{y}_0$.  Given the measurements, we want to estimate the initial height, the initial speed, and the gravitational acceleration.  \n",
    "\n",
    "The acceleration of the body is given by\n",
    "\n",
    "$\\ddot{y} = -g$\n",
    "\n",
    "By integrating it, we can find the velocity\n",
    "\n",
    "$\\dot{y} = -gt + \\dot{y}_0$\n",
    "\n",
    "By integrating it one more time, we can find the displacement\n",
    "\n",
    "$y = -\\frac{1}{2}gt^2 + \\dot{y}_0t + y_0$\n",
    "\n",
    "So, our model is\n",
    "\n",
    "$\\hat{y} = -\\frac{1}{2}gt^2 + \\dot{y}_0 t + y_0 = \\begin{bmatrix} 1 & t & -\\frac{t^2}{2} \\end{bmatrix} \\begin{bmatrix} y_0 \\\\ \\dot{y}_o \\\\ g \\end{bmatrix} $\n",
    "\n",
    "Given the measurements, $\\mathbf{y} = (y(t_0), y(t_1), \\cdots, y(t_n))$ and $\\mathbf{t} = (t_0, t_1, \\cdots, t_n)$, we want to find $\\mathbf{q} = \\begin{bmatrix} y_0 & \\dot{y}_o & g \\end{bmatrix}^\\top$ that minimizes the squared error, $||\\mathbf{e}||^2$. With the measurements, we can reconstruct the matrix as follows\n",
    "\n",
    "\n",
    "$\\mathbf{y} = \\begin{bmatrix} y(t_0) \\\\ y(t_0) \\\\ \\vdots \\\\ y(t_n) \\end{bmatrix} = \\begin{bmatrix} 1 & t_0 & -\\frac{t_0^2}{2} \\\\ 1 & t_1 & -\\frac{t_1^2}{2} \\\\ \\vdots & \\vdots & \\vdots \\\\ 1 & t_n & -\\frac{t_n^2}{2} \\end{bmatrix} \\begin{bmatrix} y_0 \\\\ \\dot{y}_o \\\\ g \\end{bmatrix} $\n",
    "\n",
    "With \n",
    "$C = \\begin{bmatrix} 1 & t_0 & -\\frac{t_0^2}{2} \\\\ 1 & t_1 & -\\frac{t_1^2}{2} \\\\ \\vdots & \\vdots & \\vdots \\\\ 1 & t_n & -\\frac{t_n^2}{2} \\end{bmatrix}$\n",
    "\n",
    "we can rewrite it in\n",
    "\n",
    "$\\mathbf{y} = C \\mathbf{q} $\n",
    "\n",
    "Since $C$ is not a square matrix, there does not exist the inverse of $C$, which means we cannot find $\\mathbf{q}$ by\n",
    "\n",
    "$ \\mathbf{q} = C^{-1} \\mathbf{y}$\n",
    "\n",
    "Instead, we need to use the least square estimate (LSE), which is given by\n",
    "\n",
    "$ \\mathbf{q} = (C^\\top C)^{-1} C^\\top \\mathbf{y}$\n",
    "\n"
   ]
  },
  {
   "cell_type": "code",
   "execution_count": 86,
   "id": "858ee5e9-4488-461c-b246-f533d7387e67",
   "metadata": {},
   "outputs": [
    {
     "data": {
      "text/plain": [
       "Text(0, 0.5, 'height (m)')"
      ]
     },
     "execution_count": 86,
     "metadata": {},
     "output_type": "execute_result"
    },
    {
     "data": {
      "image/png": "[encoded data removed]",
      "text/plain": [
       "<Figure size 432x288 with 1 Axes>"
      ]
     },
     "metadata": {
      "needs_background": "light"
     },
     "output_type": "display_data"
    }
   ],
   "source": [
    "import matplotlib.pyplot as plt\n",
    "t = np.arange(0, 10, 0.1)\n",
    "y = np.array([494.94014461, 507.90896039, 505.22104446, 514.16752281,\n",
    "       501.03760921, 512.27372226, 506.25729082, 519.31098721,\n",
    "       517.35119455, 518.34500719, 519.43274428, 526.44327588,\n",
    "       522.94440423, 510.27500976, 530.25935105, 518.20603986,\n",
    "       524.71868822, 525.40621496, 536.39890016, 537.20679795,\n",
    "       531.97549049, 531.89355501, 530.9691791 , 519.09709483,\n",
    "       531.21151466, 531.05443774, 530.53020296, 533.87475854,\n",
    "       538.36426786, 527.72764456, 529.10979202, 534.25255071,\n",
    "       528.75549033, 522.85527636, 536.32133201, 521.3100716 ,\n",
    "       528.1091566 , 519.46924694, 519.41092769, 520.79686406,\n",
    "       519.93846816, 516.86770344, 509.90148208, 510.51326661,\n",
    "       508.31253149, 519.44185445, 510.40323351, 514.81167221,\n",
    "       508.93145792, 506.78927246, 503.84068939, 496.865354  ,\n",
    "       501.99404182, 499.78788123, 490.93831227, 495.25334285,\n",
    "       481.34690599, 483.62699738, 487.48676078, 477.13434071,\n",
    "       472.93284874, 467.48609631, 471.42676396, 462.61029894,\n",
    "       453.68093514, 454.75557321, 458.87031335, 441.0566181 ,\n",
    "       441.89473809, 435.6396022 , 431.82595852, 430.4877946 ,\n",
    "       425.13769744, 433.39377499, 417.19383723, 411.3984193 ,\n",
    "       412.21729864, 399.65482787, 391.16441599, 394.84928496,\n",
    "       397.76328403, 380.81427897, 373.16521311, 363.70635399,\n",
    "       368.01513611, 361.12434462, 352.11033439, 347.76032976,\n",
    "       345.46984985, 335.42433546, 330.60651309, 318.59015926,\n",
    "       316.38849782, 310.13386233, 302.52012775, 290.65413548,\n",
    "       283.08686336, 282.04215134, 287.05055972, 264.40202725])\n",
    "\n",
    "plt.plot(t, y)\n",
    "plt.grid('on')\n",
    "plt.xlabel('time (sec)')\n",
    "plt.ylabel('height (m)')"
   ]
  },
  {
   "cell_type": "markdown",
   "id": "b5dd2d7d-08c7-49c1-a71d-1e4c7ce2043d",
   "metadata": {},
   "source": [
    "## 🚚 Deliverables\n",
    "\n",
    "**Submit your code and the output plot in Gradescope (not Bitbucket).**"
   ]
  },
  {
   "cell_type": "markdown",
   "id": "925fe8b6-0f76-4bc5-8521-929c3f464c40",
   "metadata": {},
   "source": [
    "### Deliverable 1\n",
    "\n",
    "Find $\\mathbf{q}$ and provide a plot of the fitted line with the measurements. Your plots must have correct labels, units, and legend.\n",
    "\n",
    "You can use <a target=\"_blank\" rel=\"noopener noreferrer\" href=\"https://colab.research.google.com/github/stanbaek/ece487/blob/main/docs/Labs/ICE6_LSE.ipynb\">![Open In Colab](https://colab.research.google.com/assets/colab-badge.svg)</a> to run this program and download the figures. The following code snippet will be useful.\n",
    "\n",
    "```Python\n",
    "plt.savefig(filename) \n",
    "\n",
    "import google.colab.files  \n",
    "google.colab.files.download(filename) \n",
    "```\n"
   ]
  },
  {
   "cell_type": "code",
   "execution_count": null,
   "id": "b2f1b445-afbe-4817-9cf4-7ce733b2c524",
   "metadata": {},
   "outputs": [],
   "source": []
  },
  {
   "cell_type": "code",
   "execution_count": null,
   "id": "99a9da71-5bec-4531-828a-ab0a3b2ce306",
   "metadata": {},
   "outputs": [],
   "source": []
  },
  {
   "cell_type": "code",
   "execution_count": null,
   "id": "74d5ca7b-0243-4f58-ba59-2db30f0ba973",
   "metadata": {},
   "outputs": [],
   "source": []
  },
  {
   "cell_type": "markdown",
   "id": "f9d1c230-5ff0-4472-b130-e87ea52c1635",
   "metadata": {},
   "source": [
    "### Deliverable 2\n",
    "\n",
    "Suppose you had a capacitor that you wanted to find its value. You constructed an RC circuit and applied a 5V DC. A few seconds later, you disconnected the power source and measured the voltage across the capacitor. \n",
    "\n",
    "The voltage across the capacitor in an RC circuit is given by\n",
    "$v(t) = v_0 e^{-t/\\tau}, t\\geq 0$\n",
    "\n",
    "Find the time constant $\\tau$ that best fits the model.  If the resistor in the circuit is  1 k$\\Omega$, what is the value of the capacitor?  \n",
    "\n",
    "Hint 1: The time constant in an RC circuit is $\\tau = RC$. \n",
    "Hint 2: Use the logarithm to find a linear function of $\\tau$.\n",
    "\n",
    "Use the following measurements of $v(t)$."
   ]
  },
  {
   "cell_type": "code",
   "execution_count": 93,
   "id": "078d71d7-d147-4e8a-9cb4-e627d69b6b78",
   "metadata": {},
   "outputs": [
    {
     "data": {
      "image/png": "[encoded data removed]",
      "text/plain": [
       "<Figure size 432x288 with 1 Axes>"
      ]
     },
     "metadata": {
      "needs_background": "light"
     },
     "output_type": "display_data"
    }
   ],
   "source": [
    "t = np.arange(0, 1,0.01)\n",
    "\n",
    "v = np.array([5.01244283, 4.88438776, 4.61866927, 4.60894011, 4.41004693,\n",
    "       4.23826769, 4.14274337, 4.00588297, 3.88199414, 3.70225232,\n",
    "       3.58355439, 3.43455927, 3.30474357, 3.18078036, 3.07476507,\n",
    "       2.96726969, 2.89063642, 2.80789063, 2.69423508, 2.49191736,\n",
    "       2.50954028, 2.44712497, 2.38835945, 2.30025698, 2.13790825,\n",
    "       2.01659547, 2.07912399, 2.00577069, 1.92508211, 1.7565095 ,\n",
    "       1.7865158 , 1.78987426, 1.56199575, 1.72613664, 1.58584813,\n",
    "       1.51952741, 1.49326173, 1.40786616, 1.32605959, 1.22720959,\n",
    "       1.19448915, 1.20467148, 1.12784961, 1.1784009 , 1.10309822,\n",
    "       1.09199671, 1.05440677, 0.92322795, 0.95694284, 0.90854489,\n",
    "       0.97174071, 0.81287511, 0.82147023, 0.8520071 , 0.86750312,\n",
    "       0.70163675, 0.77931194, 0.73922824, 0.69029541, 0.6377564 ,\n",
    "       0.58477345, 0.61595619, 0.59972651, 0.51719116, 0.50915179,\n",
    "       0.57589605, 0.5485081 , 0.51194423, 0.50774903, 0.46536343,\n",
    "       0.40064362, 0.4548967 , 0.37060314, 0.44504432, 0.40862983,\n",
    "       0.38155415, 0.32950763, 0.38447669, 0.31214141, 0.29181047,\n",
    "       0.24943998, 0.28925818, 0.22684326, 0.25104928, 0.24648863,\n",
    "       0.29750812, 0.16686111, 0.26215788, 0.17941954, 0.25641971,\n",
    "       0.17907152, 0.22507161, 0.1988562 , 0.26396801, 0.17906211,\n",
    "       0.18801865, 0.16303685, 0.19193568, 0.18761862, 0.12386653])\n",
    "\n",
    "plt.plot(t, y)\n",
    "plt.xlabel('time (sec)')\n",
    "plt.ylabel('voltage (V)')\n",
    "plt.grid('on')"
   ]
  },
  {
   "cell_type": "markdown",
   "id": "30d98b3c-ef05-4c06-8857-49337a145b2d",
   "metadata": {},
   "source": [
    "Report the time constant $\\tau$ and the capacitance $C$ and submit a plot of the fitted line with the measurements."
   ]
  },
  {
   "cell_type": "code",
   "execution_count": null,
   "id": "6ccfcb5d-27e7-4a9a-a1ab-1f002fcf6333",
   "metadata": {},
   "outputs": [],
   "source": []
  },
  {
   "cell_type": "code",
   "execution_count": null,
   "id": "e3367ca8-b0e6-4cd0-869a-173b5bf8dc82",
   "metadata": {},
   "outputs": [],
   "source": []
  },
  {
   "cell_type": "code",
   "execution_count": null,
   "id": "253a6fc6-21e7-44ed-a428-bdfcc20a3969",
   "metadata": {},
   "outputs": [],
   "source": []
  }
 ],
 "metadata": {
  "kernelspec": {
   "display_name": "Python 3 (ipykernel)",
   "language": "python",
   "name": "python3"
  },
  "language_info": {
   "codemirror_mode": {
    "name": "ipython",
    "version": 3
   },
   "file_extension": ".py",
   "mimetype": "text/x-python",
   "name": "python",
   "nbconvert_exporter": "python",
   "pygments_lexer": "ipython3",
   "version": "3.8.2"
  }
 },
 "nbformat": 4,
 "nbformat_minor": 5
}
