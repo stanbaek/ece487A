{
 "cells": [
  {
   "cell_type": "markdown",
   "metadata": {},
   "source": [
    "<a target=\"_blank\" rel=\"noopener noreferrer\" href=\"https://colab.research.google.com/github/stanbaek/ece487/blob/main/docs/Labs/PythonIntro.ipynb\">![Open In Colab](https://colab.research.google.com/assets/colab-badge.svg)</a>\n",
    "\n",
    "\n",
    "\n",
    "# Introduction to Python\n"
   ]
  },
  {
   "cell_type": "markdown",
   "metadata": {},
   "source": [
    "<hr>"
   ]
  },
  {
   "cell_type": "markdown",
   "metadata": {},
   "source": [
    "**The only way to learn a new programming language is by writing programs in it. - Dennis Ritchie (inventor of C programming language)**"
   ]
  },
  {
   "cell_type": "markdown",
   "metadata": {},
   "source": [
    "## Running Python\n",
    "\n",
    "### Running Python in Command Prompt (or Terminal for Mac)\n",
    "\n",
    "Open Windows Terminal (or Terminal for Mac) and run `python` in Windows or `python3` in Mac. \n",
    "\n",
    "<br>\n",
    "<center>\n",
    "<img src=\"https://github.com/stanbaek/ece487/blob/gh-pages/_images/Terminal.png?raw=true\" alt=\"Terminal\" class=\"bg-primary\" width=\"540px\">\n",
    "</center>\n",
    "<br>\n",
    "\n",
    "This will open the Python Shell. The Shell is where you can enter code and see the responses and output of code you have programmed into Python.  This is a kind of sandbox, where you're able to try out some simple code and processes. For example, in the Shell enter: `2+2`.  If you press enter, it will display the answer `4` on the next line. \n",
    "\n",
    "Try the following code in the Shell. In the Colab environment, you can also select the following cell and click the arrow button to run the code in the cell, but unlike the Shell, it will only display the output of the last line in the cell. \n"
   ]
  },
  {
   "cell_type": "code",
   "execution_count": 2,
   "metadata": {},
   "outputs": [
    {
     "name": "stdout",
     "output_type": "stream",
     "text": [
      "2\n"
     ]
    }
   ],
   "source": [
    "2+3\n",
    "\"hello\"+\" world\"\n",
    "a = 2\n",
    "print(a)"
   ]
  },
  {
   "cell_type": "markdown",
   "metadata": {},
   "source": [
    "The Python Shell acts very much like a calculator since code is basically a series of mathematical interactions with the system.  Try the follownig code"
   ]
  },
  {
   "cell_type": "code",
   "execution_count": null,
   "metadata": {},
   "outputs": [],
   "source": [
    "2+2    # add two integers\n",
    "2+2.0  # add an integer to a floating point number\n",
    "2*3    # 2 times 3\n",
    "2**2   # 2 squared\n",
    "2**3   # 2 cubed\n",
    "2**128 # Unlike C, integers in Python does not have a size limitation.    \n",
    "2/3    # It returns 1 in C. \n",
    "2/3.0\n",
    "2//3   # modulo\n",
    "4//3   # modulo"
   ]
  },
  {
   "cell_type": "markdown",
   "metadata": {},
   "source": [
    "Now enter `exit()` to leave the Python Shell."
   ]
  },
  {
   "cell_type": "markdown",
   "metadata": {},
   "source": [
    "### Saving and Executing Your Code\n",
    "While working in the Shell is perfectly fine for small code snippets, it is not desirable for longer program listings. In this section, we will save a code as a text file and execute it from Terminal. First, open a text editor such as notepad, notepad++, atom, sublime_text, etc.  Enter the following code\n",
    "```Python\n",
    "a = \"Python\"\n",
    "b = \"is\"\n",
    "c = \"cool\"\n",
    "print(a,b,c)\n",
    "print(a+b+c)\n",
    "```"
   ]
  },
  {
   "cell_type": "markdown",
   "metadata": {
    "tags": []
   },
   "source": [
    "Save the file as `hello.py` and exit.  Execute the code with the following command in Terminal.  \n",
    "```\n",
    "python hello.py\n",
    "```"
   ]
  },
  {
   "cell_type": "markdown",
   "metadata": {},
   "source": [
    "### Executing Code in PyCharm Console\n",
    "Open PyCharm and click Python Consol at the bottom. This is a Python Shell embedded in PyCharm.\n",
    "\n",
    "\n",
    "<br>\n",
    "<center>\n",
    "<img src=\"https://github.com/stanbaek/ece487/blob/gh-pages/_images/PycharmPythonConsole.png?raw=true\" alt=\"Terminal\" class=\"bg-primary\" width=\"640px\">\n",
    "</center>\n",
    "<br>\n",
    "\n",
    "Try the following code\n"
   ]
  },
  {
   "cell_type": "code",
   "execution_count": null,
   "metadata": {},
   "outputs": [],
   "source": [
    "2+2\n",
    "print(2+2)\n",
    "print(\"2+2\")\n",
    "a = 1\n",
    "b = 2\n",
    "print(a+b)\n",
    "'Hello ' + 'world'"
   ]
  },
  {
   "cell_type": "markdown",
   "metadata": {},
   "source": [
    "### Executing Code in PyCharm Terminal\n",
    "\n",
    "Click on Python Terminal at the bottom. This is a Terminal embedded in PyCharm.\n",
    "\n",
    "<br>\n",
    "<center>\n",
    "<img src=\"https://github.com/stanbaek/ece487/blob/gh-pages/_images/PycharmPythonTerminal.png?raw=true\" alt=\"Terminal\" class=\"bg-primary\" width=\"700px\">\n",
    "</center>\n",
    "<br>\n",
    "\n",
    "Enter the following into the command line:\n",
    "```\n",
    "python hello.py\n",
    "```"
   ]
  },
  {
   "cell_type": "markdown",
   "metadata": {},
   "source": [
    "### Executing Code in PyCharm IDE\n",
    "\n",
    "Ensure `main` is selected as shown below.  Click the Run button or `Shift F10` to run the code.    \n",
    "\n",
    "<br>\n",
    "<center>\n",
    "<img src=\"https://github.com/stanbaek/ece487/blob/gh-pages/_images/PycharmRunningCode.png?raw=true\" alt=\"Terminal\" class=\"bg-primary\" width=\"700px\">\n",
    "</center>\n",
    "<br>\n",
    "\n",
    "\n",
    "It will print\n",
    "```Hi, PyCharm```\n",
    "\n",
    "Another thing to note is we can make comments in python by starting a line with `#`. Comments are lines in your code that do not perform any function and are intended only to inform others (and your future self) about the purpose of your code. It is a good idea to document the purpose of your code at the beginning of the code with comments and to leave short and concise comments throughout your code. Many people get lazy and fail to comment their code, but don't fall prey to that trap! \n",
    "\n",
    "Use the hash symbol `#` to comment out a line of code.  You can use three single or double quotes to comment out multiple lines. For example, "
   ]
  },
  {
   "cell_type": "code",
   "execution_count": 1,
   "metadata": {},
   "outputs": [
    {
     "name": "stdout",
     "output_type": "stream",
     "text": [
      "10\n"
     ]
    },
    {
     "data": {
      "text/plain": [
       "'\\nYou can also use three double quotes.\\n'"
      ]
     },
     "execution_count": 1,
     "metadata": {},
     "output_type": "execute_result"
    }
   ],
   "source": [
    "# Set a to 10\n",
    "a = 10\n",
    "# print a\n",
    "print(a)\n",
    "'''\n",
    "Use three single quotes to comment out a block of code\n",
    "'''\n",
    "\"\"\"\n",
    "You can also use three double quotes.\n",
    "\"\"\""
   ]
  },
  {
   "cell_type": "markdown",
   "metadata": {},
   "source": [
    "## Debugging Python\n",
    "\n",
    "Clikc View > Appearance > Toolbar as shown below\n",
    " \n",
    "<br>\n",
    "<center>\n",
    "<img src=\"https://github.com/stanbaek/ece487/blob/gh-pages/_images/PycharmToolbar.png?raw=true\" alt=\"Terminal\" class=\"bg-primary\" width=\"500px\">\n",
    "</center>\n",
    "<br>\n",
    "\n",
    "\n",
    " \n",
    "The most important tools in programming, namely **debugger**, will appear!\n",
    "\n",
    "<br>\n",
    "<center>\n",
    "<img src=\"https://github.com/stanbaek/ece487/blob/gh-pages/_images/PycharmDebuggingTools.png?raw=true\" alt=\"Terminal\" class=\"bg-primary\" width=\"500px\">\n",
    "</center>\n",
    "<br>\n",
    "\n",
    "Click the space between line number 9 and the code to place a breakpoint. Click the Debug button or `Shift F9` to start debugging. \n",
    "\n",
    "<br>\n",
    "<center>\n",
    "<img src=\"https://github.com/stanbaek/ece487/blob/gh-pages/_images/PycharmBreakpoint.png?raw=true\" alt=\"Terminal\" class=\"bg-primary\" width=\"600px\">\n",
    "</center>\n",
    "<br>\n",
    "\n",
    "In the `Debugger` window, you can find the `name` variable with its value `PyCharm`\n",
    "\n",
    "Click the `Console` tab and enter `name`.  It will display the value of `name`.\n",
    "\n",
    "<br>\n",
    "<center>\n",
    "<img src=\"https://github.com/stanbaek/ece487/blob/gh-pages/_images/PycharmDebugConsole.png?raw=true\" alt=\"Terminal\" class=\"bg-primary\" width=\"640px\">\n",
    "</center>\n",
    "<br>\n",
    "\n"
   ]
  },
  {
   "cell_type": "markdown",
   "metadata": {},
   "source": [
    "## Python Programming"
   ]
  },
  {
   "cell_type": "markdown",
   "metadata": {
    "tags": []
   },
   "source": [
    "### Variables\n",
    "- Numeric types: int, float, long, complex\n",
    "- string\n",
    "- boolean: True / False\n",
    "    \n",
    "Python's simple types are summarized in the following table:\n",
    "\n",
    "**<center>Python Scalar Types</center>**\n",
    "\n",
    "| Type        | Example        | Description                                                  |\n",
    "|-------------|----------------|--------------------------------------------------------------|\n",
    "| ``str``     | ``x = 'abc'``  | String: characters or text                                   | \n",
    "| ``int``     | ``x = 1``      | integers (i.e., whole numbers)                               |\n",
    "| ``float``   | ``x = 1.0``    | floating-point numbers (i.e., real numbers)                  |                  \n",
    "| ``complex`` | ``x = 1 + 2j`` | Complex numbers (i.e., numbers with real and imaginary part) |\n",
    "| ``bool``    | ``x = True``   | Boolean: True/False values                                   | \n",
    "| ``NoneType``| ``x = None``   | Special object indicating nulls                              | \n",
    "\n",
    "Use the `type()` function to find the type for a value or variable"
   ]
  },
  {
   "cell_type": "code",
   "execution_count": null,
   "metadata": {},
   "outputs": [],
   "source": [
    "# String\n",
    "c = 'hello'\n",
    "print(type(c))"
   ]
  },
  {
   "cell_type": "code",
   "execution_count": null,
   "metadata": {},
   "outputs": [],
   "source": [
    "# Integer\n",
    "a = 1\n",
    "print(type(a))"
   ]
  },
  {
   "cell_type": "code",
   "execution_count": null,
   "metadata": {},
   "outputs": [],
   "source": [
    "# Float\n",
    "b = 1.0\n",
    "print(type(b))"
   ]
  },
  {
   "cell_type": "code",
   "execution_count": null,
   "metadata": {},
   "outputs": [],
   "source": [
    "# Boolean\n",
    "d = True\n",
    "print(type(d))"
   ]
  },
  {
   "cell_type": "code",
   "execution_count": null,
   "metadata": {},
   "outputs": [],
   "source": [
    "# None\n",
    "e = None\n",
    "print(type(e))"
   ]
  },
  {
   "cell_type": "code",
   "execution_count": null,
   "metadata": {},
   "outputs": [],
   "source": [
    "# Cast integer to string\n",
    "print(type(str(a)))"
   ]
  },
  {
   "cell_type": "markdown",
   "metadata": {},
   "source": [
    "### Math Operators\n",
    "- +, -, *, and /\n",
    "- Exponentiation **\n",
    "- Modulo % (Remainder)\n",
    "\n",
    "### Logic Operators\n",
    "\n",
    "```\n",
    "x == y # x is equal to y\n",
    "x != y # x is not equal to y\n",
    "x > y # x is greater than y\n",
    "x < y # x is less than y\n",
    "x >= y # x is greater than or equal to y \n",
    "x <= y # x is less than or equal to y\n",
    "```\n",
    "\n",
    "Try the  following code in Python Console."
   ]
  },
  {
   "cell_type": "code",
   "execution_count": 9,
   "metadata": {},
   "outputs": [
    {
     "name": "stdout",
     "output_type": "stream",
     "text": [
      "True\n",
      "False\n",
      "True\n",
      "True\n",
      "False\n",
      "True\n"
     ]
    }
   ],
   "source": [
    "2+2\n",
    "2+2.0\n",
    "2*3\n",
    "2**3   # exponentiation \n",
    "2**128 \n",
    "2/3\n",
    "2/3.0\n",
    "2//3   # integer division\n",
    "4//3   \n",
    "2%3    # modulo\n",
    "4%3\n",
    "bin(5|2) # convert a number to binary after bit operations\n",
    "bin(5^1)\n",
    "bin(5&1)\n",
    "a = 6\n",
    "b = 7\n",
    "print(a==6)   # boolean expressions\n",
    "print(a==7)\n",
    "print(a==6 and b==7)\n",
    "print(a==6 or b==6)\n",
    "print(not a==6 and b==6)\n",
    "print(not (a==6 and b==6))"
   ]
  },
  {
   "cell_type": "markdown",
   "metadata": {},
   "source": [
    "### Working with Variables\n",
    "In programming languages, variables are containers that store simple information. In Python, variables can store strings or numbers. A string is a block of text, such as \"Stan Baek is the legendary pirate captain.\" A number can be an integer or a decimal number.  Try the the following code in Python Console."
   ]
  },
  {
   "cell_type": "code",
   "execution_count": 20,
   "metadata": {},
   "outputs": [
    {
     "name": "stdout",
     "output_type": "stream",
     "text": [
      "Stan Baek: the legendary pirate captain\n"
     ]
    },
    {
     "ename": "TypeError",
     "evalue": "can only concatenate str (not \"int\") to str",
     "output_type": "error",
     "traceback": [
      "\u001b[1;31m---------------------------------------------------------------------------\u001b[0m",
      "\u001b[1;31mTypeError\u001b[0m                                 Traceback (most recent call last)",
      "Input \u001b[1;32mIn [20]\u001b[0m, in \u001b[0;36m<cell line: 26>\u001b[1;34m()\u001b[0m\n\u001b[0;32m     22\u001b[0m \u001b[38;5;28mtype\u001b[39m(name)\n\u001b[0;32m     24\u001b[0m \u001b[38;5;66;03m# Let's try to combine a string with an integer\u001b[39;00m\n\u001b[0;32m     25\u001b[0m \u001b[38;5;66;03m# For string concatenation use + sign\u001b[39;00m\n\u001b[1;32m---> 26\u001b[0m \u001b[38;5;28mprint\u001b[39m(\u001b[43mcharacter\u001b[49m\u001b[43m \u001b[49m\u001b[38;5;241;43m+\u001b[39;49m\u001b[43m \u001b[49m\u001b[43mage\u001b[49m)\n\u001b[0;32m     28\u001b[0m \u001b[38;5;66;03m# Now let's convert integer to string for printing\u001b[39;00m\n\u001b[0;32m     29\u001b[0m \u001b[38;5;28mprint\u001b[39m(character \u001b[38;5;241m+\u001b[39m \u001b[38;5;124m\"\u001b[39m\u001b[38;5;124m is \u001b[39m\u001b[38;5;124m\"\u001b[39m \u001b[38;5;241m+\u001b[39m \u001b[38;5;28mstr\u001b[39m(age) \u001b[38;5;241m+\u001b[39m \u001b[38;5;124m\"\u001b[39m\u001b[38;5;124m years old.\u001b[39m\u001b[38;5;124m\"\u001b[39m)\n",
      "\u001b[1;31mTypeError\u001b[0m: can only concatenate str (not \"int\") to str"
     ]
    }
   ],
   "source": [
    "# a string variable\n",
    "name = \"Stan Baek\"\n",
    "\n",
    "# You can check the type in use by issuing the type() command\n",
    "type(name)\n",
    "\n",
    "# It will return <class 'str'>\n",
    "\n",
    "# Add a new string variable \n",
    "title = \"the legendary pirate captain\"\n",
    "\n",
    "# You can add (+) string variables to combine them into a new variable\n",
    "character = name + \": \" + title\n",
    "\n",
    "# print\n",
    "print(character)\n",
    "\n",
    "# integer variable\n",
    "age = 726\n",
    "\n",
    "# Check the type using type()\n",
    "type(name)\n",
    "\n",
    "# Let's try to combine a string with an integer\n",
    "# For string concatenation use + sign\n",
    "print(character + age) # will throw an error"
   ]
  },
  {
   "cell_type": "code",
   "execution_count": 21,
   "metadata": {},
   "outputs": [
    {
     "name": "stdout",
     "output_type": "stream",
     "text": [
      "Stan Baek: the legendary pirate captain is 726 years old.\n"
     ]
    },
    {
     "name": "stdin",
     "output_type": "stream",
     "text": [
      "How old are you?  25\n"
     ]
    },
    {
     "name": "stdout",
     "output_type": "stream",
     "text": [
      "3.141\n",
      "3\n"
     ]
    }
   ],
   "source": [
    "# Now let's convert integer to string for printing\n",
    "print(character + \" is \" + str(age) + \" years old.\")\n",
    "\n",
    "# You can ask for input from the user. \n",
    "age = input(\"How old are you? \")\n",
    "\n",
    "type(age)\n",
    "\n",
    "# Since age is a string variable. We need to convert it to integer.\n",
    "int(age)+10\n",
    "\n",
    "# Numbers with a decimal point are floating point variables\n",
    "x = 3.141\n",
    "type(x)\n",
    "\n",
    "print(x)\n",
    "\n",
    "print(int(x))"
   ]
  },
  {
   "cell_type": "markdown",
   "metadata": {},
   "source": [
    "A few things are going on here while creating variables. First, Python lets us define variables using the convention variable_name = value. As long as the variable name is unique (it is not the name of a function, module, or other variable), we can define our variable this way. For strings, single quotes or double quotes must be used around the text that needs to be in the variable; it doesn't matter whether you choose single or double quotes, just stay consistent."
   ]
  },
  {
   "cell_type": "markdown",
   "metadata": {},
   "source": [
    "### Functions and Modules\n",
    "The next step is to tackle built-in functions.  "
   ]
  },
  {
   "cell_type": "code",
   "execution_count": null,
   "metadata": {},
   "outputs": [],
   "source": [
    "name = \"Stan Baek\"\n",
    "len(name)  # return the lenght of string\n",
    "type(name) # return variable type"
   ]
  },
  {
   "cell_type": "markdown",
   "metadata": {},
   "source": [
    "Python has tens of built-in functions. To view the list of the functions, navigate to \n",
    "https://docs.python.org/3.8/library/functions.html\n",
    "\n",
    "In Python you can use `help` to display the description of a function."
   ]
  },
  {
   "cell_type": "code",
   "execution_count": null,
   "metadata": {},
   "outputs": [],
   "source": [
    "help(len)"
   ]
  },
  {
   "cell_type": "markdown",
   "metadata": {},
   "source": [
    "In Python, we can create functions to perform a specific task. Python functions start with the keyword `def` followed by the function name, an open parenthesis, any inputs to pass to the function, a close parenthesis, and a colon. When we start writing what the function will do, we need to start on a new line and \"tab-in\" so that Python knows we are writing within the scope of the function. The function finishes when it gets to the last line of code or it reaches a `return` keyword. Let's write a function that adds two numbers"
   ]
  },
  {
   "cell_type": "code",
   "execution_count": null,
   "metadata": {},
   "outputs": [],
   "source": [
    "def add(a, b):\n",
    "    return a+b\n",
    "    \n",
    "print(add(3, 4))"
   ]
  },
  {
   "cell_type": "markdown",
   "metadata": {},
   "source": [
    "Let's look at the `print` function more carefully. There are a few different methods to print a string with variables. "
   ]
  },
  {
   "cell_type": "code",
   "execution_count": 22,
   "metadata": {},
   "outputs": [
    {
     "name": "stdout",
     "output_type": "stream",
     "text": [
      "The legendary pirate captain is 726.250000 years old.\n",
      "The legendary pirate captain is 726.2500 years old.\n",
      "The legendary pirate captain is   726.2500 years old.\n",
      "The legendary pirate captain is 726 years old.\n",
      "The legendary pirate captain is        726 years old.\n",
      "The legendary pirate captain is 726.25 years old.\n",
      "The legendary pirate captain is 726.2500 years old.\n",
      "The legendary pirate captain is   726.2500 years old.\n",
      "The legendary pirate captain is 726.25 years old.\n",
      "The legendary pirate captain is 726.2500 years old.\n",
      "The legendary pirate captain is   726.2500 years old.\n"
     ]
    }
   ],
   "source": [
    "title = \"The legendary pirate captain\"\n",
    "age = 726.25\n",
    "\n",
    "# method 1: (formatted-string)%(values)\n",
    "print(\"%s is %f years old.\"%(title, age))     # print a string and a floating point\n",
    "print(\"%s is %.4f years old.\"%(title, age))   # 4 decimal places\n",
    "print(\"%s is %10.4f years old.\"%(title, age)) # allocate 10 spaces\n",
    "print(\"%s is %d years old.\"%(title, age))     # print it as integer\n",
    "print(\"%s is %10d years old.\"%(title, age))   # allocate 10 spaces\n",
    "\n",
    "# method 2: (formatted-string).format(values)\n",
    "print(\"{} is {} years old.\".format(title, age)) \n",
    "print(\"{} is {:0.4f} years old.\".format(title, age))\n",
    "print(\"{} is {:10.4f} years old.\".format(title, age))\n",
    "\n",
    "# method 3: f(formatted-string with values)\n",
    "print(f\"{title} is {age} years old.\")\n",
    "print(f\"{title} is {age:.4f} years old.\")\n",
    "print(f\"{title} is {age:10.4f} years old.\")"
   ]
  },
  {
   "cell_type": "markdown",
   "metadata": {},
   "source": [
    "### Python Modules\n",
    "Additional functions can be added to python through modules. Modules are packages of additional functionality built by others. Typically, a module is comprised of compiled code that serves a specific function. To use advanced mathematical functions, enter import math"
   ]
  },
  {
   "cell_type": "code",
   "execution_count": null,
   "metadata": {},
   "outputs": [],
   "source": [
    "import math\n",
    "math.sqrt(16)\n",
    "math.sin(math.pi/2)\n",
    "math.cos(0)"
   ]
  },
  {
   "cell_type": "markdown",
   "metadata": {},
   "source": [
    "With Python code, the convention is to import all required modules at the top of the python script. \n",
    "By importing all modules at the beginning of the script, we ensure that all modules have been loaded by the time we need them later in the script. Also, it ensures anyone reading our code can very quickly see all the modules (dependencies) needed to run the code. \n",
    "\n",
    "We can also import individual function from a module"
   ]
  },
  {
   "cell_type": "code",
   "execution_count": null,
   "metadata": {},
   "outputs": [],
   "source": [
    "from math import sqrt, sin, pi\n",
    "print(sqrt(16))\n",
    "print(sin(pi/2))\n",
    "cos(0)   # error because cos was not imported"
   ]
  },
  {
   "cell_type": "code",
   "execution_count": null,
   "metadata": {},
   "outputs": [],
   "source": [
    "import math as m\n",
    "m.sqrt(16)\n",
    "m.sin(m.pi/2)\n",
    "m.cos(0)"
   ]
  },
  {
   "cell_type": "markdown",
   "metadata": {},
   "source": [
    "### Conditions\n",
    "The `if`, `else`, and `elif` statements control conditional code execution. The general format of a conditional state is as follows:\n",
    "\n",
    "```Python\n",
    "if expression:\n",
    "    statements\n",
    "elif expression:\n",
    "    statements\n",
    "elif expression:\n",
    "    statements\n",
    "else:\n",
    "    statements\n",
    "```"
   ]
  },
  {
   "cell_type": "markdown",
   "metadata": {},
   "source": [
    "If no action is to be taken, you can moit both the `else` and `elif` clauses of a conditional. Use the `pass` statement if no statements exists for a particular clause:\n",
    "\n",
    "```Python\n",
    "if expression:\n",
    "    pass       # Do nothing.\n",
    "else:\n",
    "    statements\n",
    "```"
   ]
  },
  {
   "cell_type": "markdown",
   "metadata": {},
   "source": [
    "Here is an example"
   ]
  },
  {
   "cell_type": "code",
   "execution_count": 14,
   "metadata": {},
   "outputs": [
    {
     "name": "stdin",
     "output_type": "stream",
     "text": [
      "Enter a four-letter word:  ads\n"
     ]
    },
    {
     "name": "stdout",
     "output_type": "stream",
     "text": [
      "ads is a three-letter word.\n"
     ]
    }
   ],
   "source": [
    "word = input(\"Enter a four-letter word: \")\n",
    "if len(word) == 4:\n",
    "    print(word, \"is a four-letter word. Well done.\")\n",
    "elif len(word) == 3:\n",
    "    print(word, \"is a three-letter word.\")\n",
    "else:\n",
    "    print(word, \"is not a four-letter word.\")"
   ]
  },
  {
   "cell_type": "markdown",
   "metadata": {},
   "source": [
    "Let's take a look at the following if-elif-else statement."
   ]
  },
  {
   "cell_type": "code",
   "execution_count": null,
   "metadata": {},
   "outputs": [],
   "source": [
    "hand = input(\"What would you like to play? \")\n",
    "if hand == \"Rock\":\n",
    "    print(\"It is a valid play\")\n",
    "elif hand == \"Paper\":\n",
    "    print(\"It is a valid play\")\n",
    "elif hand == \"Sciccors\":\n",
    "    print(\"It is a valid play\")\n",
    "else:    \n",
    "    print(\"It is an invalid play\")"
   ]
  },
  {
   "cell_type": "markdown",
   "metadata": {},
   "source": [
    "This code can be simplified by"
   ]
  },
  {
   "cell_type": "code",
   "execution_count": null,
   "metadata": {},
   "outputs": [],
   "source": [
    "hand = input(\"What would you like to play? \")\n",
    "if hand == \"Rock\" or hand == \"Paper\" or hand == \"Sciccors\":\n",
    "    print(\"It is a valid play\")\n",
    "else:    \n",
    "    print(\"It is an invalid play\")"
   ]
  },
  {
   "cell_type": "markdown",
   "metadata": {},
   "source": [
    "It can be even further simplified by"
   ]
  },
  {
   "cell_type": "code",
   "execution_count": null,
   "metadata": {},
   "outputs": [],
   "source": [
    "hand = input(\"What would you like to play? \")\n",
    "if hand in  (\"Rock\", \"Paper\", \"Scissors\"):\n",
    "    print(\"It is a valid play\")\n",
    "else:    \n",
    "    print(\"It is an invalid play\")    "
   ]
  },
  {
   "cell_type": "markdown",
   "metadata": {},
   "source": [
    "The ternary operator is a way of writing conditionals in Python. "
   ]
  },
  {
   "cell_type": "code",
   "execution_count": 28,
   "metadata": {},
   "outputs": [
    {
     "name": "stdout",
     "output_type": "stream",
     "text": [
      "1\n"
     ]
    }
   ],
   "source": [
    "y = 1\n",
    "\n",
    "if y == 1:\n",
    "    x = 1\n",
    "else: \n",
    "    x = 0\n",
    "print(x)"
   ]
  },
  {
   "cell_type": "code",
   "execution_count": 29,
   "metadata": {},
   "outputs": [
    {
     "name": "stdout",
     "output_type": "stream",
     "text": [
      "1\n"
     ]
    }
   ],
   "source": [
    "# The code above can be simplified by\n",
    "condition = True\n",
    "\n",
    "x = 1 if y == 1 else 0\n",
    "\n",
    "print(x)"
   ]
  },
  {
   "cell_type": "markdown",
   "metadata": {},
   "source": [
    "### Loops\n",
    "Let's start with a simple `while` statement."
   ]
  },
  {
   "cell_type": "code",
   "execution_count": null,
   "metadata": {},
   "outputs": [],
   "source": [
    "x = 1\n",
    "while x < 5:\n",
    "    print(x)\n",
    "    x = x + 1\n",
    "    \n",
    "while True:\n",
    "    print(x)\n",
    "    x -= 1\n",
    "    if x == 0:\n",
    "        break"
   ]
  },
  {
   "cell_type": "markdown",
   "metadata": {},
   "source": [
    "Let's try `for` loops\n",
    "\n",
    "**for** loop is probably the most popular loop construct in Python:\n",
    "```\n",
    "for target in sequence:\n",
    "    do_statements\n",
    "```"
   ]
  },
  {
   "cell_type": "code",
   "execution_count": 1,
   "metadata": {},
   "outputs": [
    {
     "name": "stdout",
     "output_type": "stream",
     "text": [
      "0\n",
      "1\n",
      "2\n",
      "3\n",
      "4\n"
     ]
    }
   ],
   "source": [
    "for i in [0, 1, 2, 3, 4]:\n",
    "    print(i)"
   ]
  },
  {
   "cell_type": "code",
   "execution_count": 2,
   "metadata": {},
   "outputs": [
    {
     "name": "stdout",
     "output_type": "stream",
     "text": [
      "0\n",
      "1\n",
      "2\n",
      "3\n",
      "4\n"
     ]
    }
   ],
   "source": [
    "for x in range(0,5):  # 0 <= x < 5\n",
    "    print(x)"
   ]
  },
  {
   "cell_type": "code",
   "execution_count": 3,
   "metadata": {
    "tags": []
   },
   "outputs": [
    {
     "name": "stdout",
     "output_type": "stream",
     "text": [
      "0\n",
      "1\n",
      "2\n",
      "3\n",
      "4\n"
     ]
    }
   ],
   "source": [
    "for i in range(5):\n",
    "    print(i)"
   ]
  },
  {
   "cell_type": "code",
   "execution_count": 4,
   "metadata": {},
   "outputs": [
    {
     "name": "stdout",
     "output_type": "stream",
     "text": [
      "2\n",
      "3\n",
      "4\n"
     ]
    }
   ],
   "source": [
    "for i in range(2,5):\n",
    "    print(i)"
   ]
  },
  {
   "cell_type": "code",
   "execution_count": 15,
   "metadata": {},
   "outputs": [
    {
     "name": "stdout",
     "output_type": "stream",
     "text": [
      "Peter Parker\n",
      "Clark Kent\n",
      "Wade Wilson\n",
      "Bruce Wayne\n",
      "Dr. Baek\n"
     ]
    }
   ],
   "source": [
    "names = ['Peter Parker', 'Clark Kent', 'Wade Wilson', 'Bruce Wayne', 'Dr. Baek']\n",
    "for i in range(0,len(names)):\n",
    "    print(names[i])"
   ]
  },
  {
   "cell_type": "markdown",
   "metadata": {},
   "source": [
    "You can accomplish the same with the following code, called **_Pythonic_**,"
   ]
  },
  {
   "cell_type": "code",
   "execution_count": 16,
   "metadata": {},
   "outputs": [
    {
     "name": "stdout",
     "output_type": "stream",
     "text": [
      "Peter Parker\n",
      "Clark Kent\n",
      "Wade Wilson\n",
      "Bruce Wayne\n",
      "Dr. Baek\n"
     ]
    }
   ],
   "source": [
    "for name in names:\n",
    "    print(name)"
   ]
  },
  {
   "cell_type": "code",
   "execution_count": 17,
   "metadata": {},
   "outputs": [
    {
     "name": "stdout",
     "output_type": "stream",
     "text": [
      "0 Peter Parker\n",
      "1 Clark Kent\n",
      "2 Wade Wilson\n",
      "3 Bruce Wayne\n",
      "4 Dr. Baek\n"
     ]
    }
   ],
   "source": [
    "# indexing using for loops\n",
    "index = 0\n",
    "for name in names:\n",
    "    print(index, name)\n",
    "    index += 1"
   ]
  },
  {
   "cell_type": "code",
   "execution_count": 18,
   "metadata": {},
   "outputs": [
    {
     "name": "stdout",
     "output_type": "stream",
     "text": [
      "0 Peter Parker\n",
      "1 Clark Kent\n",
      "2 Wade Wilson\n",
      "3 Bruce Wayne\n",
      "4 Dr. Baek\n"
     ]
    }
   ],
   "source": [
    "# Pythonic with enumerate\n",
    "for index, name in enumerate(names):\n",
    "    print(index, name)"
   ]
  },
  {
   "cell_type": "code",
   "execution_count": 19,
   "metadata": {},
   "outputs": [
    {
     "name": "stdout",
     "output_type": "stream",
     "text": [
      "1 Peter Parker\n",
      "2 Clark Kent\n",
      "3 Wade Wilson\n",
      "4 Bruce Wayne\n",
      "5 Dr. Baek\n"
     ]
    }
   ],
   "source": [
    "# the index can start with 1 \n",
    "for index, name in enumerate(names, start=1):\n",
    "    print(index, name)"
   ]
  },
  {
   "cell_type": "code",
   "execution_count": 23,
   "metadata": {},
   "outputs": [
    {
     "name": "stdout",
     "output_type": "stream",
     "text": [
      "Peter Parker is actually Spiderman\n",
      "Clark Kent is actually Superman\n",
      "Wade Wilson is actually Deadpool\n",
      "Bruce Wayne is actually Batman\n",
      "Dr. Baek is actually Pirate Captain\n"
     ]
    }
   ],
   "source": [
    "heroes = ['Spiderman', 'Superman', 'Deadpool', 'Batman', 'Pirate Captain']\n",
    "\n",
    "for index, name in enumerate(names):\n",
    "    hero = heroes[index]\n",
    "    print(f'{name} is actually {hero}')"
   ]
  },
  {
   "cell_type": "code",
   "execution_count": 24,
   "metadata": {},
   "outputs": [
    {
     "name": "stdout",
     "output_type": "stream",
     "text": [
      "Peter Parker is actually Spiderman\n",
      "Clark Kent is actually Superman\n",
      "Wade Wilson is actually Deadpool\n",
      "Bruce Wayne is actually Batman\n",
      "Dr. Baek is actually Pirate Captain\n"
     ]
    }
   ],
   "source": [
    "# Pythonic with zip\n",
    "for name, hero in zip(names, heroes):\n",
    "    print(f'{name} is actually {hero}')"
   ]
  },
  {
   "cell_type": "code",
   "execution_count": 25,
   "metadata": {},
   "outputs": [
    {
     "name": "stdout",
     "output_type": "stream",
     "text": [
      "Peter Parker is actually Spiderman from Marvel\n",
      "Clark Kent is actually Superman from DC\n",
      "Wade Wilson is actually Deadpool from Marvel\n",
      "Bruce Wayne is actually Batman from DC\n",
      "Dr. Baek is actually Pirate Captain from USAFA\n"
     ]
    }
   ],
   "source": [
    "universes = ['Marvel', 'DC', 'Marvel', 'DC', 'USAFA']\n",
    "for name, hero, universe in zip(names, heroes, universes):\n",
    "    print(f'{name} is actually {hero} from {universe}')"
   ]
  },
  {
   "cell_type": "code",
   "execution_count": null,
   "metadata": {
    "jupyter": {
     "source_hidden": true
    },
    "tags": []
   },
   "outputs": [],
   "source": []
  },
  {
   "cell_type": "code",
   "execution_count": null,
   "metadata": {},
   "outputs": [],
   "source": []
  },
  {
   "cell_type": "code",
   "execution_count": 35,
   "metadata": {},
   "outputs": [
    {
     "name": "stdout",
     "output_type": "stream",
     "text": [
      "H\n",
      "e\n",
      "l\n",
      "l\n",
      "o\n",
      " \n",
      "W\n",
      "o\n",
      "r\n",
      "l\n",
      "d\n"
     ]
    }
   ],
   "source": [
    "example_string = \"Hello World\"\n",
    "for c in example_string:\n",
    "    print(c)"
   ]
  },
  {
   "cell_type": "code",
   "execution_count": 36,
   "metadata": {},
   "outputs": [
    {
     "name": "stdout",
     "output_type": "stream",
     "text": [
      "\n",
      "...running for loop\n",
      "\n",
      "['Cat', 'Dog', 'Chicken', 'Dragon', 'Horse', 'Mouse', 'Aardvark']\n"
     ]
    }
   ],
   "source": [
    "# appending to lists in for loop\n",
    "\n",
    "print('\\n...running for loop\\n')\n",
    "for value in ['Horse','Mouse','Aardvark']:\n",
    "    animals.append(value)\n",
    "    \n",
    "print(animals)"
   ]
  },
  {
   "cell_type": "code",
   "execution_count": 38,
   "metadata": {},
   "outputs": [
    {
     "name": "stdout",
     "output_type": "stream",
     "text": [
      "A\n",
      "N\n",
      "I\n",
      "M\n",
      "A\n",
      "L\n",
      "S\n"
     ]
    }
   ],
   "source": [
    "# manipulating lists using for loops\n",
    "for value in ['a','n','i','m','a','l','s']:\n",
    "    print(value.upper())"
   ]
  },
  {
   "cell_type": "markdown",
   "metadata": {},
   "source": [
    "## Homework\n",
    "Create a folder called `ICE1` in your repository and create ex1.py, ex2.py, and ex3.py in the `ICE1` folder.  Complete the following exercises and push the files to your repository.\n"
   ]
  },
  {
   "cell_type": "markdown",
   "metadata": {},
   "source": [
    "### Problem 1\n",
    "Write a Python script that asks the user to enter an integer n and prints n lines of following patterns.\n",
    "\n",
    "(a)\n",
    "```\n",
    "1\n",
    "3 3\n",
    "5 5 5\n",
    "7 7 7 7\n",
    "```\n",
    "(b)\n",
    "```\n",
    "      6\n",
    "    4 4\n",
    "  2 2 2\n",
    "0 0 0 0 \n",
    "```"
   ]
  },
  {
   "cell_type": "markdown",
   "metadata": {},
   "source": [
    "### Problem 2\n",
    " Write a Python script that computes square roots using the Newton's method of successive approximation, which says that whenever we have a guess $y$ for the value of the square root of a number $x$, we can perform a simple manipulation to get a better guess by averaging $y$ with $x/y$. For example we can compute the square root of 2 as shown below\n",
    "\n",
    "\n",
    "![SQRT](../images/sqrt.png)\n",
    "\n",
    "<br>\n",
    "<center>\n",
    "<img src=\"https://github.com/stanbaek/ece487/blob/gh-pages/_images/sqrt.png?raw=true\" alt=\"SQRT\" class=\"bg-primary\" width=\"500px\">\n",
    "</center>\n",
    "<br>\n",
    "\n",
    "\n",
    "You need to iterate until $|y^2 - x| < \\epsilon$, where $\\epsilon = 10^{-9}$ is the tolerance. You are not allowed to use any functions in the `math` module except `math.fabs` for the absolute values.  \n"
   ]
  },
  {
   "cell_type": "markdown",
   "metadata": {},
   "source": [
    "### Problem 3\n",
    "Write a Python **function** that takes a string argument and returns the number of lowercase vowels in the string."
   ]
  },
  {
   "cell_type": "code",
   "execution_count": null,
   "metadata": {},
   "outputs": [],
   "source": []
  }
 ],
 "metadata": {
  "colab": {
   "collapsed_sections": []
  },
  "interpreter": {
   "hash": "31f2aee4e71d21fbe5cf8b01ff0e069b9275f58929596ceb00d14d90e3e16cd6"
  },
  "kernelspec": {
   "display_name": "Python 3 (ipykernel)",
   "language": "python",
   "name": "python3"
  },
  "language_info": {
   "codemirror_mode": {
    "name": "ipython",
    "version": 3
   },
   "file_extension": ".py",
   "mimetype": "text/x-python",
   "name": "python",
   "nbconvert_exporter": "python",
   "pygments_lexer": "ipython3",
   "version": "3.8.2"
  }
 },
 "nbformat": 4,
 "nbformat_minor": 4
}
