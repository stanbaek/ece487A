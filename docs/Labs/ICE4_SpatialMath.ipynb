{
 "cells": [
  {
   "cell_type": "markdown",
   "id": "edfba5c0",
   "metadata": {
    "tags": []
   },
   "source": [
    "<a target=\"_blank\" rel=\"noopener noreferrer\" href=\"https://colab.research.google.com/github/stanbaek/ece487/blob/main/docs/Labs/ICE4_SpatialMath.ipynb\">![Open In Colab](https://colab.research.google.com/assets/colab-badge.svg)</a>\n",
    "\n",
    "# ❄️ ICE4: Spatial Math for Python"
   ]
  },
  {
   "cell_type": "markdown",
   "id": "c243bf9d-1dc8-41a9-bbfd-6f24b71a7874",
   "metadata": {},
   "source": [
    "<hr>"
   ]
  },
  {
   "cell_type": "markdown",
   "id": "d6feb073-866a-4ec3-a11d-06f895d1a5a7",
   "metadata": {
    "tags": []
   },
   "source": [
    "**A note on this document**\n",
    "This document is known as a Jupyter notebook; it is used in academia and industry to allow text and executable code to coexist in a very easy to read format. Blocks can contain text or executable code. To run the executable code in this notebook, click <a target=\"_blank\" rel=\"noopener noreferrer\" href=\"https://colab.research.google.com/github/stanbaek/ece487/blob/main/docs/Labs/ICE4_SpatialMath.ipynb\">![Open In Colab](https://colab.research.google.com/assets/colab-badge.svg)</a>\n",
    ". For blocks containing code, press `Shift + Enter`, `Ctrl+Enter`, or click the arrow on the block to run the code. Earlier blocks of code need to be run for the later blocks of code to work."
   ]
  },
  {
   "cell_type": "markdown",
   "id": "b454075b",
   "metadata": {
    "tags": []
   },
   "source": [
    "## Introduction\n",
    "This in-class exercise will introduce the spatialmath package that will be used throughout the semester to control robotic arms."
   ]
  },
  {
   "cell_type": "markdown",
   "id": "0869b721",
   "metadata": {},
   "source": [
    "### Documentation\n",
    "This in-class exercise has been adapted from the Spatial Math for Python.  Refer to the follwing links for more details.\n",
    "\n",
    "- [Spatial Maths for Python](https://petercorke.github.io/spatialmath-python/)\n",
    "- [spatialmath-python github](https://github.com/petercorke/spatialmath-python)\n"
   ]
  },
  {
   "cell_type": "markdown",
   "id": "398b87e9-9def-40a0-b6e3-b4c1f2a26bdb",
   "metadata": {},
   "source": [
    "## Low-Level Spatial Math Functions"
   ]
  },
  {
   "cell_type": "markdown",
   "id": "cde995db",
   "metadata": {},
   "source": [
    "### Transformation Matrices in 2D"
   ]
  },
  {
   "cell_type": "markdown",
   "id": "be08e13e",
   "metadata": {},
   "source": [
    "First, import the **low-level** transform functions"
   ]
  },
  {
   "cell_type": "code",
   "execution_count": 1,
   "id": "04f3cfe7",
   "metadata": {},
   "outputs": [],
   "source": [
    "from spatialmath.base import *  # import low-level functions\n",
    "import numpy as np"
   ]
  },
  {
   "cell_type": "code",
   "execution_count": 2,
   "id": "0c0cb3ab",
   "metadata": {},
   "outputs": [
    {
     "name": "stdout",
     "output_type": "stream",
     "text": [
      "[[ 0.70710678 -0.70710678]\n",
      " [ 0.70710678  0.70710678]]\n",
      "<class 'numpy.ndarray'>\n",
      "1.0\n"
     ]
    }
   ],
   "source": [
    "# We can create a rotation matrix in 2-dimensional space\n",
    "R = rot2(np.pi/4) # the angle is specified in radians.\n",
    "print(R)\n",
    "\n",
    "# The object type of R can be found by\n",
    "print(type(R))\n",
    "# R is a numpy.ndarray object\n",
    "\n",
    "# We can find the determinant of the matrix such as\n",
    "d = np.linalg.det(R)\n",
    "print(d)"
   ]
  },
  {
   "cell_type": "markdown",
   "id": "e2a09e0d",
   "metadata": {},
   "source": [
    "As it is expected, R is a 2 by 2 matrix that is a `numpy.ndarray` object. \n",
    "\n",
    "```{important} The objects returned by the **low-level** spatialmath functions are numpy arrays.\n",
    "```\n",
    "\n",
    "We can also create a homogeneous transformation matrix in 2-D that is a 3 by 3 matrix."
   ]
  },
  {
   "cell_type": "code",
   "execution_count": 4,
   "id": "3973b246",
   "metadata": {},
   "outputs": [
    {
     "name": "stdout",
     "output_type": "stream",
     "text": [
      "[[ 0.8660254 -0.5        0.       ]\n",
      " [ 0.5        0.8660254  0.       ]\n",
      " [ 0.         0.         1.       ]]\n",
      "[[ 0.70710678 -0.70710678  1.        ]\n",
      " [ 0.70710678  0.70710678  2.        ]\n",
      " [ 0.          0.          1.        ]]\n"
     ]
    },
    {
     "data": {
      "text/plain": [
       "numpy.ndarray"
      ]
     },
     "execution_count": 4,
     "metadata": {},
     "output_type": "execute_result"
    }
   ],
   "source": [
    "# Homogeneous transformation matrix for a rotation of 30 deg\n",
    "T = trot2(30, 'deg')\n",
    "print(T)\n",
    "\n",
    "# Create a homogeneous transformation in 2-D that represents \n",
    "# a translation of (1,2) followed by a rotation of 45 deg\n",
    "T1 = transl2(1,2)@trot2(np.pi/4)   # It is trans-'el'-2 not trans-one-2\n",
    "print(T1)\n",
    "\n",
    "type(T1)"
   ]
  },
  {
   "cell_type": "markdown",
   "id": "562cc65e",
   "metadata": {},
   "source": [
    "```{note}\n",
    "`*` is for element-wise multiplication whereas `@` is for matrix multiplication.\n",
    "```\n",
    "\n",
    "The function `transl2` creates a relative pose with a finite translation but zero rotation, while `trot2` creates a relative pose with a finite rotation but zero translation.  We can plot this, relative to the world coordinate frame, by"
   ]
  },
  {
   "cell_type": "code",
   "execution_count": 5,
   "id": "9c55d8e4",
   "metadata": {},
   "outputs": [
    {
     "data": {
      "text/plain": [
       "<AxesSubplot:xlabel='X', ylabel='X'>"
      ]
     },
     "execution_count": 5,
     "metadata": {},
     "output_type": "execute_result"
    },
    {
     "data": {
      "image/png": "[encoded data removed]",
      "text/plain": [
       "<Figure size 432x288 with 1 Axes>"
      ]
     },
     "metadata": {
      "needs_background": "light"
     },
     "output_type": "display_data"
    }
   ],
   "source": [
    "trplot2(T1, frame='A')"
   ]
  },
  {
   "cell_type": "markdown",
   "id": "f7b63368",
   "metadata": {},
   "source": [
    "If it does not display a plot in PyCharm, you need to install matplotlib package.  Go to `File > Settings > Project > Python Interpreter`. Click `+` to install `matplotlib`. Once installation is complete add to your code\n",
    "```\n",
    "import matplotlib.pyplot as plt\n",
    "```\n",
    "and after the `trplot2()` function add\n",
    "```\n",
    "plt.show()\n",
    "```"
   ]
  },
  {
   "cell_type": "markdown",
   "id": "e72324dc",
   "metadata": {},
   "source": [
    "Use `plotvol2` to modify the plot area"
   ]
  },
  {
   "cell_type": "code",
   "execution_count": 6,
   "id": "4bf7501b",
   "metadata": {},
   "outputs": [
    {
     "data": {
      "text/plain": [
       "<AxesSubplot:xlabel='X', ylabel='Y'>"
      ]
     },
     "execution_count": 6,
     "metadata": {},
     "output_type": "execute_result"
    },
    {
     "data": {
      "image/png": "[encoded data removed]",
      "text/plain": [
       "<Figure size 432x288 with 1 Axes>"
      ]
     },
     "metadata": {
      "needs_background": "light"
     },
     "output_type": "display_data"
    }
   ],
   "source": [
    "trplot2(T1, frame='A')\n",
    "plotvol2([0,2,0,3], grid=True)  # axis dimension: x = [0,2], y=[0,3] "
   ]
  },
  {
   "cell_type": "markdown",
   "id": "1bf46966",
   "metadata": {},
   "source": [
    "We can run `help` function to learn details of these functions by"
   ]
  },
  {
   "cell_type": "code",
   "execution_count": 7,
   "id": "3205bc9c",
   "metadata": {},
   "outputs": [
    {
     "name": "stdout",
     "output_type": "stream",
     "text": [
      "Help on function trplot2 in module spatialmath.base.transforms2d:\n",
      "\n",
      "trplot2(T, color='blue', frame=None, axislabel=True, axissubscript=True, textcolor=None, labels=('X', 'Y'), length=1, arrow=True, rviz=False, ax=None, block=False, dims=None, wtl=0.2, width=1, d1=0.1, d2=1.15, **kwargs)\n",
      "    Plot a 2D coordinate frame\n",
      "    \n",
      "    :param T: an SE(3) or SO(3) pose to be displayed as coordinate frame\n",
      "    :type: ndarray(3,3) or ndarray(2,2)\n",
      "    :param color: color of the lines defining the frame\n",
      "    :type color: str\n",
      "    :param textcolor: color of text labels for the frame, default color of lines above\n",
      "    :type textcolor: str\n",
      "    :param frame: label the frame, name is shown below the frame and as subscripts on the frame axis labels\n",
      "    :type frame: str\n",
      "    :param axislabel: display labels on axes, default True\n",
      "    :type axislabel: bool\n",
      "    :param axissubscript: display subscripts on axis labels, default True\n",
      "    :type axissubscript: bool\n",
      "    :param labels: labels for the axes, defaults to X and Y\n",
      "    :type labels: 2-tuple of strings\n",
      "    :param length: length of coordinate frame axes, default 1\n",
      "    :type length: float\n",
      "    :param arrow: show arrow heads, default True\n",
      "    :type arrow: bool\n",
      "    :param ax: the axes to plot into, defaults to current axes\n",
      "    :type ax: Axes3D reference\n",
      "    :param block: run the GUI main loop until all windows are closed, default True\n",
      "    :type block: bool\n",
      "    :param dims: dimension of plot volume as [xmin, xmax, ymin, ymax]\n",
      "    :type dims: array_like(4)\n",
      "    :param wtl: width-to-length ratio for arrows, default 0.2\n",
      "    :type wtl: float\n",
      "    :param rviz: show Rviz style arrows, default False\n",
      "    :type rviz: bool\n",
      "    :param projection: 3D projection: ortho [default] or persp\n",
      "    :type projection: str\n",
      "    :param width: width of lines, default 1\n",
      "    :type width: float\n",
      "    :param d1: distance of frame axis label text from origin, default 0.05\n",
      "    :type d1: float\n",
      "    :param d2: distance of frame label text from origin, default 1.15\n",
      "    :type d2: float\n",
      "    :return: axes containing the frame\n",
      "    :rtype: AxesSubplot\n",
      "    :raises ValueError: bad argument\n",
      "    \n",
      "    Adds a 2D coordinate frame represented by the SO(2) or SE(2) matrix to the current axes.\n",
      "    \n",
      "    The appearance of the coordinate frame depends on many parameters:\n",
      "    \n",
      "    - coordinate axes depend on:\n",
      "        - ``color`` of axes\n",
      "        - ``width`` of line\n",
      "        - ``length`` of line\n",
      "        - ``arrow`` if True [default] draw the axis with an arrow head\n",
      "    - coordinate axis labels depend on:\n",
      "        - ``axislabel`` if True [default] label the axis, default labels are X, Y, Z\n",
      "        - ``labels`` 2-list of alternative axis labels\n",
      "        - ``textcolor`` which defaults to ``color``\n",
      "        - ``axissubscript`` if True [default] add the frame label ``frame`` as a subscript\n",
      "            for each axis label\n",
      "    - coordinate frame label depends on:\n",
      "        - `frame` the label placed inside {} near the origin of the frame\n",
      "    - a dot at the origin\n",
      "        - ``originsize`` size of the dot, if zero no dot\n",
      "        - ``origincolor`` color of the dot, defaults to ``color``\n",
      "        - If no current figure, one is created\n",
      "        - If current figure, but no axes, a 3d Axes is created\n",
      "    \n",
      "    Examples:\n",
      "    \n",
      "            trplot2(T, frame='A')\n",
      "            trplot2(T, frame='A', color='green')\n",
      "            trplot2(T1, 'labels', 'AB');\n",
      "    \n",
      "    :SymPy: not supported\n",
      "    \n",
      "    :seealso: :func:`tranimate2` :func:`plotvol2` :func:`axes_logic`\n",
      "\n"
     ]
    }
   ],
   "source": [
    "help(trplot2)"
   ]
  },
  {
   "cell_type": "markdown",
   "id": "6cc6d0fe",
   "metadata": {},
   "source": [
    "We can create another relative pose which is a displacement of (2,1) and zero rotation"
   ]
  },
  {
   "cell_type": "code",
   "execution_count": 8,
   "id": "9d2904b7",
   "metadata": {},
   "outputs": [
    {
     "name": "stdout",
     "output_type": "stream",
     "text": [
      "[[1. 0. 2.]\n",
      " [0. 1. 1.]\n",
      " [0. 0. 1.]]\n"
     ]
    }
   ],
   "source": [
    "T2 = transl2(2,1)\n",
    "print(T2)"
   ]
  },
  {
   "cell_type": "markdown",
   "id": "4f60e38a",
   "metadata": {},
   "source": [
    "Now we can compose the two relative poses"
   ]
  },
  {
   "cell_type": "code",
   "execution_count": 9,
   "id": "4479e636",
   "metadata": {},
   "outputs": [
    {
     "name": "stdout",
     "output_type": "stream",
     "text": [
      "[[ 0.70710678 -0.70710678  1.70710678]\n",
      " [ 0.70710678  0.70710678  4.12132034]\n",
      " [ 0.          0.          1.        ]]\n"
     ]
    }
   ],
   "source": [
    "T3 = T1@T2\n",
    "print(T3)"
   ]
  },
  {
   "cell_type": "markdown",
   "id": "007ad724",
   "metadata": {},
   "source": [
    "and plot them as"
   ]
  },
  {
   "cell_type": "code",
   "execution_count": 10,
   "id": "ed9b2c75",
   "metadata": {},
   "outputs": [
    {
     "data": {
      "text/plain": [
       "<AxesSubplot:xlabel='X', ylabel='Y'>"
      ]
     },
     "execution_count": 10,
     "metadata": {},
     "output_type": "execute_result"
    },
    {
     "data": {
      "image/png": "[encoded data removed]",
      "text/plain": [
       "<Figure size 432x288 with 1 Axes>"
      ]
     },
     "metadata": {
      "needs_background": "light"
     },
     "output_type": "display_data"
    }
   ],
   "source": [
    "trplot2(T1, frame='A', width=1)\n",
    "trplot2(T2, frame='B', color='red', width=1)\n",
    "trplot2(T3, frame='C', color='green', width=1)\n",
    "plotvol2([0,4,0,5], grid=True)"
   ]
  },
  {
   "cell_type": "markdown",
   "id": "b2431b4f",
   "metadata": {},
   "source": [
    "```{note}\n",
    "Notice that the displacement of (2,1) has been applied with respect to frame {A}.  It is important to note that the final displacement is not (3,3) because the displacement is with respect to the rotated coordinate frame. \n",
    "```\n",
    "\n",
    "The noncommutativity of composition is clearly demonstrated by "
   ]
  },
  {
   "cell_type": "code",
   "execution_count": 11,
   "id": "c179f0ec",
   "metadata": {},
   "outputs": [
    {
     "data": {
      "text/plain": [
       "<AxesSubplot:xlabel='X', ylabel='Y'>"
      ]
     },
     "execution_count": 11,
     "metadata": {},
     "output_type": "execute_result"
    },
    {
     "data": {
      "image/png": "[encoded data removed]",
      "text/plain": [
       "<Figure size 432x288 with 1 Axes>"
      ]
     },
     "metadata": {
      "needs_background": "light"
     },
     "output_type": "display_data"
    }
   ],
   "source": [
    "T4 = T2@T1\n",
    "trplot2(T1, frame='A', width=1)\n",
    "trplot2(T2, frame='B', color='red', width=1)\n",
    "trplot2(T3, frame='C', color='green', width=1)\n",
    "trplot2(T4, frame='D', color='black')\n",
    "plotvol2([0,4,0,5], grid=True)"
   ]
  },
  {
   "cell_type": "markdown",
   "id": "1f4b02b6",
   "metadata": {},
   "source": [
    "and we can see that Frame {D} is different to Frame {C}. \n",
    "\n",
    "Now we can define a point $[3,2]^\\top$ relative to the world frame (Frame {0})"
   ]
  },
  {
   "cell_type": "code",
   "execution_count": 12,
   "id": "03f940a7",
   "metadata": {},
   "outputs": [
    {
     "name": "stdout",
     "output_type": "stream",
     "text": [
      "[[3]\n",
      " [2]]\n"
     ]
    }
   ],
   "source": [
    "P_0 = np.array([3,2]).reshape([2,1])  # it must be a 2 by 1 column vector \n",
    "print(P_0)"
   ]
  },
  {
   "cell_type": "markdown",
   "id": "ac368113",
   "metadata": {},
   "source": [
    "which is a column vector.\n",
    "\n",
    "We can determine the coordinate of the point with respect to {A} by\n",
    "$$^0\\tilde{\\mathbf{p}} = {^0T}_A {^A\\tilde{\\mathbf{p}}} $$\n",
    "and then rearrange as\n",
    "$${^A\\tilde{\\mathbf{p}}} = {^AT_0} {^0\\tilde{\\mathbf{p}}} = {^0T^{-1}_A} {^0\\tilde{\\mathbf{p}}} $$\n",
    "Substituting numeric values"
   ]
  },
  {
   "cell_type": "code",
   "execution_count": 13,
   "id": "720a1409",
   "metadata": {},
   "outputs": [
    {
     "name": "stdout",
     "output_type": "stream",
     "text": [
      "[[3.]\n",
      " [2.]\n",
      " [1.]]\n",
      "[[ 1.41421356]\n",
      " [-1.41421356]\n",
      " [ 1.        ]]\n"
     ]
    }
   ],
   "source": [
    "p_0 = e2h(P_0)  # convert from Euclidean to homogeneous form\n",
    "print(p_0)\n",
    "p_A = np.linalg.inv(T1)@p_0\n",
    "print(p_A)"
   ]
  },
  {
   "cell_type": "markdown",
   "id": "6525e129",
   "metadata": {},
   "source": [
    "where we first convert the Euclidean point coordinates to homogeneous form by appending a one. The result is also in homogeneous form and has a negative y-coordinate in frame {A}.  Using `h2e` we could also have expressed this as "
   ]
  },
  {
   "cell_type": "code",
   "execution_count": 14,
   "id": "0aa724ca",
   "metadata": {},
   "outputs": [
    {
     "name": "stdout",
     "output_type": "stream",
     "text": [
      "[[ 1.41421356]\n",
      " [-1.41421356]]\n"
     ]
    }
   ],
   "source": [
    "P_A = h2e(np.linalg.inv(T1)@p_0)\n",
    "print(P_A)"
   ]
  },
  {
   "cell_type": "markdown",
   "id": "cc89be0d",
   "metadata": {},
   "source": [
    "You can use `set_printoptions` to change the way foating point numbers and numpy arrays are displayed"
   ]
  },
  {
   "cell_type": "code",
   "execution_count": 15,
   "id": "8c565ed2",
   "metadata": {},
   "outputs": [
    {
     "name": "stdout",
     "output_type": "stream",
     "text": [
      "[[1.41]\n",
      " [-1.41]]\n"
     ]
    }
   ],
   "source": [
    "float_formatter = \"{:.2f}\".format\n",
    "np.set_printoptions(formatter={'float_kind':float_formatter})\n",
    "print(P_A)"
   ]
  },
  {
   "cell_type": "markdown",
   "id": "a04495c2",
   "metadata": {},
   "source": [
    "###\tTransformation Matrices in 3D"
   ]
  },
  {
   "cell_type": "markdown",
   "id": "a2bacd08",
   "metadata": {},
   "source": [
    "The spatial maths package provides functions to compute rotation matrices in 3D, for example $R_X(\\theta)$ is"
   ]
  },
  {
   "cell_type": "code",
   "execution_count": 17,
   "id": "8220777d",
   "metadata": {},
   "outputs": [
    {
     "name": "stdout",
     "output_type": "stream",
     "text": [
      "[[1.00 0.00 0.00]\n",
      " [0.00 0.00 -1.00]\n",
      " [0.00 1.00 0.00]]\n"
     ]
    }
   ],
   "source": [
    "R = rotx(np.pi/2)\n",
    "print(R)"
   ]
  },
  {
   "cell_type": "markdown",
   "id": "9d321a2b",
   "metadata": {},
   "source": [
    "The function `rotx` returns the rotation matrix that rotates a point around the x-axis for an input in radians. The functions `roty` and `rotz` compute $R_Y(\\theta)$ and $R_Z(\\theta)$, respectively.  The corresponding coordinate frame can be displayed graphically"
   ]
  },
  {
   "cell_type": "code",
   "execution_count": 18,
   "id": "6f57bb4d",
   "metadata": {},
   "outputs": [
    {
     "data": {
      "text/plain": [
       "<Axes3DSubplot:xlabel='X', ylabel='X'>"
      ]
     },
     "execution_count": 18,
     "metadata": {},
     "output_type": "execute_result"
    },
    {
     "data": {
      "image/png": "[encoded data removed]",
      "text/plain": [
       "<Figure size 432x288 with 1 Axes>"
      ]
     },
     "metadata": {
      "needs_background": "light"
     },
     "output_type": "display_data"
    }
   ],
   "source": [
    "trplot(R)"
   ]
  },
  {
   "cell_type": "markdown",
   "id": "f4a3d9e5",
   "metadata": {},
   "source": [
    "To illustrate compounding of rotations we will rotate the frame again, this time around its y-axis"
   ]
  },
  {
   "cell_type": "code",
   "execution_count": 19,
   "id": "e98b91ca",
   "metadata": {},
   "outputs": [
    {
     "name": "stdout",
     "output_type": "stream",
     "text": [
      "[[0.00 0.00 1.00]\n",
      " [1.00 0.00 -0.00]\n",
      " [-0.00 1.00 0.00]]\n"
     ]
    },
    {
     "data": {
      "text/plain": [
       "<Axes3DSubplot:xlabel='X', ylabel='X'>"
      ]
     },
     "execution_count": 19,
     "metadata": {},
     "output_type": "execute_result"
    },
    {
     "data": {
      "image/png": "[encoded data removed]",
      "text/plain": [
       "<Figure size 432x288 with 1 Axes>"
      ]
     },
     "metadata": {
      "needs_background": "light"
     },
     "output_type": "display_data"
    }
   ],
   "source": [
    "R = rotx(np.pi/2)@roty(90, 'deg')\n",
    "print(R)\n",
    "trplot(R)"
   ]
  },
  {
   "cell_type": "markdown",
   "id": "5d610b71",
   "metadata": {},
   "source": [
    "The non-commutativity of rotation can be shown by reversing the order of the rotations:"
   ]
  },
  {
   "cell_type": "code",
   "execution_count": 20,
   "id": "7012955e",
   "metadata": {},
   "outputs": [
    {
     "name": "stdout",
     "output_type": "stream",
     "text": [
      "[[0.00 1.00 0.00]\n",
      " [0.00 0.00 -1.00]\n",
      " [-1.00 0.00 0.00]]\n"
     ]
    },
    {
     "data": {
      "text/plain": [
       "<Axes3DSubplot:xlabel='X', ylabel='X'>"
      ]
     },
     "execution_count": 20,
     "metadata": {},
     "output_type": "execute_result"
    },
    {
     "data": {
      "image/png": "[encoded data removed]",
      "text/plain": [
       "<Figure size 432x288 with 1 Axes>"
      ]
     },
     "metadata": {
      "needs_background": "light"
     },
     "output_type": "display_data"
    }
   ],
   "source": [
    "R = roty(np.pi/2)@rotx(np.pi/2)\n",
    "print(R)\n",
    "trplot(R)"
   ]
  },
  {
   "cell_type": "markdown",
   "id": "c0bc06a8",
   "metadata": {},
   "source": [
    "The ZYX Euler angles $R=R_Z(\\psi)R_Y(\\theta)R_X(\\phi)$ is commonly used in robotic arms. The Euler angles are the 3-vector $(\\psi, \\theta, \\phi)$. For example, to compute the equivalent rotation matrix for $(60^\\circ, 45^\\circ, 30^\\circ)$ we write\n"
   ]
  },
  {
   "cell_type": "code",
   "execution_count": 21,
   "id": "6e1998ef",
   "metadata": {},
   "outputs": [
    {
     "name": "stdout",
     "output_type": "stream",
     "text": [
      "[[0.61 0.28 0.74]\n",
      " [0.35 0.74 -0.57]\n",
      " [-0.71 0.61 0.35]]\n"
     ]
    }
   ],
   "source": [
    "Rzyx = rotz(np.pi/6)@roty(np.pi/4)@rotx(np.pi/3)\n",
    "print(Rzyx)"
   ]
  },
  {
   "cell_type": "markdown",
   "id": "d444c434",
   "metadata": {},
   "source": [
    "or more conveniently"
   ]
  },
  {
   "cell_type": "code",
   "execution_count": 22,
   "id": "1fdc7cb4",
   "metadata": {},
   "outputs": [
    {
     "name": "stdout",
     "output_type": "stream",
     "text": [
      "[[0.61 0.28 0.74]\n",
      " [0.35 0.74 -0.57]\n",
      " [-0.71 0.61 0.35]]\n"
     ]
    }
   ],
   "source": [
    "Rzyx = rpy2r(np.pi/3, np.pi/4, np.pi/6)  # roll-pitch-yaw to rotation matrix\n",
    "print(Rzyx)"
   ]
  },
  {
   "cell_type": "markdown",
   "id": "578b8a6f",
   "metadata": {},
   "source": [
    "The function `rpy2r(alpha, beta, gamma)` transforms roll-pitch-yaw angles to a rotation matrix. The default is ZYX Euler angles - rotate by gamma about the z-axis, then by beta about the new y-axis, then by alpha about the new x-axis.  The inverse is"
   ]
  },
  {
   "cell_type": "code",
   "execution_count": 23,
   "id": "35f978a2",
   "metadata": {},
   "outputs": [
    {
     "name": "stdout",
     "output_type": "stream",
     "text": [
      "[1.05 0.79 0.52]\n"
     ]
    }
   ],
   "source": [
    "rpy = tr2rpy(Rzyx)\n",
    "print(rpy)"
   ]
  },
  {
   "cell_type": "markdown",
   "id": "b274ffe1",
   "metadata": {},
   "source": [
    "in radians or"
   ]
  },
  {
   "cell_type": "code",
   "execution_count": 24,
   "id": "0bc7e8c8",
   "metadata": {},
   "outputs": [
    {
     "name": "stdout",
     "output_type": "stream",
     "text": [
      "[60.00 45.00 30.00]\n"
     ]
    }
   ],
   "source": [
    "rpy = tr2rpy(Rzyx, unit='deg')\n",
    "print(rpy)"
   ]
  },
  {
   "cell_type": "markdown",
   "id": "304f3aab",
   "metadata": {},
   "source": [
    "in degrees.  To compute the rotation matrix for XYZ Euler angles with $(60^\\circ, 45^\\circ, 30^\\circ)$ we write"
   ]
  },
  {
   "cell_type": "code",
   "execution_count": 25,
   "id": "8cbec9d4",
   "metadata": {},
   "outputs": [
    {
     "name": "stdout",
     "output_type": "stream",
     "text": [
      "[[0.35 -0.61 0.71]\n",
      " [0.93 0.13 -0.35]\n",
      " [0.13 0.78 0.61]]\n"
     ]
    }
   ],
   "source": [
    "Rxyz = rotx(np.pi/6)@roty(np.pi/4)@rotz(np.pi/3)\n",
    "print(Rxyz)"
   ]
  },
  {
   "cell_type": "markdown",
   "id": "4cb1cf70",
   "metadata": {},
   "source": [
    "or"
   ]
  },
  {
   "cell_type": "code",
   "execution_count": 26,
   "id": "258e85e6",
   "metadata": {},
   "outputs": [
    {
     "name": "stdout",
     "output_type": "stream",
     "text": [
      "[[0.35 -0.61 0.71]\n",
      " [0.93 0.13 -0.35]\n",
      " [0.13 0.78 0.61]]\n"
     ]
    }
   ],
   "source": [
    "Rxyz = rpy2r(np.pi/3, np.pi/4, np.pi/6, order='xyz')\n",
    "print(Rxyz)"
   ]
  },
  {
   "cell_type": "markdown",
   "id": "e5ac683b",
   "metadata": {},
   "source": [
    "The inverse is"
   ]
  },
  {
   "cell_type": "code",
   "execution_count": 27,
   "id": "ffa285f2",
   "metadata": {},
   "outputs": [
    {
     "name": "stdout",
     "output_type": "stream",
     "text": [
      "[-90.00 0.00 90.00]\n"
     ]
    }
   ],
   "source": [
    "rpy = tr2rpy(R, unit='deg', order='xyz')\n",
    "print(rpy)"
   ]
  },
  {
   "cell_type": "markdown",
   "id": "63a252da",
   "metadata": {},
   "source": [
    "A homogeneous transformation matrix can be implemented by"
   ]
  },
  {
   "cell_type": "code",
   "execution_count": 28,
   "id": "d342c422",
   "metadata": {},
   "outputs": [
    {
     "name": "stdout",
     "output_type": "stream",
     "text": [
      "[[0.00 0.00 1.00 0.00]\n",
      " [0.00 1.00 0.00 0.00]\n",
      " [-1.00 0.00 0.00 0.00]\n",
      " [0.00 0.00 0.00 1.00]]\n"
     ]
    }
   ],
   "source": [
    "T = rpy2tr(0, 90, 0, unit='deg', order='zyx')\n",
    "print(T)"
   ]
  },
  {
   "cell_type": "markdown",
   "id": "2249e960",
   "metadata": {},
   "source": [
    "which is a 4 by 4 matrix. We can extract the Euler angles by"
   ]
  },
  {
   "cell_type": "code",
   "execution_count": 29,
   "id": "9f7acf6c",
   "metadata": {},
   "outputs": [
    {
     "name": "stdout",
     "output_type": "stream",
     "text": [
      "[0.00 90.00 -0.00]\n"
     ]
    }
   ],
   "source": [
    "rpy = tr2rpy(T, unit='deg')\n",
    "print(rpy)"
   ]
  },
  {
   "cell_type": "markdown",
   "id": "cf48ac99",
   "metadata": {},
   "source": [
    "The `trplot` function supports various plotting styles as follows."
   ]
  },
  {
   "cell_type": "code",
   "execution_count": 30,
   "id": "248b1187",
   "metadata": {},
   "outputs": [
    {
     "data": {
      "text/plain": [
       "<Axes3DSubplot:xlabel='X', ylabel='Y'>"
      ]
     },
     "execution_count": 30,
     "metadata": {},
     "output_type": "execute_result"
    },
    {
     "data": {
      "image/png": "[encoded data removed]",
      "text/plain": [
       "<Figure size 432x288 with 1 Axes>"
      ]
     },
     "metadata": {
      "needs_background": "light"
     },
     "output_type": "display_data"
    }
   ],
   "source": [
    "trplot( transl(1,2,3), frame='A', rviz=True, width=1)\n",
    "trplot( transl(3,1, 2), color='red', width=3, frame='B')\n",
    "trplot( transl(4, 3, 1)@trotx(np.pi/3), color='green', frame='c', dims=[0,4,0,4,0,4])"
   ]
  },
  {
   "cell_type": "markdown",
   "id": "64de166c",
   "metadata": {},
   "source": [
    "We can visualize a rotation more powerfully using the `tranimate` function which animates a rotation"
   ]
  },
  {
   "cell_type": "code",
   "execution_count": 31,
   "id": "e94f1713",
   "metadata": {},
   "outputs": [
    {
     "data": {
      "image/png": "[encoded data removed]",
      "text/plain": [
       "<Figure size 432x288 with 1 Axes>"
      ]
     },
     "metadata": {
      "needs_background": "light"
     },
     "output_type": "display_data"
    }
   ],
   "source": [
    "# Jupyter notebook cannot properly animate transformation matrices. \n",
    "# You must run it in PyCharm. \n",
    "T = transl(4, 3, 4)@trotx(2)@troty(-2)\n",
    "tranimate(T, frame='A', dims=[0, 5], nframes=200)"
   ]
  },
  {
   "cell_type": "markdown",
   "id": "dcd8625a",
   "metadata": {},
   "source": [
    "showing the world frame rotating into the specified coordinate frame.  You can also save the animation to a file by\n",
    "\n",
    "```Python\n",
    "tranimate(T, frame='A', dims=[0, 5], nframes=200, movie='out.mp4')\n",
    "```"
   ]
  },
  {
   "cell_type": "markdown",
   "id": "8393151a",
   "metadata": {},
   "source": [
    "## High-Level Spatial Math Functions\n",
    "\n",
    "\n",
    "The spatialmath package supports high-level classes that abstract the low-level numpy arrays into objects.  These objects obey the rules associated with the mathematical groups SO(2), SE(2), SO(3), SE(3), twists, and quaternioins.\n",
    "\n",
    "To create an object representing a rotation of 90 degrees about the x-axis is"
   ]
  },
  {
   "cell_type": "code",
   "execution_count": 33,
   "id": "7d3c0b3b",
   "metadata": {},
   "outputs": [
    {
     "name": "stdout",
     "output_type": "stream",
     "text": [
      "   1         0         0         \n",
      "   0         0        -1         \n",
      "   0         1         0         \n",
      "\n"
     ]
    }
   ],
   "source": [
    "import numpy as np\n",
    "from spatialmath import *  # import high-lelel spatialmath functions\n",
    "\n",
    "R1 = SO3.Rx(np.pi/2)\n",
    "print(R1)"
   ]
  },
  {
   "cell_type": "markdown",
   "id": "694b9227",
   "metadata": {},
   "source": [
    "The object type of R1 can be found by"
   ]
  },
  {
   "cell_type": "code",
   "execution_count": 34,
   "id": "3b8d1e8c",
   "metadata": {},
   "outputs": [
    {
     "data": {
      "text/plain": [
       "spatialmath.pose3d.SO3"
      ]
     },
     "execution_count": 34,
     "metadata": {},
     "output_type": "execute_result"
    }
   ],
   "source": [
    "type(R1)"
   ]
  },
  {
   "cell_type": "markdown",
   "id": "5d14a926",
   "metadata": {},
   "source": [
    "\n",
    "```{important} The objest returned by the **high-level** spatialmath functions are *not* numpy arrays.\n",
    "```\n",
    "\n",
    "\n",
    "\n",
    "The functions we used earlier, such as `rotx`, `roty`, `rotz`, `rpy2r`, returned the numpy `array` type. The compounding of rotations can be found by"
   ]
  },
  {
   "cell_type": "code",
   "execution_count": 36,
   "id": "aae3ae32",
   "metadata": {},
   "outputs": [
    {
     "name": "stdout",
     "output_type": "stream",
     "text": [
      "   0         0         1         \n",
      "   1         0         0         \n",
      "   0         1         0         \n",
      "\n"
     ]
    }
   ],
   "source": [
    "Rx = SO3.Rx(np.pi/2)\n",
    "Ry = SO3.Ry(np.pi/2)\n",
    "R = Rx * Ry    # We use * not @ for matrix multiplication for SO3 objects.\n",
    "print(R)"
   ]
  },
  {
   "cell_type": "markdown",
   "id": "16416c3d",
   "metadata": {},
   "source": [
    "Note that we use `*` for matrix multiplication. We can find the corresponding Euler angles"
   ]
  },
  {
   "cell_type": "code",
   "execution_count": 37,
   "id": "3a7d2451",
   "metadata": {},
   "outputs": [
    {
     "name": "stdout",
     "output_type": "stream",
     "text": [
      "[-0.00 90.00 90.00]\n",
      "[90.00 0.00 90.00]\n"
     ]
    }
   ],
   "source": [
    "float_formatter = \"{:.2f}\".format\n",
    "np.set_printoptions(formatter={'float_kind':float_formatter})\n",
    "print(R.eul('deg'))  # eul Returns ZYZ Euler angels\n",
    "print(R.rpy('deg'))  # Returnz"
   ]
  },
  {
   "cell_type": "markdown",
   "id": "d0f15a14",
   "metadata": {},
   "source": [
    "A pure translation in 3-D can be represented by"
   ]
  },
  {
   "cell_type": "code",
   "execution_count": 38,
   "id": "fb5b2608",
   "metadata": {},
   "outputs": [
    {
     "name": "stdout",
     "output_type": "stream",
     "text": [
      "   1         0         0         1         \n",
      "   0         1         0         2         \n",
      "   0         0         1         3         \n",
      "   0         0         0         1         \n",
      "\n"
     ]
    }
   ],
   "source": [
    "T = SE3(1,2,3)  # Special Euclidean group.\n",
    "print(T)"
   ]
  },
  {
   "cell_type": "markdown",
   "id": "c9ae86e6",
   "metadata": {},
   "source": [
    "which is a 4 by 4 matrix. A transformation matrix representing a translation followed by a rotation can be obtained by"
   ]
  },
  {
   "cell_type": "code",
   "execution_count": 39,
   "id": "2fd9dd86",
   "metadata": {},
   "outputs": [
    {
     "name": "stdout",
     "output_type": "stream",
     "text": [
      "   1         0         0         1         \n",
      "   0         0.866    -0.5       2         \n",
      "   0         0.5       0.866     3         \n",
      "   0         0         0         1         \n",
      "\n"
     ]
    }
   ],
   "source": [
    "T = SE3(1,2,3)*SE3.Rx(30, 'deg')\n",
    "print(T)"
   ]
  },
  {
   "cell_type": "markdown",
   "id": "bc3c7fda",
   "metadata": {},
   "source": [
    "A rotation followed by a translation in 3-D can be obtained by"
   ]
  },
  {
   "cell_type": "code",
   "execution_count": 40,
   "id": "d667c3d5",
   "metadata": {},
   "outputs": [
    {
     "name": "stdout",
     "output_type": "stream",
     "text": [
      "   1         0         0         1         \n",
      "   0         0.866    -0.5       0.2321    \n",
      "   0         0.5       0.866     3.598     \n",
      "   0         0         0         1         \n",
      "\n"
     ]
    }
   ],
   "source": [
    "T = SE3.Rx(30, 'deg')*SE3(1,2,3)\n",
    "print(T)"
   ]
  },
  {
   "cell_type": "markdown",
   "id": "7bac14df",
   "metadata": {},
   "source": [
    "which is different than a translation followed by a rotation. \n",
    "\n",
    "```{note}\n",
    "We used `SE3.Rx()` not `SO3.Rx()`.  `SE3.Rx()` returns a 4 by 4 SE(3) matrix whereas `SO3.Rx()` returns 3 by 3 SO(3) matrix.\n",
    "```\n",
    "\n",
    "We can print the pose (position and orientation) by"
   ]
  },
  {
   "cell_type": "code",
   "execution_count": 41,
   "id": "74ed2dd5",
   "metadata": {},
   "outputs": [
    {
     "name": "stdout",
     "output_type": "stream",
     "text": [
      "t = 1, 0.232, 3.6; rpy/zyx = 30°, 0°, 0°\n"
     ]
    }
   ],
   "source": [
    "T.printline()"
   ]
  },
  {
   "cell_type": "markdown",
   "id": "844ba001",
   "metadata": {},
   "source": [
    "```{hint}\n",
    "Do not use `print(T) if you want to print the pose.  Instead, use `T.printline()`.  You still need to use `print(T)` to print the transformation matrix.\n",
    "```\n",
    "\n",
    "\n",
    "\n",
    "We can plot the transformation by"
   ]
  },
  {
   "cell_type": "code",
   "execution_count": 42,
   "id": "47d27d09",
   "metadata": {},
   "outputs": [
    {
     "data": {
      "image/png": "[encoded data removed]",
      "text/plain": [
       "<Figure size 432x288 with 1 Axes>"
      ]
     },
     "metadata": {
      "needs_background": "light"
     },
     "output_type": "display_data"
    }
   ],
   "source": [
    "T.plot()"
   ]
  },
  {
   "cell_type": "markdown",
   "id": "06176655",
   "metadata": {},
   "source": [
    "```{tip}\n",
    "You can find the class/function references of the spatial maths package [here](https://petercorke.github.io/spatialmath-python/)\n",
    "```"
   ]
  },
  {
   "cell_type": "markdown",
   "id": "4181df61",
   "metadata": {},
   "source": [
    "## Deliverables\n",
    "Create a folder named Lab1 in which you add exercise1.py, exercise2.py, and so on for the following exercises. \n",
    "\n",
    "**Submit your code to Bitbucket and provide the outputs in Gradescope.**"
   ]
  },
  {
   "cell_type": "markdown",
   "id": "b7514dc7",
   "metadata": {},
   "source": [
    "### Exercise 1\n",
    "Using the ZYX Euler angles, find the rotation matrix $R_{ZYX}(\\psi,\\theta,\\phi)$ for $\\psi=45^\\circ, \\theta=60^\\circ, \\phi=45^\\circ$.\n",
    "\n",
    "(i) Use low-level spatial math functions to find $R_{ZYX}$ and the Euler angles from $R_{ZYX}$.\n",
    "\n",
    "(ii) Use high-level spatial math functions to find $R_{ZYX}$ and the Euler angles from $R_{ZYX}$.\n",
    "\n",
    "Did you get the same Euler angels, $\\psi$, $\\theta$, and $\\phi$?  If not, explain why.  "
   ]
  },
  {
   "cell_type": "markdown",
   "id": "608222b3",
   "metadata": {},
   "source": [
    "### Exercise 2\n",
    "Using the ZYX Euler angles, find the rotation matrix $R_{ZYX}(\\psi,\\theta,\\phi)$ for $\\psi=45^\\circ, \\theta=90^\\circ, \\phi=45^\\circ$. \n",
    "\n",
    "(i) Use low-level spatial math functions to find $R_{ZYX}$ and the Euler angles from $R_{ZYX}$.\n",
    "\n",
    "(ii) Use high-level spatial math functions to find $R_{ZYX}$ and the Euler angles from $R_{ZYX}$.\n",
    "\n",
    "Did you get the same Euler angels, $\\psi$, $\\theta$, and $\\phi$?  If not, explain why.  "
   ]
  },
  {
   "cell_type": "markdown",
   "id": "3d870553",
   "metadata": {},
   "source": [
    "### Exercise 3\n",
    "Find $\\phi$, $\\theta$, and $\\psi$ for YZY Euler angles, $R=R_Y(\\phi)R_Z(\\theta)R_Y(\\psi)$, that generate the blue frame shown in figure below.  The blue frame has been rotated with respect to the black frame.  Use SE3.Rx, SE3.Ry and SE3.Rz.\n",
    "\n",
    "\n",
    "```{image} ./figures/SpatialMath_Ex3.png\n",
    ":width: 460\n",
    ":align: center\n",
    "```\n",
    "\n",
    "\n",
    "Use the following code snippet."
   ]
  },
  {
   "cell_type": "code",
   "execution_count": null,
   "id": "4653986a",
   "metadata": {},
   "outputs": [],
   "source": [
    "from spatialmath.base import *\n",
    "from spatialmath import *\n",
    "import matplotlib.pyplot as plt\n",
    "\n",
    "# add your code here.\n",
    "\n",
    "\n",
    "\n",
    "\n",
    "\n",
    "print(T)\n",
    "T.printline()\n",
    "T.plot()\n",
    "plotvol3([-2, 2, -2, 2, -2, 2], grid=True)\n",
    "plt.show()\n"
   ]
  }
 ],
 "metadata": {
  "kernelspec": {
   "display_name": "Python 3 (ipykernel)",
   "language": "python",
   "name": "python3"
  },
  "language_info": {
   "codemirror_mode": {
    "name": "ipython",
    "version": 3
   },
   "file_extension": ".py",
   "mimetype": "text/x-python",
   "name": "python",
   "nbconvert_exporter": "python",
   "pygments_lexer": "ipython3",
   "version": "3.9.7"
  }
 },
 "nbformat": 4,
 "nbformat_minor": 5
}
