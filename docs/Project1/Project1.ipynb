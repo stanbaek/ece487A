{
 "cells": [
  {
   "cell_type": "markdown",
   "id": "aecaa918",
   "metadata": {},
   "source": [
    "# ECE387 Project 1: Inverse Kinematics\n",
    "### A note on this document\n",
    "This document is known as a Jupyter notebook; it is used in academia and industry to allow text and executable code to coexist in a very easy to read format. Blocks can contain text or code, and for blocks containing code, press `Shift + Enter` to run the code. Earlier blocks of code need to be run for the later blocks of code to work."
   ]
  },
  {
   "cell_type": "markdown",
   "id": "b3330d45",
   "metadata": {},
   "source": [
    "### Objectives\n",
    "The purpose of this project is to compare the theoretical solution to the inverse kinematics with a physical implementation on the 5 DoF robotic arm shown below.  \n",
    "\n",
    "<img src=\"figs/xArm.jpg\" alt=\"Drawing\" style=\"width: 300px;\"/>\n",
    "\n",
    "In this project, you will  \n",
    "- Parameterize the robotic arm following the Denavit-Hartenberg (DH) convention.\n",
    "- Use Python to find the closed-form solutions to the inverse kinematic equations for the robot.\n",
    "- Write a Python script that moves the robotic arm to configurations specified by the user."
   ]
  },
  {
   "cell_type": "markdown",
   "id": "f1c05334",
   "metadata": {},
   "source": [
    "### Inverse kinematics of 5 DoF robotic arm\n",
    "\n",
    "Use the schematic diagram shown in the figure below to find the forward kinematics of the robotic manipulator. \n",
    "\n",
    "<img src=\"figs/xArm.png\" alt=\"Drawing\" style=\"width: 600px;\"/>"
   ]
  },
  {
   "cell_type": "markdown",
   "id": "87a1203b",
   "metadata": {},
   "source": [
    "Use Python to create an instance of the robotic arm. You need to use your DH table to create a `DHRobot` object.  Since XArm is a subclass of `DHRobot`, you can use all the methods and properties defined in `DHRobot`, such as `fkine`.   \n",
    "\n",
    "**Note:** Frame {6} has been removed and replaced with Frame {5} because of a bug in robotics-toolbox.  It cannot plot the last link correctly if you use `robot.tool = SE3([0, 0, L4])`\n",
    "\n",
    "Use the following values for B0, L1, L2, L3, and L4. "
   ]
  },
  {
   "cell_type": "code",
   "execution_count": 2,
   "id": "ab3fab62",
   "metadata": {},
   "outputs": [],
   "source": [
    "def __init__(self, simulation_only=False):\n",
    "\n",
    "    self.B0 = 0.090\n",
    "    self.L1 = 0.010\n",
    "    self.L2 = 0.105\n",
    "    self.L3 = 0.088\n",
    "    self.L4 = 0.174\n",
    "\n",
    "    super().__init__(\n",
    "        [rbt.RevoluteMDH(d=self.B0),\n",
    "         \"\"\"\n",
    "         write your code here\n",
    "         \"\"\"\n",
    "         ],\n",
    "        name=\"xArm\"\n",
    "    )\n",
    "    \n",
    "    # Do not use \n",
    "    # self.tool = SE3([...]) \n",
    "    # The built-in plot method won't be able to plot Link 4."
   ]
  },
  {
   "cell_type": "markdown",
   "id": "1b5034bb",
   "metadata": {},
   "source": [
    "###\tProject Checkpoint 1 (25 points), Due T29 0700\n",
    "\n",
    "Demo `test_inverse_kinematics( )` with `simulation_only=False`\n",
    "\n",
    "In your `invkine()`, you must check the operating ranges of joint angles and should not return solutions that violate the oerating ranges. You can add the following two lines inside your constructor (`def __init__(...)`) and create a function that checks the ranges before returning from `invkine()`.\n",
    "\n",
    "``` \n",
    "self.max_joint_angle = (pi/2, pi, pi/4, pi/2, pi/2)\n",
    "self.min_joint_angle = (-pi/2, 0, -3*pi/4, -pi/2, -pi/2)\n",
    "```"
   ]
  },
  {
   "cell_type": "code",
   "execution_count": 4,
   "id": "528fe401",
   "metadata": {},
   "outputs": [],
   "source": [
    "def test_inverse_kinematics():\n",
    "\n",
    "    robot = XArm(simulation_only=False)\n",
    "    robot.connect()\n",
    "    duration_ms = 2000\n",
    "    robot.move_to_initial_pose(duration_ms)\n",
    "\n",
    "    poses = list()\n",
    "\n",
    "    poses.append([robot.L1, 0, robot.L2 + robot.L3 + robot.L4 + robot.B0, pi/2, 0])\n",
    "    poses.append([robot.L1 + robot.L2 + robot.L3, 0, robot.L4 + robot.B0, pi/2, 0])\n",
    "    poses.append([robot.L1 + robot.L2 + robot.L3 + robot.L4, 0, robot.B0, 0, 0])\n",
    "    poses.append([robot.L1 + robot.L2 + robot.L3 + robot.L4, 0, robot.B0, 0, pi/4])\n",
    "    poses.append([(robot.L1 + robot.L3 + robot.L4) * np.cos(np.deg2rad(45)),\n",
    "                  (robot.L1 + robot.L3 + robot.L4) * np.sin(np.deg2rad(45)),\n",
    "                  robot.L2 + robot.B0, 0, 0])\n",
    "    poses.append([(robot.L1 + robot.L3 + robot.L4) * np.cos(np.deg2rad(-45)),\n",
    "                  (robot.L1 + robot.L3 + robot.L4) * np.sin(np.deg2rad(-45)),\n",
    "                  robot.L2 + robot.B0, 0, pi/4])\n",
    "    poses.append([(robot.L1 + robot.L3 + robot.L4) * np.cos(np.deg2rad(-45)),\n",
    "                  (robot.L1 + robot.L3 + robot.L4) * np.sin(np.deg2rad(-45)),\n",
    "                  robot.L2 + robot.B0, 0, -pi/4])\n",
    "    poses.append([(robot.L1 + robot.L3 + robot.L4) * np.cos(np.deg2rad(60)),\n",
    "                  (robot.L1 + robot.L3 + robot.L4) * np.sin(np.deg2rad(60)),\n",
    "                  robot.L2 + robot.B0, 0, 0])\n",
    "    poses.append([0, robot.L1 + robot.L2 + robot.L3 + robot.L4, robot.B0, 0, 0])\n",
    "    poses.append([robot.L1, 0, robot.L2 + robot.L3 + robot.L4 + robot.B0, pi/2, 0])\n",
    "    poses.append([0, -(robot.L1 + robot.L2 + robot.L3 + robot.L4), robot.B0, 0, 0])\n",
    "    poses.append([0, 0, robot.B0, -pi/2, 0])\n",
    "    poses.append([0.16, 0.16,  0.23, 0, 0])\n",
    "    poses.append([0.16, -0.16,  0.23, 0, 0])\n",
    "    poses.append([0, 0.16,  0.27, 0, 0])\n",
    "    poses.append([0, -0.16,  0.27, 0, 0])\n",
    "    poses.append([0, 0,  0.45, pi/2, 0])\n",
    "    poses.append([0, 0,  0.35, pi/2, 0])\n",
    "    \n",
    "\n",
    "    poses = np.array(poses)\n",
    "    axes_limits = [-0.38, 0.38, -0.38, 0.38, 0, 0.47]\n",
    "    np.set_printoptions(precision=3, suppress=True)\n",
    "\n",
    "    for pose in poses:\n",
    "        print(\"Desired pose: \", pose[0:3], pose[3:] * 180 / pi)\n",
    "        joint_angles = robot.invkine(pose)\n",
    "\n",
    "        if joint_angles is not None:\n",
    "            print(np.rad2deg(joint_angles))\n",
    "\n",
    "            for angles in joint_angles:\n",
    "                T = robot.fkine(angles)\n",
    "                T.printline(orient='eul')\n",
    "                robot.move_joints(duration_ms, angles)\n",
    "                robot.plot(angles, limits=axes_limits, block=True)\n",
    "\n",
    "    robot.disconnect()\n"
   ]
  },
  {
   "cell_type": "markdown",
   "id": "a1a81581",
   "metadata": {},
   "source": [
    "### Project Checkpoint 2 (25 points), Due T29 0700\n",
    "\n",
    "Write a Python script that moves a cube located at (25, 0, 0) to (20, 16, 0) and demo your robot moving the cube.  You must use the inverse kinematics, not the forward kinematics with pre-calculated joint angles.  You may be asked to move the cube from a difference location. \n",
    "\n",
    "Add the following lines in your constructor\n",
    "```\n",
    "        self.gripper_close_pos = 2200   # close position\n",
    "        self.gripper_open_pos = 1700  # open position\n",
    "        self.plot_axes_limits = [-0.38, 0.38, -0.38, 0.38, 0, 0.47]\n",
    "        \n",
    "```\n",
    "\n",
    "Add the following methods inside `class XArm(rbt.DHRobot)`.  You can use them as needed.  \n",
    "\n",
    "```\n",
    "    def moveto(self, duration_ms, pose, wait=True, plot=False):\n",
    "        \"\"\" Moves the tooltip to the specified pose.\n",
    "        :param duration_ms: time in milliseconds to travel from the current\n",
    "        position to the desired position.\n",
    "        :param pose: 1x5 array of the pose of the tooltip.\n",
    "        The first three elements are the position of the tooltip,\n",
    "        and the last two elements are the wrist angles.\n",
    "        :param wait: If true, sleep for duration_ms until the move is complete.\n",
    "        :param plot: If true, plot the robot.\n",
    "        :return: None\n",
    "        \"\"\"\n",
    "\n",
    "        joint_angles = self.invkine(pose)\n",
    "\n",
    "        if joint_angles is None:\n",
    "            print(\"No solution to inverse kinematics for \", pose)\n",
    "        else:\n",
    "            self.move_joints(duration_ms, joint_angles[0, :], wait=wait)\n",
    "            if plot:\n",
    "                self.plot(joint_angles, limits=self.plot_axes_limits, block=True)\n",
    "\n",
    "    def open_gripper(self, duration_ms, wait=True):\n",
    "        self.move_gripper(duration_ms, self.gripper_open_pos, wait)\n",
    "\n",
    "    def close_gripper(self, duration_ms, wait=True):\n",
    "        self.move_gripper(duration_ms, self.gripper_close_pos, wait)\n",
    "\n",
    "    def move_gripper(self, duration_ms, position, wait=True):\n",
    "\n",
    "        packet = bytearray(XArm.HEADER)\n",
    "        num_bytes = 5 + 3  # byte length + CMD + num_servos + time duration (2) + servo positions\n",
    "        packet.append(num_bytes)\n",
    "        packet.append(XArm.COMMAND)\n",
    "        packet.append(1)    # only one servo\n",
    "        packet.append(duration_ms & 0xff)\n",
    "        packet.append((duration_ms >> 8) & 0xff)\n",
    "        packet.append(6)  # servo 6: gripper\n",
    "        packet.append(position & 0xff)\n",
    "        packet.append((position >> 8) & 0xff)\n",
    "\n",
    "        self.send_command(packet)\n",
    "        if wait:\n",
    "            sleep(duration_ms/1000)\n",
    "```\n",
    "\n"
   ]
  },
  {
   "cell_type": "markdown",
   "id": "2501b7ac",
   "metadata": {},
   "source": [
    "### Project Checkpoint 3 (50 points), Due T30 1700\n",
    "\n",
    "Write a Python script that moves a stack of five cubes located at (23, -15, 0) to (23, 15, 0) and demo your robot moving the cubes.  You must use the inverse kinematics, not the forward kinematics with pre-calculated joint angles.  You may be asked to move the cube from a difference location. "
   ]
  },
  {
   "cell_type": "code",
   "execution_count": null,
   "id": "468f61ca",
   "metadata": {},
   "outputs": [],
   "source": []
  },
  {
   "cell_type": "code",
   "execution_count": null,
   "id": "a3ffb350",
   "metadata": {},
   "outputs": [],
   "source": []
  }
 ],
 "metadata": {
  "kernelspec": {
<<<<<<< Updated upstream
   "display_name": "Python 3",
=======
   "display_name": "Python 3 (ipykernel)",
>>>>>>> Stashed changes
   "language": "python",
   "name": "python3"
  },
  "language_info": {
   "codemirror_mode": {
    "name": "ipython",
    "version": 3
   },
   "file_extension": ".py",
   "mimetype": "text/x-python",
   "name": "python",
   "nbconvert_exporter": "python",
   "pygments_lexer": "ipython3",
<<<<<<< Updated upstream
   "version": "3.8.8"
=======
   "version": "3.8.2"
>>>>>>> Stashed changes
  }
 },
 "nbformat": 4,
 "nbformat_minor": 5
}
